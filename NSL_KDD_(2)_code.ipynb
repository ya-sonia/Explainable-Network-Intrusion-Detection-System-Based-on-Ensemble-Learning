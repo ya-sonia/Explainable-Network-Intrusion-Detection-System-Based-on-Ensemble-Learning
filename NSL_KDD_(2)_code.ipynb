{
  "cells": [
    {
      "cell_type": "markdown",
      "metadata": {
        "id": "f9yJIFnbTy0w"
      },
      "source": [
        "**Evaluate on NSL-KDD Dataset**"
      ]
    },
    {
      "cell_type": "code",
      "execution_count": null,
      "metadata": {
        "id": "IRvpWhmK3_kS"
      },
      "outputs": [],
      "source": [
        "import pandas as pd\n",
        "import numpy as np\n",
        "import seaborn as sns\n",
        "import matplotlib.pyplot as plt\n",
        "from sklearn.preprocessing import LabelEncoder\n",
        "from sklearn.preprocessing import StandardScaler, MinMaxScaler\n",
        "from sklearn.model_selection import train_test_split\n",
        "from sklearn.metrics import accuracy_score"
      ]
    },
    {
      "cell_type": "code",
      "execution_count": null,
      "metadata": {
        "id": "WW9Cs08f4DEr"
      },
      "outputs": [],
      "source": [
        "train= pd.read_csv('C:\\\\Users\\\\moham\\\\OneDrive\\\\Desktop\\\\dataset\\\\NSL-KDD\\\\KDDTrain+.txt\\\\KDDTrain+.txt',header=None)\n",
        "test= pd.read_csv('C:\\\\Users\\\\moham\\\\OneDrive\\\\Desktop\\\\dataset\\\\NSL-KDD\\\\KDDTest+.txt\\\\KDDTest+.txt',header=None)"
      ]
    },
    {
      "cell_type": "code",
      "execution_count": null,
      "metadata": {
        "id": "ouXNlSGZ4Xeq"
      },
      "outputs": [],
      "source": [
        "train_rows = train.shape[0]"
      ]
    },
    {
      "cell_type": "code",
      "execution_count": null,
      "metadata": {
        "colab": {
          "base_uri": "https://localhost:8080/"
        },
        "id": "_Ow4gV1k476b",
        "outputId": "f19da164-98fc-4068-f24f-3499adf662b2"
      },
      "outputs": [
        {
          "data": {
            "text/plain": [
              "125973"
            ]
          },
          "execution_count": 6,
          "metadata": {},
          "output_type": "execute_result"
        }
      ],
      "source": [
        "train_rows"
      ]
    },
    {
      "cell_type": "code",
      "execution_count": null,
      "metadata": {
        "colab": {
          "base_uri": "https://localhost:8080/",
          "height": 235
        },
        "id": "H0I4S0y54DBx",
        "outputId": "147c38d0-0231-4b91-bf65-7a8193a5453f"
      },
      "outputs": [
        {
          "data": {
            "text/html": [
              "<div>\n",
              "<style scoped>\n",
              "    .dataframe tbody tr th:only-of-type {\n",
              "        vertical-align: middle;\n",
              "    }\n",
              "\n",
              "    .dataframe tbody tr th {\n",
              "        vertical-align: top;\n",
              "    }\n",
              "\n",
              "    .dataframe thead th {\n",
              "        text-align: right;\n",
              "    }\n",
              "</style>\n",
              "<table border=\"1\" class=\"dataframe\">\n",
              "  <thead>\n",
              "    <tr style=\"text-align: right;\">\n",
              "      <th></th>\n",
              "      <th>0</th>\n",
              "      <th>1</th>\n",
              "      <th>2</th>\n",
              "      <th>3</th>\n",
              "      <th>4</th>\n",
              "      <th>5</th>\n",
              "      <th>6</th>\n",
              "      <th>7</th>\n",
              "      <th>8</th>\n",
              "      <th>9</th>\n",
              "      <th>...</th>\n",
              "      <th>33</th>\n",
              "      <th>34</th>\n",
              "      <th>35</th>\n",
              "      <th>36</th>\n",
              "      <th>37</th>\n",
              "      <th>38</th>\n",
              "      <th>39</th>\n",
              "      <th>40</th>\n",
              "      <th>41</th>\n",
              "      <th>42</th>\n",
              "    </tr>\n",
              "  </thead>\n",
              "  <tbody>\n",
              "    <tr>\n",
              "      <th>0</th>\n",
              "      <td>0</td>\n",
              "      <td>tcp</td>\n",
              "      <td>ftp_data</td>\n",
              "      <td>SF</td>\n",
              "      <td>491</td>\n",
              "      <td>0</td>\n",
              "      <td>0</td>\n",
              "      <td>0</td>\n",
              "      <td>0</td>\n",
              "      <td>0</td>\n",
              "      <td>...</td>\n",
              "      <td>0.17</td>\n",
              "      <td>0.03</td>\n",
              "      <td>0.17</td>\n",
              "      <td>0.00</td>\n",
              "      <td>0.00</td>\n",
              "      <td>0.00</td>\n",
              "      <td>0.05</td>\n",
              "      <td>0.00</td>\n",
              "      <td>normal</td>\n",
              "      <td>20</td>\n",
              "    </tr>\n",
              "    <tr>\n",
              "      <th>1</th>\n",
              "      <td>0</td>\n",
              "      <td>udp</td>\n",
              "      <td>other</td>\n",
              "      <td>SF</td>\n",
              "      <td>146</td>\n",
              "      <td>0</td>\n",
              "      <td>0</td>\n",
              "      <td>0</td>\n",
              "      <td>0</td>\n",
              "      <td>0</td>\n",
              "      <td>...</td>\n",
              "      <td>0.00</td>\n",
              "      <td>0.60</td>\n",
              "      <td>0.88</td>\n",
              "      <td>0.00</td>\n",
              "      <td>0.00</td>\n",
              "      <td>0.00</td>\n",
              "      <td>0.00</td>\n",
              "      <td>0.00</td>\n",
              "      <td>normal</td>\n",
              "      <td>15</td>\n",
              "    </tr>\n",
              "    <tr>\n",
              "      <th>2</th>\n",
              "      <td>0</td>\n",
              "      <td>tcp</td>\n",
              "      <td>private</td>\n",
              "      <td>S0</td>\n",
              "      <td>0</td>\n",
              "      <td>0</td>\n",
              "      <td>0</td>\n",
              "      <td>0</td>\n",
              "      <td>0</td>\n",
              "      <td>0</td>\n",
              "      <td>...</td>\n",
              "      <td>0.10</td>\n",
              "      <td>0.05</td>\n",
              "      <td>0.00</td>\n",
              "      <td>0.00</td>\n",
              "      <td>1.00</td>\n",
              "      <td>1.00</td>\n",
              "      <td>0.00</td>\n",
              "      <td>0.00</td>\n",
              "      <td>neptune</td>\n",
              "      <td>19</td>\n",
              "    </tr>\n",
              "    <tr>\n",
              "      <th>3</th>\n",
              "      <td>0</td>\n",
              "      <td>tcp</td>\n",
              "      <td>http</td>\n",
              "      <td>SF</td>\n",
              "      <td>232</td>\n",
              "      <td>8153</td>\n",
              "      <td>0</td>\n",
              "      <td>0</td>\n",
              "      <td>0</td>\n",
              "      <td>0</td>\n",
              "      <td>...</td>\n",
              "      <td>1.00</td>\n",
              "      <td>0.00</td>\n",
              "      <td>0.03</td>\n",
              "      <td>0.04</td>\n",
              "      <td>0.03</td>\n",
              "      <td>0.01</td>\n",
              "      <td>0.00</td>\n",
              "      <td>0.01</td>\n",
              "      <td>normal</td>\n",
              "      <td>21</td>\n",
              "    </tr>\n",
              "    <tr>\n",
              "      <th>4</th>\n",
              "      <td>0</td>\n",
              "      <td>tcp</td>\n",
              "      <td>http</td>\n",
              "      <td>SF</td>\n",
              "      <td>199</td>\n",
              "      <td>420</td>\n",
              "      <td>0</td>\n",
              "      <td>0</td>\n",
              "      <td>0</td>\n",
              "      <td>0</td>\n",
              "      <td>...</td>\n",
              "      <td>1.00</td>\n",
              "      <td>0.00</td>\n",
              "      <td>0.00</td>\n",
              "      <td>0.00</td>\n",
              "      <td>0.00</td>\n",
              "      <td>0.00</td>\n",
              "      <td>0.00</td>\n",
              "      <td>0.00</td>\n",
              "      <td>normal</td>\n",
              "      <td>21</td>\n",
              "    </tr>\n",
              "  </tbody>\n",
              "</table>\n",
              "<p>5 rows × 43 columns</p>\n",
              "</div>"
            ],
            "text/plain": [
              "   0    1         2   3    4     5   6   7   8   9   ...    33    34    35  \\\n",
              "0   0  tcp  ftp_data  SF  491     0   0   0   0   0  ...  0.17  0.03  0.17   \n",
              "1   0  udp     other  SF  146     0   0   0   0   0  ...  0.00  0.60  0.88   \n",
              "2   0  tcp   private  S0    0     0   0   0   0   0  ...  0.10  0.05  0.00   \n",
              "3   0  tcp      http  SF  232  8153   0   0   0   0  ...  1.00  0.00  0.03   \n",
              "4   0  tcp      http  SF  199   420   0   0   0   0  ...  1.00  0.00  0.00   \n",
              "\n",
              "     36    37    38    39    40       41  42  \n",
              "0  0.00  0.00  0.00  0.05  0.00   normal  20  \n",
              "1  0.00  0.00  0.00  0.00  0.00   normal  15  \n",
              "2  0.00  1.00  1.00  0.00  0.00  neptune  19  \n",
              "3  0.04  0.03  0.01  0.00  0.01   normal  21  \n",
              "4  0.00  0.00  0.00  0.00  0.00   normal  21  \n",
              "\n",
              "[5 rows x 43 columns]"
            ]
          },
          "execution_count": 7,
          "metadata": {},
          "output_type": "execute_result"
        }
      ],
      "source": [
        "train.head()"
      ]
    },
    {
      "cell_type": "code",
      "execution_count": null,
      "metadata": {
        "colab": {
          "base_uri": "https://localhost:8080/",
          "height": 235
        },
        "id": "3IXLcMp_4C_b",
        "outputId": "ecdf8de0-d87c-4065-f184-0b66c71312c6"
      },
      "outputs": [
        {
          "data": {
            "text/html": [
              "<div>\n",
              "<style scoped>\n",
              "    .dataframe tbody tr th:only-of-type {\n",
              "        vertical-align: middle;\n",
              "    }\n",
              "\n",
              "    .dataframe tbody tr th {\n",
              "        vertical-align: top;\n",
              "    }\n",
              "\n",
              "    .dataframe thead th {\n",
              "        text-align: right;\n",
              "    }\n",
              "</style>\n",
              "<table border=\"1\" class=\"dataframe\">\n",
              "  <thead>\n",
              "    <tr style=\"text-align: right;\">\n",
              "      <th></th>\n",
              "      <th>0</th>\n",
              "      <th>1</th>\n",
              "      <th>2</th>\n",
              "      <th>3</th>\n",
              "      <th>4</th>\n",
              "      <th>5</th>\n",
              "      <th>6</th>\n",
              "      <th>7</th>\n",
              "      <th>8</th>\n",
              "      <th>9</th>\n",
              "      <th>...</th>\n",
              "      <th>33</th>\n",
              "      <th>34</th>\n",
              "      <th>35</th>\n",
              "      <th>36</th>\n",
              "      <th>37</th>\n",
              "      <th>38</th>\n",
              "      <th>39</th>\n",
              "      <th>40</th>\n",
              "      <th>41</th>\n",
              "      <th>42</th>\n",
              "    </tr>\n",
              "  </thead>\n",
              "  <tbody>\n",
              "    <tr>\n",
              "      <th>0</th>\n",
              "      <td>0</td>\n",
              "      <td>tcp</td>\n",
              "      <td>private</td>\n",
              "      <td>REJ</td>\n",
              "      <td>0</td>\n",
              "      <td>0</td>\n",
              "      <td>0</td>\n",
              "      <td>0</td>\n",
              "      <td>0</td>\n",
              "      <td>0</td>\n",
              "      <td>...</td>\n",
              "      <td>0.04</td>\n",
              "      <td>0.06</td>\n",
              "      <td>0.00</td>\n",
              "      <td>0.00</td>\n",
              "      <td>0.0</td>\n",
              "      <td>0.0</td>\n",
              "      <td>1.00</td>\n",
              "      <td>1.00</td>\n",
              "      <td>neptune</td>\n",
              "      <td>21</td>\n",
              "    </tr>\n",
              "    <tr>\n",
              "      <th>1</th>\n",
              "      <td>0</td>\n",
              "      <td>tcp</td>\n",
              "      <td>private</td>\n",
              "      <td>REJ</td>\n",
              "      <td>0</td>\n",
              "      <td>0</td>\n",
              "      <td>0</td>\n",
              "      <td>0</td>\n",
              "      <td>0</td>\n",
              "      <td>0</td>\n",
              "      <td>...</td>\n",
              "      <td>0.00</td>\n",
              "      <td>0.06</td>\n",
              "      <td>0.00</td>\n",
              "      <td>0.00</td>\n",
              "      <td>0.0</td>\n",
              "      <td>0.0</td>\n",
              "      <td>1.00</td>\n",
              "      <td>1.00</td>\n",
              "      <td>neptune</td>\n",
              "      <td>21</td>\n",
              "    </tr>\n",
              "    <tr>\n",
              "      <th>2</th>\n",
              "      <td>2</td>\n",
              "      <td>tcp</td>\n",
              "      <td>ftp_data</td>\n",
              "      <td>SF</td>\n",
              "      <td>12983</td>\n",
              "      <td>0</td>\n",
              "      <td>0</td>\n",
              "      <td>0</td>\n",
              "      <td>0</td>\n",
              "      <td>0</td>\n",
              "      <td>...</td>\n",
              "      <td>0.61</td>\n",
              "      <td>0.04</td>\n",
              "      <td>0.61</td>\n",
              "      <td>0.02</td>\n",
              "      <td>0.0</td>\n",
              "      <td>0.0</td>\n",
              "      <td>0.00</td>\n",
              "      <td>0.00</td>\n",
              "      <td>normal</td>\n",
              "      <td>21</td>\n",
              "    </tr>\n",
              "    <tr>\n",
              "      <th>3</th>\n",
              "      <td>0</td>\n",
              "      <td>icmp</td>\n",
              "      <td>eco_i</td>\n",
              "      <td>SF</td>\n",
              "      <td>20</td>\n",
              "      <td>0</td>\n",
              "      <td>0</td>\n",
              "      <td>0</td>\n",
              "      <td>0</td>\n",
              "      <td>0</td>\n",
              "      <td>...</td>\n",
              "      <td>1.00</td>\n",
              "      <td>0.00</td>\n",
              "      <td>1.00</td>\n",
              "      <td>0.28</td>\n",
              "      <td>0.0</td>\n",
              "      <td>0.0</td>\n",
              "      <td>0.00</td>\n",
              "      <td>0.00</td>\n",
              "      <td>saint</td>\n",
              "      <td>15</td>\n",
              "    </tr>\n",
              "    <tr>\n",
              "      <th>4</th>\n",
              "      <td>1</td>\n",
              "      <td>tcp</td>\n",
              "      <td>telnet</td>\n",
              "      <td>RSTO</td>\n",
              "      <td>0</td>\n",
              "      <td>15</td>\n",
              "      <td>0</td>\n",
              "      <td>0</td>\n",
              "      <td>0</td>\n",
              "      <td>0</td>\n",
              "      <td>...</td>\n",
              "      <td>0.31</td>\n",
              "      <td>0.17</td>\n",
              "      <td>0.03</td>\n",
              "      <td>0.02</td>\n",
              "      <td>0.0</td>\n",
              "      <td>0.0</td>\n",
              "      <td>0.83</td>\n",
              "      <td>0.71</td>\n",
              "      <td>mscan</td>\n",
              "      <td>11</td>\n",
              "    </tr>\n",
              "  </tbody>\n",
              "</table>\n",
              "<p>5 rows × 43 columns</p>\n",
              "</div>"
            ],
            "text/plain": [
              "   0     1         2     3      4   5   6   7   8   9   ...    33    34    35  \\\n",
              "0   0   tcp   private   REJ      0   0   0   0   0   0  ...  0.04  0.06  0.00   \n",
              "1   0   tcp   private   REJ      0   0   0   0   0   0  ...  0.00  0.06  0.00   \n",
              "2   2   tcp  ftp_data    SF  12983   0   0   0   0   0  ...  0.61  0.04  0.61   \n",
              "3   0  icmp     eco_i    SF     20   0   0   0   0   0  ...  1.00  0.00  1.00   \n",
              "4   1   tcp    telnet  RSTO      0  15   0   0   0   0  ...  0.31  0.17  0.03   \n",
              "\n",
              "     36   37   38    39    40       41  42  \n",
              "0  0.00  0.0  0.0  1.00  1.00  neptune  21  \n",
              "1  0.00  0.0  0.0  1.00  1.00  neptune  21  \n",
              "2  0.02  0.0  0.0  0.00  0.00   normal  21  \n",
              "3  0.28  0.0  0.0  0.00  0.00    saint  15  \n",
              "4  0.02  0.0  0.0  0.83  0.71    mscan  11  \n",
              "\n",
              "[5 rows x 43 columns]"
            ]
          },
          "execution_count": 8,
          "metadata": {},
          "output_type": "execute_result"
        }
      ],
      "source": [
        "test.head()"
      ]
    },
    {
      "cell_type": "code",
      "execution_count": null,
      "metadata": {
        "id": "gNmFvGVx4C8e"
      },
      "outputs": [],
      "source": [
        "columns = (['duration','protocol_type','service','flag',\n",
        "'src_bytes','dst_bytes','land','wrong_fragment','urgent','hot'\n",
        ",'num_failed_logins','logged_in','num_compromised','root_shell','su_attempted','num_root',\n",
        "'num_file_creations','num_shells','num_access_files','num_outbound_cmds',\n",
        "'is_host_login','is_guest_login','count','srv_count','serror_rate','srv_serror_rate',\n",
        "'rerror_rate','srv_rerror_rate','same_srv_rate','diff_srv_rate','srv_diff_host_rate',\n",
        "'dst_host_count','dst_host_srv_count','dst_host_same_srv_rate','dst_host_diff_srv_rate',\n",
        "'dst_host_same_src_port_rate','dst_host_srv_diff_host_rate','dst_host_serror_rate'\n",
        ",'dst_host_srv_serror_rate','dst_host_rerror_rate','dst_host_srv_rerror_rate',\n",
        "'attack','level'])"
      ]
    },
    {
      "cell_type": "code",
      "execution_count": null,
      "metadata": {
        "id": "xvovVmSb4C5t"
      },
      "outputs": [],
      "source": [
        "train.columns=columns\n",
        "test.columns=columns"
      ]
    },
    {
      "cell_type": "code",
      "execution_count": null,
      "metadata": {
        "colab": {
          "base_uri": "https://localhost:8080/",
          "height": 255
        },
        "id": "nVeov6KY4C2_",
        "outputId": "6c0773b4-18ef-4f3f-e6b3-e3dbc57ed539"
      },
      "outputs": [
        {
          "data": {
            "text/html": [
              "<div>\n",
              "<style scoped>\n",
              "    .dataframe tbody tr th:only-of-type {\n",
              "        vertical-align: middle;\n",
              "    }\n",
              "\n",
              "    .dataframe tbody tr th {\n",
              "        vertical-align: top;\n",
              "    }\n",
              "\n",
              "    .dataframe thead th {\n",
              "        text-align: right;\n",
              "    }\n",
              "</style>\n",
              "<table border=\"1\" class=\"dataframe\">\n",
              "  <thead>\n",
              "    <tr style=\"text-align: right;\">\n",
              "      <th></th>\n",
              "      <th>duration</th>\n",
              "      <th>protocol_type</th>\n",
              "      <th>service</th>\n",
              "      <th>flag</th>\n",
              "      <th>src_bytes</th>\n",
              "      <th>dst_bytes</th>\n",
              "      <th>land</th>\n",
              "      <th>wrong_fragment</th>\n",
              "      <th>urgent</th>\n",
              "      <th>hot</th>\n",
              "      <th>...</th>\n",
              "      <th>dst_host_same_srv_rate</th>\n",
              "      <th>dst_host_diff_srv_rate</th>\n",
              "      <th>dst_host_same_src_port_rate</th>\n",
              "      <th>dst_host_srv_diff_host_rate</th>\n",
              "      <th>dst_host_serror_rate</th>\n",
              "      <th>dst_host_srv_serror_rate</th>\n",
              "      <th>dst_host_rerror_rate</th>\n",
              "      <th>dst_host_srv_rerror_rate</th>\n",
              "      <th>attack</th>\n",
              "      <th>level</th>\n",
              "    </tr>\n",
              "  </thead>\n",
              "  <tbody>\n",
              "    <tr>\n",
              "      <th>0</th>\n",
              "      <td>0</td>\n",
              "      <td>tcp</td>\n",
              "      <td>ftp_data</td>\n",
              "      <td>SF</td>\n",
              "      <td>491</td>\n",
              "      <td>0</td>\n",
              "      <td>0</td>\n",
              "      <td>0</td>\n",
              "      <td>0</td>\n",
              "      <td>0</td>\n",
              "      <td>...</td>\n",
              "      <td>0.17</td>\n",
              "      <td>0.03</td>\n",
              "      <td>0.17</td>\n",
              "      <td>0.00</td>\n",
              "      <td>0.00</td>\n",
              "      <td>0.00</td>\n",
              "      <td>0.05</td>\n",
              "      <td>0.00</td>\n",
              "      <td>normal</td>\n",
              "      <td>20</td>\n",
              "    </tr>\n",
              "    <tr>\n",
              "      <th>1</th>\n",
              "      <td>0</td>\n",
              "      <td>udp</td>\n",
              "      <td>other</td>\n",
              "      <td>SF</td>\n",
              "      <td>146</td>\n",
              "      <td>0</td>\n",
              "      <td>0</td>\n",
              "      <td>0</td>\n",
              "      <td>0</td>\n",
              "      <td>0</td>\n",
              "      <td>...</td>\n",
              "      <td>0.00</td>\n",
              "      <td>0.60</td>\n",
              "      <td>0.88</td>\n",
              "      <td>0.00</td>\n",
              "      <td>0.00</td>\n",
              "      <td>0.00</td>\n",
              "      <td>0.00</td>\n",
              "      <td>0.00</td>\n",
              "      <td>normal</td>\n",
              "      <td>15</td>\n",
              "    </tr>\n",
              "    <tr>\n",
              "      <th>2</th>\n",
              "      <td>0</td>\n",
              "      <td>tcp</td>\n",
              "      <td>private</td>\n",
              "      <td>S0</td>\n",
              "      <td>0</td>\n",
              "      <td>0</td>\n",
              "      <td>0</td>\n",
              "      <td>0</td>\n",
              "      <td>0</td>\n",
              "      <td>0</td>\n",
              "      <td>...</td>\n",
              "      <td>0.10</td>\n",
              "      <td>0.05</td>\n",
              "      <td>0.00</td>\n",
              "      <td>0.00</td>\n",
              "      <td>1.00</td>\n",
              "      <td>1.00</td>\n",
              "      <td>0.00</td>\n",
              "      <td>0.00</td>\n",
              "      <td>neptune</td>\n",
              "      <td>19</td>\n",
              "    </tr>\n",
              "    <tr>\n",
              "      <th>3</th>\n",
              "      <td>0</td>\n",
              "      <td>tcp</td>\n",
              "      <td>http</td>\n",
              "      <td>SF</td>\n",
              "      <td>232</td>\n",
              "      <td>8153</td>\n",
              "      <td>0</td>\n",
              "      <td>0</td>\n",
              "      <td>0</td>\n",
              "      <td>0</td>\n",
              "      <td>...</td>\n",
              "      <td>1.00</td>\n",
              "      <td>0.00</td>\n",
              "      <td>0.03</td>\n",
              "      <td>0.04</td>\n",
              "      <td>0.03</td>\n",
              "      <td>0.01</td>\n",
              "      <td>0.00</td>\n",
              "      <td>0.01</td>\n",
              "      <td>normal</td>\n",
              "      <td>21</td>\n",
              "    </tr>\n",
              "    <tr>\n",
              "      <th>4</th>\n",
              "      <td>0</td>\n",
              "      <td>tcp</td>\n",
              "      <td>http</td>\n",
              "      <td>SF</td>\n",
              "      <td>199</td>\n",
              "      <td>420</td>\n",
              "      <td>0</td>\n",
              "      <td>0</td>\n",
              "      <td>0</td>\n",
              "      <td>0</td>\n",
              "      <td>...</td>\n",
              "      <td>1.00</td>\n",
              "      <td>0.00</td>\n",
              "      <td>0.00</td>\n",
              "      <td>0.00</td>\n",
              "      <td>0.00</td>\n",
              "      <td>0.00</td>\n",
              "      <td>0.00</td>\n",
              "      <td>0.00</td>\n",
              "      <td>normal</td>\n",
              "      <td>21</td>\n",
              "    </tr>\n",
              "  </tbody>\n",
              "</table>\n",
              "<p>5 rows × 43 columns</p>\n",
              "</div>"
            ],
            "text/plain": [
              "   duration protocol_type   service flag  src_bytes  dst_bytes  land  \\\n",
              "0         0           tcp  ftp_data   SF        491          0     0   \n",
              "1         0           udp     other   SF        146          0     0   \n",
              "2         0           tcp   private   S0          0          0     0   \n",
              "3         0           tcp      http   SF        232       8153     0   \n",
              "4         0           tcp      http   SF        199        420     0   \n",
              "\n",
              "   wrong_fragment  urgent  hot  ...  dst_host_same_srv_rate  \\\n",
              "0               0       0    0  ...                    0.17   \n",
              "1               0       0    0  ...                    0.00   \n",
              "2               0       0    0  ...                    0.10   \n",
              "3               0       0    0  ...                    1.00   \n",
              "4               0       0    0  ...                    1.00   \n",
              "\n",
              "   dst_host_diff_srv_rate  dst_host_same_src_port_rate  \\\n",
              "0                    0.03                         0.17   \n",
              "1                    0.60                         0.88   \n",
              "2                    0.05                         0.00   \n",
              "3                    0.00                         0.03   \n",
              "4                    0.00                         0.00   \n",
              "\n",
              "   dst_host_srv_diff_host_rate  dst_host_serror_rate  \\\n",
              "0                         0.00                  0.00   \n",
              "1                         0.00                  0.00   \n",
              "2                         0.00                  1.00   \n",
              "3                         0.04                  0.03   \n",
              "4                         0.00                  0.00   \n",
              "\n",
              "   dst_host_srv_serror_rate  dst_host_rerror_rate  dst_host_srv_rerror_rate  \\\n",
              "0                      0.00                  0.05                      0.00   \n",
              "1                      0.00                  0.00                      0.00   \n",
              "2                      1.00                  0.00                      0.00   \n",
              "3                      0.01                  0.00                      0.01   \n",
              "4                      0.00                  0.00                      0.00   \n",
              "\n",
              "    attack  level  \n",
              "0   normal     20  \n",
              "1   normal     15  \n",
              "2  neptune     19  \n",
              "3   normal     21  \n",
              "4   normal     21  \n",
              "\n",
              "[5 rows x 43 columns]"
            ]
          },
          "execution_count": 11,
          "metadata": {},
          "output_type": "execute_result"
        }
      ],
      "source": [
        "train.head()\n"
      ]
    },
    {
      "cell_type": "code",
      "execution_count": null,
      "metadata": {
        "colab": {
          "base_uri": "https://localhost:8080/",
          "height": 255
        },
        "id": "Henqh6n-4C0H",
        "outputId": "90baee7c-b0c7-4e74-8c40-d0b7093d2443"
      },
      "outputs": [
        {
          "data": {
            "text/html": [
              "<div>\n",
              "<style scoped>\n",
              "    .dataframe tbody tr th:only-of-type {\n",
              "        vertical-align: middle;\n",
              "    }\n",
              "\n",
              "    .dataframe tbody tr th {\n",
              "        vertical-align: top;\n",
              "    }\n",
              "\n",
              "    .dataframe thead th {\n",
              "        text-align: right;\n",
              "    }\n",
              "</style>\n",
              "<table border=\"1\" class=\"dataframe\">\n",
              "  <thead>\n",
              "    <tr style=\"text-align: right;\">\n",
              "      <th></th>\n",
              "      <th>duration</th>\n",
              "      <th>protocol_type</th>\n",
              "      <th>service</th>\n",
              "      <th>flag</th>\n",
              "      <th>src_bytes</th>\n",
              "      <th>dst_bytes</th>\n",
              "      <th>land</th>\n",
              "      <th>wrong_fragment</th>\n",
              "      <th>urgent</th>\n",
              "      <th>hot</th>\n",
              "      <th>...</th>\n",
              "      <th>dst_host_same_srv_rate</th>\n",
              "      <th>dst_host_diff_srv_rate</th>\n",
              "      <th>dst_host_same_src_port_rate</th>\n",
              "      <th>dst_host_srv_diff_host_rate</th>\n",
              "      <th>dst_host_serror_rate</th>\n",
              "      <th>dst_host_srv_serror_rate</th>\n",
              "      <th>dst_host_rerror_rate</th>\n",
              "      <th>dst_host_srv_rerror_rate</th>\n",
              "      <th>attack</th>\n",
              "      <th>level</th>\n",
              "    </tr>\n",
              "  </thead>\n",
              "  <tbody>\n",
              "    <tr>\n",
              "      <th>0</th>\n",
              "      <td>0</td>\n",
              "      <td>tcp</td>\n",
              "      <td>private</td>\n",
              "      <td>REJ</td>\n",
              "      <td>0</td>\n",
              "      <td>0</td>\n",
              "      <td>0</td>\n",
              "      <td>0</td>\n",
              "      <td>0</td>\n",
              "      <td>0</td>\n",
              "      <td>...</td>\n",
              "      <td>0.04</td>\n",
              "      <td>0.06</td>\n",
              "      <td>0.00</td>\n",
              "      <td>0.00</td>\n",
              "      <td>0.0</td>\n",
              "      <td>0.0</td>\n",
              "      <td>1.00</td>\n",
              "      <td>1.00</td>\n",
              "      <td>neptune</td>\n",
              "      <td>21</td>\n",
              "    </tr>\n",
              "    <tr>\n",
              "      <th>1</th>\n",
              "      <td>0</td>\n",
              "      <td>tcp</td>\n",
              "      <td>private</td>\n",
              "      <td>REJ</td>\n",
              "      <td>0</td>\n",
              "      <td>0</td>\n",
              "      <td>0</td>\n",
              "      <td>0</td>\n",
              "      <td>0</td>\n",
              "      <td>0</td>\n",
              "      <td>...</td>\n",
              "      <td>0.00</td>\n",
              "      <td>0.06</td>\n",
              "      <td>0.00</td>\n",
              "      <td>0.00</td>\n",
              "      <td>0.0</td>\n",
              "      <td>0.0</td>\n",
              "      <td>1.00</td>\n",
              "      <td>1.00</td>\n",
              "      <td>neptune</td>\n",
              "      <td>21</td>\n",
              "    </tr>\n",
              "    <tr>\n",
              "      <th>2</th>\n",
              "      <td>2</td>\n",
              "      <td>tcp</td>\n",
              "      <td>ftp_data</td>\n",
              "      <td>SF</td>\n",
              "      <td>12983</td>\n",
              "      <td>0</td>\n",
              "      <td>0</td>\n",
              "      <td>0</td>\n",
              "      <td>0</td>\n",
              "      <td>0</td>\n",
              "      <td>...</td>\n",
              "      <td>0.61</td>\n",
              "      <td>0.04</td>\n",
              "      <td>0.61</td>\n",
              "      <td>0.02</td>\n",
              "      <td>0.0</td>\n",
              "      <td>0.0</td>\n",
              "      <td>0.00</td>\n",
              "      <td>0.00</td>\n",
              "      <td>normal</td>\n",
              "      <td>21</td>\n",
              "    </tr>\n",
              "    <tr>\n",
              "      <th>3</th>\n",
              "      <td>0</td>\n",
              "      <td>icmp</td>\n",
              "      <td>eco_i</td>\n",
              "      <td>SF</td>\n",
              "      <td>20</td>\n",
              "      <td>0</td>\n",
              "      <td>0</td>\n",
              "      <td>0</td>\n",
              "      <td>0</td>\n",
              "      <td>0</td>\n",
              "      <td>...</td>\n",
              "      <td>1.00</td>\n",
              "      <td>0.00</td>\n",
              "      <td>1.00</td>\n",
              "      <td>0.28</td>\n",
              "      <td>0.0</td>\n",
              "      <td>0.0</td>\n",
              "      <td>0.00</td>\n",
              "      <td>0.00</td>\n",
              "      <td>saint</td>\n",
              "      <td>15</td>\n",
              "    </tr>\n",
              "    <tr>\n",
              "      <th>4</th>\n",
              "      <td>1</td>\n",
              "      <td>tcp</td>\n",
              "      <td>telnet</td>\n",
              "      <td>RSTO</td>\n",
              "      <td>0</td>\n",
              "      <td>15</td>\n",
              "      <td>0</td>\n",
              "      <td>0</td>\n",
              "      <td>0</td>\n",
              "      <td>0</td>\n",
              "      <td>...</td>\n",
              "      <td>0.31</td>\n",
              "      <td>0.17</td>\n",
              "      <td>0.03</td>\n",
              "      <td>0.02</td>\n",
              "      <td>0.0</td>\n",
              "      <td>0.0</td>\n",
              "      <td>0.83</td>\n",
              "      <td>0.71</td>\n",
              "      <td>mscan</td>\n",
              "      <td>11</td>\n",
              "    </tr>\n",
              "  </tbody>\n",
              "</table>\n",
              "<p>5 rows × 43 columns</p>\n",
              "</div>"
            ],
            "text/plain": [
              "   duration protocol_type   service  flag  src_bytes  dst_bytes  land  \\\n",
              "0         0           tcp   private   REJ          0          0     0   \n",
              "1         0           tcp   private   REJ          0          0     0   \n",
              "2         2           tcp  ftp_data    SF      12983          0     0   \n",
              "3         0          icmp     eco_i    SF         20          0     0   \n",
              "4         1           tcp    telnet  RSTO          0         15     0   \n",
              "\n",
              "   wrong_fragment  urgent  hot  ...  dst_host_same_srv_rate  \\\n",
              "0               0       0    0  ...                    0.04   \n",
              "1               0       0    0  ...                    0.00   \n",
              "2               0       0    0  ...                    0.61   \n",
              "3               0       0    0  ...                    1.00   \n",
              "4               0       0    0  ...                    0.31   \n",
              "\n",
              "   dst_host_diff_srv_rate  dst_host_same_src_port_rate  \\\n",
              "0                    0.06                         0.00   \n",
              "1                    0.06                         0.00   \n",
              "2                    0.04                         0.61   \n",
              "3                    0.00                         1.00   \n",
              "4                    0.17                         0.03   \n",
              "\n",
              "   dst_host_srv_diff_host_rate  dst_host_serror_rate  \\\n",
              "0                         0.00                   0.0   \n",
              "1                         0.00                   0.0   \n",
              "2                         0.02                   0.0   \n",
              "3                         0.28                   0.0   \n",
              "4                         0.02                   0.0   \n",
              "\n",
              "   dst_host_srv_serror_rate  dst_host_rerror_rate  dst_host_srv_rerror_rate  \\\n",
              "0                       0.0                  1.00                      1.00   \n",
              "1                       0.0                  1.00                      1.00   \n",
              "2                       0.0                  0.00                      0.00   \n",
              "3                       0.0                  0.00                      0.00   \n",
              "4                       0.0                  0.83                      0.71   \n",
              "\n",
              "    attack  level  \n",
              "0  neptune     21  \n",
              "1  neptune     21  \n",
              "2   normal     21  \n",
              "3    saint     15  \n",
              "4    mscan     11  \n",
              "\n",
              "[5 rows x 43 columns]"
            ]
          },
          "execution_count": 12,
          "metadata": {},
          "output_type": "execute_result"
        }
      ],
      "source": [
        "test.head()"
      ]
    },
    {
      "cell_type": "code",
      "execution_count": null,
      "metadata": {
        "id": "lYuGVlKs6Ji9"
      },
      "outputs": [],
      "source": [
        "dataset = pd.concat([train, test], ignore_index=True)"
      ]
    },
    {
      "cell_type": "code",
      "execution_count": null,
      "metadata": {
        "colab": {
          "base_uri": "https://localhost:8080/",
          "height": 255
        },
        "id": "Ti1qF7AI6Jfh",
        "outputId": "4b0ee817-1055-49d7-97ce-1de51396e887"
      },
      "outputs": [
        {
          "data": {
            "text/html": [
              "<div>\n",
              "<style scoped>\n",
              "    .dataframe tbody tr th:only-of-type {\n",
              "        vertical-align: middle;\n",
              "    }\n",
              "\n",
              "    .dataframe tbody tr th {\n",
              "        vertical-align: top;\n",
              "    }\n",
              "\n",
              "    .dataframe thead th {\n",
              "        text-align: right;\n",
              "    }\n",
              "</style>\n",
              "<table border=\"1\" class=\"dataframe\">\n",
              "  <thead>\n",
              "    <tr style=\"text-align: right;\">\n",
              "      <th></th>\n",
              "      <th>duration</th>\n",
              "      <th>protocol_type</th>\n",
              "      <th>service</th>\n",
              "      <th>flag</th>\n",
              "      <th>src_bytes</th>\n",
              "      <th>dst_bytes</th>\n",
              "      <th>land</th>\n",
              "      <th>wrong_fragment</th>\n",
              "      <th>urgent</th>\n",
              "      <th>hot</th>\n",
              "      <th>...</th>\n",
              "      <th>dst_host_same_srv_rate</th>\n",
              "      <th>dst_host_diff_srv_rate</th>\n",
              "      <th>dst_host_same_src_port_rate</th>\n",
              "      <th>dst_host_srv_diff_host_rate</th>\n",
              "      <th>dst_host_serror_rate</th>\n",
              "      <th>dst_host_srv_serror_rate</th>\n",
              "      <th>dst_host_rerror_rate</th>\n",
              "      <th>dst_host_srv_rerror_rate</th>\n",
              "      <th>attack</th>\n",
              "      <th>level</th>\n",
              "    </tr>\n",
              "  </thead>\n",
              "  <tbody>\n",
              "    <tr>\n",
              "      <th>0</th>\n",
              "      <td>0</td>\n",
              "      <td>tcp</td>\n",
              "      <td>ftp_data</td>\n",
              "      <td>SF</td>\n",
              "      <td>491</td>\n",
              "      <td>0</td>\n",
              "      <td>0</td>\n",
              "      <td>0</td>\n",
              "      <td>0</td>\n",
              "      <td>0</td>\n",
              "      <td>...</td>\n",
              "      <td>0.17</td>\n",
              "      <td>0.03</td>\n",
              "      <td>0.17</td>\n",
              "      <td>0.00</td>\n",
              "      <td>0.00</td>\n",
              "      <td>0.00</td>\n",
              "      <td>0.05</td>\n",
              "      <td>0.00</td>\n",
              "      <td>normal</td>\n",
              "      <td>20</td>\n",
              "    </tr>\n",
              "    <tr>\n",
              "      <th>1</th>\n",
              "      <td>0</td>\n",
              "      <td>udp</td>\n",
              "      <td>other</td>\n",
              "      <td>SF</td>\n",
              "      <td>146</td>\n",
              "      <td>0</td>\n",
              "      <td>0</td>\n",
              "      <td>0</td>\n",
              "      <td>0</td>\n",
              "      <td>0</td>\n",
              "      <td>...</td>\n",
              "      <td>0.00</td>\n",
              "      <td>0.60</td>\n",
              "      <td>0.88</td>\n",
              "      <td>0.00</td>\n",
              "      <td>0.00</td>\n",
              "      <td>0.00</td>\n",
              "      <td>0.00</td>\n",
              "      <td>0.00</td>\n",
              "      <td>normal</td>\n",
              "      <td>15</td>\n",
              "    </tr>\n",
              "    <tr>\n",
              "      <th>2</th>\n",
              "      <td>0</td>\n",
              "      <td>tcp</td>\n",
              "      <td>private</td>\n",
              "      <td>S0</td>\n",
              "      <td>0</td>\n",
              "      <td>0</td>\n",
              "      <td>0</td>\n",
              "      <td>0</td>\n",
              "      <td>0</td>\n",
              "      <td>0</td>\n",
              "      <td>...</td>\n",
              "      <td>0.10</td>\n",
              "      <td>0.05</td>\n",
              "      <td>0.00</td>\n",
              "      <td>0.00</td>\n",
              "      <td>1.00</td>\n",
              "      <td>1.00</td>\n",
              "      <td>0.00</td>\n",
              "      <td>0.00</td>\n",
              "      <td>neptune</td>\n",
              "      <td>19</td>\n",
              "    </tr>\n",
              "    <tr>\n",
              "      <th>3</th>\n",
              "      <td>0</td>\n",
              "      <td>tcp</td>\n",
              "      <td>http</td>\n",
              "      <td>SF</td>\n",
              "      <td>232</td>\n",
              "      <td>8153</td>\n",
              "      <td>0</td>\n",
              "      <td>0</td>\n",
              "      <td>0</td>\n",
              "      <td>0</td>\n",
              "      <td>...</td>\n",
              "      <td>1.00</td>\n",
              "      <td>0.00</td>\n",
              "      <td>0.03</td>\n",
              "      <td>0.04</td>\n",
              "      <td>0.03</td>\n",
              "      <td>0.01</td>\n",
              "      <td>0.00</td>\n",
              "      <td>0.01</td>\n",
              "      <td>normal</td>\n",
              "      <td>21</td>\n",
              "    </tr>\n",
              "    <tr>\n",
              "      <th>4</th>\n",
              "      <td>0</td>\n",
              "      <td>tcp</td>\n",
              "      <td>http</td>\n",
              "      <td>SF</td>\n",
              "      <td>199</td>\n",
              "      <td>420</td>\n",
              "      <td>0</td>\n",
              "      <td>0</td>\n",
              "      <td>0</td>\n",
              "      <td>0</td>\n",
              "      <td>...</td>\n",
              "      <td>1.00</td>\n",
              "      <td>0.00</td>\n",
              "      <td>0.00</td>\n",
              "      <td>0.00</td>\n",
              "      <td>0.00</td>\n",
              "      <td>0.00</td>\n",
              "      <td>0.00</td>\n",
              "      <td>0.00</td>\n",
              "      <td>normal</td>\n",
              "      <td>21</td>\n",
              "    </tr>\n",
              "  </tbody>\n",
              "</table>\n",
              "<p>5 rows × 43 columns</p>\n",
              "</div>"
            ],
            "text/plain": [
              "   duration protocol_type   service flag  src_bytes  dst_bytes  land  \\\n",
              "0         0           tcp  ftp_data   SF        491          0     0   \n",
              "1         0           udp     other   SF        146          0     0   \n",
              "2         0           tcp   private   S0          0          0     0   \n",
              "3         0           tcp      http   SF        232       8153     0   \n",
              "4         0           tcp      http   SF        199        420     0   \n",
              "\n",
              "   wrong_fragment  urgent  hot  ...  dst_host_same_srv_rate  \\\n",
              "0               0       0    0  ...                    0.17   \n",
              "1               0       0    0  ...                    0.00   \n",
              "2               0       0    0  ...                    0.10   \n",
              "3               0       0    0  ...                    1.00   \n",
              "4               0       0    0  ...                    1.00   \n",
              "\n",
              "   dst_host_diff_srv_rate  dst_host_same_src_port_rate  \\\n",
              "0                    0.03                         0.17   \n",
              "1                    0.60                         0.88   \n",
              "2                    0.05                         0.00   \n",
              "3                    0.00                         0.03   \n",
              "4                    0.00                         0.00   \n",
              "\n",
              "   dst_host_srv_diff_host_rate  dst_host_serror_rate  \\\n",
              "0                         0.00                  0.00   \n",
              "1                         0.00                  0.00   \n",
              "2                         0.00                  1.00   \n",
              "3                         0.04                  0.03   \n",
              "4                         0.00                  0.00   \n",
              "\n",
              "   dst_host_srv_serror_rate  dst_host_rerror_rate  dst_host_srv_rerror_rate  \\\n",
              "0                      0.00                  0.05                      0.00   \n",
              "1                      0.00                  0.00                      0.00   \n",
              "2                      1.00                  0.00                      0.00   \n",
              "3                      0.01                  0.00                      0.01   \n",
              "4                      0.00                  0.00                      0.00   \n",
              "\n",
              "    attack  level  \n",
              "0   normal     20  \n",
              "1   normal     15  \n",
              "2  neptune     19  \n",
              "3   normal     21  \n",
              "4   normal     21  \n",
              "\n",
              "[5 rows x 43 columns]"
            ]
          },
          "execution_count": 14,
          "metadata": {},
          "output_type": "execute_result"
        }
      ],
      "source": [
        "dataset.head()"
      ]
    },
    {
      "cell_type": "code",
      "execution_count": null,
      "metadata": {
        "id": "r1Blq9PqrXim"
      },
      "outputs": [],
      "source": [
        "dataset.drop(['duration'], axis=1, inplace=True)"
      ]
    },
    {
      "cell_type": "code",
      "execution_count": null,
      "metadata": {
        "colab": {
          "base_uri": "https://localhost:8080/",
          "height": 255
        },
        "id": "ixf9adh2rivs",
        "outputId": "99bb7f74-1d55-4e40-b45a-9c4ff8f3f37d"
      },
      "outputs": [
        {
          "data": {
            "text/html": [
              "<div>\n",
              "<style scoped>\n",
              "    .dataframe tbody tr th:only-of-type {\n",
              "        vertical-align: middle;\n",
              "    }\n",
              "\n",
              "    .dataframe tbody tr th {\n",
              "        vertical-align: top;\n",
              "    }\n",
              "\n",
              "    .dataframe thead th {\n",
              "        text-align: right;\n",
              "    }\n",
              "</style>\n",
              "<table border=\"1\" class=\"dataframe\">\n",
              "  <thead>\n",
              "    <tr style=\"text-align: right;\">\n",
              "      <th></th>\n",
              "      <th>protocol_type</th>\n",
              "      <th>service</th>\n",
              "      <th>flag</th>\n",
              "      <th>src_bytes</th>\n",
              "      <th>dst_bytes</th>\n",
              "      <th>land</th>\n",
              "      <th>wrong_fragment</th>\n",
              "      <th>urgent</th>\n",
              "      <th>hot</th>\n",
              "      <th>num_failed_logins</th>\n",
              "      <th>...</th>\n",
              "      <th>dst_host_same_srv_rate</th>\n",
              "      <th>dst_host_diff_srv_rate</th>\n",
              "      <th>dst_host_same_src_port_rate</th>\n",
              "      <th>dst_host_srv_diff_host_rate</th>\n",
              "      <th>dst_host_serror_rate</th>\n",
              "      <th>dst_host_srv_serror_rate</th>\n",
              "      <th>dst_host_rerror_rate</th>\n",
              "      <th>dst_host_srv_rerror_rate</th>\n",
              "      <th>attack</th>\n",
              "      <th>level</th>\n",
              "    </tr>\n",
              "  </thead>\n",
              "  <tbody>\n",
              "    <tr>\n",
              "      <th>0</th>\n",
              "      <td>tcp</td>\n",
              "      <td>ftp_data</td>\n",
              "      <td>SF</td>\n",
              "      <td>491</td>\n",
              "      <td>0</td>\n",
              "      <td>0</td>\n",
              "      <td>0</td>\n",
              "      <td>0</td>\n",
              "      <td>0</td>\n",
              "      <td>0</td>\n",
              "      <td>...</td>\n",
              "      <td>0.17</td>\n",
              "      <td>0.03</td>\n",
              "      <td>0.17</td>\n",
              "      <td>0.00</td>\n",
              "      <td>0.00</td>\n",
              "      <td>0.00</td>\n",
              "      <td>0.05</td>\n",
              "      <td>0.00</td>\n",
              "      <td>normal</td>\n",
              "      <td>20</td>\n",
              "    </tr>\n",
              "    <tr>\n",
              "      <th>1</th>\n",
              "      <td>udp</td>\n",
              "      <td>other</td>\n",
              "      <td>SF</td>\n",
              "      <td>146</td>\n",
              "      <td>0</td>\n",
              "      <td>0</td>\n",
              "      <td>0</td>\n",
              "      <td>0</td>\n",
              "      <td>0</td>\n",
              "      <td>0</td>\n",
              "      <td>...</td>\n",
              "      <td>0.00</td>\n",
              "      <td>0.60</td>\n",
              "      <td>0.88</td>\n",
              "      <td>0.00</td>\n",
              "      <td>0.00</td>\n",
              "      <td>0.00</td>\n",
              "      <td>0.00</td>\n",
              "      <td>0.00</td>\n",
              "      <td>normal</td>\n",
              "      <td>15</td>\n",
              "    </tr>\n",
              "    <tr>\n",
              "      <th>2</th>\n",
              "      <td>tcp</td>\n",
              "      <td>private</td>\n",
              "      <td>S0</td>\n",
              "      <td>0</td>\n",
              "      <td>0</td>\n",
              "      <td>0</td>\n",
              "      <td>0</td>\n",
              "      <td>0</td>\n",
              "      <td>0</td>\n",
              "      <td>0</td>\n",
              "      <td>...</td>\n",
              "      <td>0.10</td>\n",
              "      <td>0.05</td>\n",
              "      <td>0.00</td>\n",
              "      <td>0.00</td>\n",
              "      <td>1.00</td>\n",
              "      <td>1.00</td>\n",
              "      <td>0.00</td>\n",
              "      <td>0.00</td>\n",
              "      <td>neptune</td>\n",
              "      <td>19</td>\n",
              "    </tr>\n",
              "    <tr>\n",
              "      <th>3</th>\n",
              "      <td>tcp</td>\n",
              "      <td>http</td>\n",
              "      <td>SF</td>\n",
              "      <td>232</td>\n",
              "      <td>8153</td>\n",
              "      <td>0</td>\n",
              "      <td>0</td>\n",
              "      <td>0</td>\n",
              "      <td>0</td>\n",
              "      <td>0</td>\n",
              "      <td>...</td>\n",
              "      <td>1.00</td>\n",
              "      <td>0.00</td>\n",
              "      <td>0.03</td>\n",
              "      <td>0.04</td>\n",
              "      <td>0.03</td>\n",
              "      <td>0.01</td>\n",
              "      <td>0.00</td>\n",
              "      <td>0.01</td>\n",
              "      <td>normal</td>\n",
              "      <td>21</td>\n",
              "    </tr>\n",
              "    <tr>\n",
              "      <th>4</th>\n",
              "      <td>tcp</td>\n",
              "      <td>http</td>\n",
              "      <td>SF</td>\n",
              "      <td>199</td>\n",
              "      <td>420</td>\n",
              "      <td>0</td>\n",
              "      <td>0</td>\n",
              "      <td>0</td>\n",
              "      <td>0</td>\n",
              "      <td>0</td>\n",
              "      <td>...</td>\n",
              "      <td>1.00</td>\n",
              "      <td>0.00</td>\n",
              "      <td>0.00</td>\n",
              "      <td>0.00</td>\n",
              "      <td>0.00</td>\n",
              "      <td>0.00</td>\n",
              "      <td>0.00</td>\n",
              "      <td>0.00</td>\n",
              "      <td>normal</td>\n",
              "      <td>21</td>\n",
              "    </tr>\n",
              "  </tbody>\n",
              "</table>\n",
              "<p>5 rows × 42 columns</p>\n",
              "</div>"
            ],
            "text/plain": [
              "  protocol_type   service flag  src_bytes  dst_bytes  land  wrong_fragment  \\\n",
              "0           tcp  ftp_data   SF        491          0     0               0   \n",
              "1           udp     other   SF        146          0     0               0   \n",
              "2           tcp   private   S0          0          0     0               0   \n",
              "3           tcp      http   SF        232       8153     0               0   \n",
              "4           tcp      http   SF        199        420     0               0   \n",
              "\n",
              "   urgent  hot  num_failed_logins  ...  dst_host_same_srv_rate  \\\n",
              "0       0    0                  0  ...                    0.17   \n",
              "1       0    0                  0  ...                    0.00   \n",
              "2       0    0                  0  ...                    0.10   \n",
              "3       0    0                  0  ...                    1.00   \n",
              "4       0    0                  0  ...                    1.00   \n",
              "\n",
              "   dst_host_diff_srv_rate  dst_host_same_src_port_rate  \\\n",
              "0                    0.03                         0.17   \n",
              "1                    0.60                         0.88   \n",
              "2                    0.05                         0.00   \n",
              "3                    0.00                         0.03   \n",
              "4                    0.00                         0.00   \n",
              "\n",
              "   dst_host_srv_diff_host_rate  dst_host_serror_rate  \\\n",
              "0                         0.00                  0.00   \n",
              "1                         0.00                  0.00   \n",
              "2                         0.00                  1.00   \n",
              "3                         0.04                  0.03   \n",
              "4                         0.00                  0.00   \n",
              "\n",
              "   dst_host_srv_serror_rate  dst_host_rerror_rate  dst_host_srv_rerror_rate  \\\n",
              "0                      0.00                  0.05                      0.00   \n",
              "1                      0.00                  0.00                      0.00   \n",
              "2                      1.00                  0.00                      0.00   \n",
              "3                      0.01                  0.00                      0.01   \n",
              "4                      0.00                  0.00                      0.00   \n",
              "\n",
              "    attack  level  \n",
              "0   normal     20  \n",
              "1   normal     15  \n",
              "2  neptune     19  \n",
              "3   normal     21  \n",
              "4   normal     21  \n",
              "\n",
              "[5 rows x 42 columns]"
            ]
          },
          "execution_count": 16,
          "metadata": {},
          "output_type": "execute_result"
        }
      ],
      "source": [
        "dataset.head()"
      ]
    },
    {
      "cell_type": "code",
      "execution_count": null,
      "metadata": {
        "colab": {
          "base_uri": "https://localhost:8080/"
        },
        "id": "vZe9SGQn6Jc7",
        "outputId": "b20fafed-a2f3-4a21-e71b-c4eae7f562a6"
      },
      "outputs": [
        {
          "name": "stdout",
          "output_type": "stream",
          "text": [
            "<class 'pandas.core.frame.DataFrame'>\n",
            "RangeIndex: 148517 entries, 0 to 148516\n",
            "Data columns (total 42 columns):\n",
            " #   Column                       Non-Null Count   Dtype  \n",
            "---  ------                       --------------   -----  \n",
            " 0   protocol_type                148517 non-null  object \n",
            " 1   service                      148517 non-null  object \n",
            " 2   flag                         148517 non-null  object \n",
            " 3   src_bytes                    148517 non-null  int64  \n",
            " 4   dst_bytes                    148517 non-null  int64  \n",
            " 5   land                         148517 non-null  int64  \n",
            " 6   wrong_fragment               148517 non-null  int64  \n",
            " 7   urgent                       148517 non-null  int64  \n",
            " 8   hot                          148517 non-null  int64  \n",
            " 9   num_failed_logins            148517 non-null  int64  \n",
            " 10  logged_in                    148517 non-null  int64  \n",
            " 11  num_compromised              148517 non-null  int64  \n",
            " 12  root_shell                   148517 non-null  int64  \n",
            " 13  su_attempted                 148517 non-null  int64  \n",
            " 14  num_root                     148517 non-null  int64  \n",
            " 15  num_file_creations           148517 non-null  int64  \n",
            " 16  num_shells                   148517 non-null  int64  \n",
            " 17  num_access_files             148517 non-null  int64  \n",
            " 18  num_outbound_cmds            148517 non-null  int64  \n",
            " 19  is_host_login                148517 non-null  int64  \n",
            " 20  is_guest_login               148517 non-null  int64  \n",
            " 21  count                        148517 non-null  int64  \n",
            " 22  srv_count                    148517 non-null  int64  \n",
            " 23  serror_rate                  148517 non-null  float64\n",
            " 24  srv_serror_rate              148517 non-null  float64\n",
            " 25  rerror_rate                  148517 non-null  float64\n",
            " 26  srv_rerror_rate              148517 non-null  float64\n",
            " 27  same_srv_rate                148517 non-null  float64\n",
            " 28  diff_srv_rate                148517 non-null  float64\n",
            " 29  srv_diff_host_rate           148517 non-null  float64\n",
            " 30  dst_host_count               148517 non-null  int64  \n",
            " 31  dst_host_srv_count           148517 non-null  int64  \n",
            " 32  dst_host_same_srv_rate       148517 non-null  float64\n",
            " 33  dst_host_diff_srv_rate       148517 non-null  float64\n",
            " 34  dst_host_same_src_port_rate  148517 non-null  float64\n",
            " 35  dst_host_srv_diff_host_rate  148517 non-null  float64\n",
            " 36  dst_host_serror_rate         148517 non-null  float64\n",
            " 37  dst_host_srv_serror_rate     148517 non-null  float64\n",
            " 38  dst_host_rerror_rate         148517 non-null  float64\n",
            " 39  dst_host_srv_rerror_rate     148517 non-null  float64\n",
            " 40  attack                       148517 non-null  object \n",
            " 41  level                        148517 non-null  int64  \n",
            "dtypes: float64(15), int64(23), object(4)\n",
            "memory usage: 47.6+ MB\n"
          ]
        }
      ],
      "source": [
        "dataset.info()"
      ]
    },
    {
      "cell_type": "code",
      "execution_count": null,
      "metadata": {
        "colab": {
          "base_uri": "https://localhost:8080/",
          "height": 1000
        },
        "id": "uV1touLS6Jaw",
        "outputId": "0b1f9f3a-369c-4012-c5b8-83eb062dc8bf"
      },
      "outputs": [
        {
          "data": {
            "text/plain": [
              "array([[<Axes: title={'center': 'src_bytes'}>,\n",
              "        <Axes: title={'center': 'dst_bytes'}>,\n",
              "        <Axes: title={'center': 'land'}>,\n",
              "        <Axes: title={'center': 'wrong_fragment'}>,\n",
              "        <Axes: title={'center': 'urgent'}>,\n",
              "        <Axes: title={'center': 'hot'}>],\n",
              "       [<Axes: title={'center': 'num_failed_logins'}>,\n",
              "        <Axes: title={'center': 'logged_in'}>,\n",
              "        <Axes: title={'center': 'num_compromised'}>,\n",
              "        <Axes: title={'center': 'root_shell'}>,\n",
              "        <Axes: title={'center': 'su_attempted'}>,\n",
              "        <Axes: title={'center': 'num_root'}>],\n",
              "       [<Axes: title={'center': 'num_file_creations'}>,\n",
              "        <Axes: title={'center': 'num_shells'}>,\n",
              "        <Axes: title={'center': 'num_access_files'}>,\n",
              "        <Axes: title={'center': 'num_outbound_cmds'}>,\n",
              "        <Axes: title={'center': 'is_host_login'}>,\n",
              "        <Axes: title={'center': 'is_guest_login'}>],\n",
              "       [<Axes: title={'center': 'count'}>,\n",
              "        <Axes: title={'center': 'srv_count'}>,\n",
              "        <Axes: title={'center': 'serror_rate'}>,\n",
              "        <Axes: title={'center': 'srv_serror_rate'}>,\n",
              "        <Axes: title={'center': 'rerror_rate'}>,\n",
              "        <Axes: title={'center': 'srv_rerror_rate'}>],\n",
              "       [<Axes: title={'center': 'same_srv_rate'}>,\n",
              "        <Axes: title={'center': 'diff_srv_rate'}>,\n",
              "        <Axes: title={'center': 'srv_diff_host_rate'}>,\n",
              "        <Axes: title={'center': 'dst_host_count'}>,\n",
              "        <Axes: title={'center': 'dst_host_srv_count'}>,\n",
              "        <Axes: title={'center': 'dst_host_same_srv_rate'}>],\n",
              "       [<Axes: title={'center': 'dst_host_diff_srv_rate'}>,\n",
              "        <Axes: title={'center': 'dst_host_same_src_port_rate'}>,\n",
              "        <Axes: title={'center': 'dst_host_srv_diff_host_rate'}>,\n",
              "        <Axes: title={'center': 'dst_host_serror_rate'}>,\n",
              "        <Axes: title={'center': 'dst_host_srv_serror_rate'}>,\n",
              "        <Axes: title={'center': 'dst_host_rerror_rate'}>],\n",
              "       [<Axes: title={'center': 'dst_host_srv_rerror_rate'}>,\n",
              "        <Axes: title={'center': 'level'}>, <Axes: >, <Axes: >, <Axes: >,\n",
              "        <Axes: >]], dtype=object)"
            ]
          },
          "execution_count": 18,
          "metadata": {},
          "output_type": "execute_result"
        },
        {
          "data": {
            "image/png": "[encoded data removed]",
            "text/plain": [
              "<Figure size 1500x1500 with 42 Axes>"
            ]
          },
          "metadata": {},
          "output_type": "display_data"
        }
      ],
      "source": [
        "dataset.hist(bins = 50,figsize = (15,15))"
      ]
    },
    {
      "cell_type": "markdown",
      "metadata": {
        "id": "czZbq35E5Xb6"
      },
      "source": [
        "**Handle missing values**"
      ]
    },
    {
      "cell_type": "code",
      "execution_count": null,
      "metadata": {
        "colab": {
          "base_uri": "https://localhost:8080/",
          "height": 1000
        },
        "id": "7FBOPAm28uX0",
        "outputId": "63c0009f-5c8c-4e91-d929-03c592314ef6"
      },
      "outputs": [
        {
          "data": {
            "text/plain": [
              "protocol_type                  0\n",
              "service                        0\n",
              "flag                           0\n",
              "src_bytes                      0\n",
              "dst_bytes                      0\n",
              "land                           0\n",
              "wrong_fragment                 0\n",
              "urgent                         0\n",
              "hot                            0\n",
              "num_failed_logins              0\n",
              "logged_in                      0\n",
              "num_compromised                0\n",
              "root_shell                     0\n",
              "su_attempted                   0\n",
              "num_root                       0\n",
              "num_file_creations             0\n",
              "num_shells                     0\n",
              "num_access_files               0\n",
              "num_outbound_cmds              0\n",
              "is_host_login                  0\n",
              "is_guest_login                 0\n",
              "count                          0\n",
              "srv_count                      0\n",
              "serror_rate                    0\n",
              "srv_serror_rate                0\n",
              "rerror_rate                    0\n",
              "srv_rerror_rate                0\n",
              "same_srv_rate                  0\n",
              "diff_srv_rate                  0\n",
              "srv_diff_host_rate             0\n",
              "dst_host_count                 0\n",
              "dst_host_srv_count             0\n",
              "dst_host_same_srv_rate         0\n",
              "dst_host_diff_srv_rate         0\n",
              "dst_host_same_src_port_rate    0\n",
              "dst_host_srv_diff_host_rate    0\n",
              "dst_host_serror_rate           0\n",
              "dst_host_srv_serror_rate       0\n",
              "dst_host_rerror_rate           0\n",
              "dst_host_srv_rerror_rate       0\n",
              "attack                         0\n",
              "level                          0\n",
              "dtype: int64"
            ]
          },
          "execution_count": 19,
          "metadata": {},
          "output_type": "execute_result"
        }
      ],
      "source": [
        "dataset.isnull().sum()"
      ]
    },
    {
      "cell_type": "markdown",
      "metadata": {
        "id": "qqXuvnjB8y2G"
      },
      "source": [
        "no missing values"
      ]
    },
    {
      "cell_type": "code",
      "execution_count": null,
      "metadata": {
        "colab": {
          "base_uri": "https://localhost:8080/"
        },
        "id": "Z79C-MQiGwf7",
        "outputId": "a67d5696-baff-45bb-886f-296bf52ac9fa"
      },
      "outputs": [
        {
          "name": "stdout",
          "output_type": "stream",
          "text": [
            "[20 15 19 21 18 17 16 12 14 11  2 13 10  9  8  7  3  5  1  6  0  4]\n"
          ]
        }
      ],
      "source": [
        "print(dataset['level'].unique())"
      ]
    },
    {
      "cell_type": "code",
      "execution_count": null,
      "metadata": {
        "colab": {
          "base_uri": "https://localhost:8080/"
        },
        "id": "h8how69J6JYl",
        "outputId": "69a62b3f-cbda-437e-aba1-2b3e73f2630a"
      },
      "outputs": [
        {
          "name": "stdout",
          "output_type": "stream",
          "text": [
            "['tcp' 'udp' 'icmp']\n"
          ]
        }
      ],
      "source": [
        "print(dataset['protocol_type'].unique())"
      ]
    },
    {
      "cell_type": "code",
      "execution_count": null,
      "metadata": {
        "colab": {
          "base_uri": "https://localhost:8080/"
        },
        "id": "BF5EBTDU7RdP",
        "outputId": "a10d855d-0472-4bc0-b20b-13157a4b38ba"
      },
      "outputs": [
        {
          "name": "stdout",
          "output_type": "stream",
          "text": [
            "['ftp_data' 'other' 'private' 'http' 'remote_job' 'name' 'netbios_ns'\n",
            " 'eco_i' 'mtp' 'telnet' 'finger' 'domain_u' 'supdup' 'uucp_path' 'Z39_50'\n",
            " 'smtp' 'csnet_ns' 'uucp' 'netbios_dgm' 'urp_i' 'auth' 'domain' 'ftp'\n",
            " 'bgp' 'ldap' 'ecr_i' 'gopher' 'vmnet' 'systat' 'http_443' 'efs' 'whois'\n",
            " 'imap4' 'iso_tsap' 'echo' 'klogin' 'link' 'sunrpc' 'login' 'kshell'\n",
            " 'sql_net' 'time' 'hostnames' 'exec' 'ntp_u' 'discard' 'nntp' 'courier'\n",
            " 'ctf' 'ssh' 'daytime' 'shell' 'netstat' 'pop_3' 'nnsp' 'IRC' 'pop_2'\n",
            " 'printer' 'tim_i' 'pm_dump' 'red_i' 'netbios_ssn' 'rje' 'X11' 'urh_i'\n",
            " 'http_8001' 'aol' 'http_2784' 'tftp_u' 'harvest']\n"
          ]
        }
      ],
      "source": [
        "print(dataset['service'].unique())"
      ]
    },
    {
      "cell_type": "code",
      "execution_count": null,
      "metadata": {
        "colab": {
          "base_uri": "https://localhost:8080/"
        },
        "id": "6JO3IeLR7RZ1",
        "outputId": "6e1aac3e-1811-4871-f2c6-773753f40d9f"
      },
      "outputs": [
        {
          "name": "stdout",
          "output_type": "stream",
          "text": [
            "['SF' 'S0' 'REJ' 'RSTR' 'SH' 'RSTO' 'S1' 'RSTOS0' 'S3' 'S2' 'OTH']\n"
          ]
        }
      ],
      "source": [
        "print(dataset['flag'].unique())"
      ]
    },
    {
      "cell_type": "code",
      "execution_count": null,
      "metadata": {
        "colab": {
          "base_uri": "https://localhost:8080/"
        },
        "id": "cZK0ttoG7RXF",
        "outputId": "f909b99e-070b-4e35-f7dd-09417b8d25c4"
      },
      "outputs": [
        {
          "name": "stdout",
          "output_type": "stream",
          "text": [
            "['normal' 'neptune' 'warezclient' 'ipsweep' 'portsweep' 'teardrop' 'nmap'\n",
            " 'satan' 'smurf' 'pod' 'back' 'guess_passwd' 'ftp_write' 'multihop'\n",
            " 'rootkit' 'buffer_overflow' 'imap' 'warezmaster' 'phf' 'land'\n",
            " 'loadmodule' 'spy' 'perl' 'saint' 'mscan' 'apache2' 'snmpgetattack'\n",
            " 'processtable' 'httptunnel' 'ps' 'snmpguess' 'mailbomb' 'named'\n",
            " 'sendmail' 'xterm' 'worm' 'xlock' 'xsnoop' 'sqlattack' 'udpstorm']\n"
          ]
        }
      ],
      "source": [
        "print(dataset['attack'].unique())"
      ]
    },
    {
      "cell_type": "code",
      "execution_count": null,
      "metadata": {
        "id": "b8nrqlGURYTf"
      },
      "outputs": [],
      "source": [
        "def changing_label(dataset):\n",
        "    if 'attack' in dataset.columns:\n",
        "        attack_map = {\n",
        "            'Dos': ['neptune', 'smurf', 'pod', 'back', 'teardrop', 'land', 'apache2',\n",
        "                    'processtable', 'udpstorm', 'mailbomb', 'worm'],\n",
        "            'R2L': ['warezclient', 'guess_passwd', 'ftp_write', 'multihop', 'imap', 'warezmaster',\n",
        "                    'phf', 'spy', 'snmpgetattack', 'snmpguess', 'httptunnel', 'sendmail', 'xlock',\n",
        "                    'xsnoop', 'named'],\n",
        "            'Probe': ['ipsweep', 'portsweep', 'nmap', 'satan', 'saint', 'mscan'],\n",
        "            'U2R': ['rootkit', 'buffer_overflow', 'loadmodule', 'perl', 'ps', 'xterm', 'sqlattack'],\n",
        "        }\n",
        "\n",
        "\n",
        "        attackColumn = {attack: category for category, attacks in attack_map.items() for attack in attacks}\n",
        "\n",
        "\n",
        "        dataset['attack'] = dataset['attack'].map(attackColumn).fillna(dataset['attack'])\n",
        "\n",
        "    return dataset"
      ]
    },
    {
      "cell_type": "code",
      "execution_count": null,
      "metadata": {
        "id": "jXQPlAi8SlQF"
      },
      "outputs": [],
      "source": [
        "dataset = changing_label(dataset)"
      ]
    },
    {
      "cell_type": "code",
      "execution_count": null,
      "metadata": {
        "colab": {
          "base_uri": "https://localhost:8080/"
        },
        "id": "pIhu3Sr8T1zv",
        "outputId": "972a0f4d-bec4-4f92-fc29-75493631f3dc"
      },
      "outputs": [
        {
          "data": {
            "text/plain": [
              "array(['normal', 'Dos', 'R2L', 'Probe', 'U2R'], dtype=object)"
            ]
          },
          "execution_count": 27,
          "metadata": {},
          "output_type": "execute_result"
        }
      ],
      "source": [
        "dataset['attack'].unique()"
      ]
    },
    {
      "cell_type": "code",
      "execution_count": null,
      "metadata": {
        "colab": {
          "base_uri": "https://localhost:8080/",
          "height": 598
        },
        "id": "-Dsmv53uO0TG",
        "outputId": "6ec427a9-f525-420c-9b35-8da86c43502e"
      },
      "outputs": [
        {
          "data": {
            "image/png": "[encoded data removed]",
            "text/plain": [
              "<Figure size 700x700 with 1 Axes>"
            ]
          },
          "metadata": {},
          "output_type": "display_data"
        }
      ],
      "source": [
        "dataset['attack'].value_counts().plot(kind='pie', autopct='%1.2f%%', figsize=(7, 7), cmap='Set2')\n",
        "\n",
        "plt.title(\"attack feature Pie Chart\")\n",
        "plt.ylabel('')\n",
        "plt.show()"
      ]
    },
    {
      "cell_type": "markdown",
      "metadata": {
        "id": "FQvMm5DfJYNO"
      },
      "source": [
        "for multiclass"
      ]
    },
    {
      "cell_type": "code",
      "execution_count": null,
      "metadata": {
        "id": "MJl-OpjzT0VM"
      },
      "outputs": [],
      "source": []
    },
    {
      "cell_type": "code",
      "execution_count": null,
      "metadata": {
        "colab": {
          "base_uri": "https://localhost:8080/",
          "height": 193
        },
        "id": "odLNhW8YUHH5",
        "outputId": "e1beb1d9-8518-4f74-ff3b-92bb0eeea8fd"
      },
      "outputs": [
        {
          "data": {
            "text/html": [
              "<div>\n",
              "<style scoped>\n",
              "    .dataframe tbody tr th:only-of-type {\n",
              "        vertical-align: middle;\n",
              "    }\n",
              "\n",
              "    .dataframe tbody tr th {\n",
              "        vertical-align: top;\n",
              "    }\n",
              "\n",
              "    .dataframe thead th {\n",
              "        text-align: right;\n",
              "    }\n",
              "</style>\n",
              "<table border=\"1\" class=\"dataframe\">\n",
              "  <thead>\n",
              "    <tr style=\"text-align: right;\">\n",
              "      <th></th>\n",
              "      <th>protocol_type</th>\n",
              "      <th>service</th>\n",
              "      <th>flag</th>\n",
              "      <th>src_bytes</th>\n",
              "      <th>dst_bytes</th>\n",
              "      <th>land</th>\n",
              "      <th>wrong_fragment</th>\n",
              "      <th>urgent</th>\n",
              "      <th>hot</th>\n",
              "      <th>num_failed_logins</th>\n",
              "      <th>...</th>\n",
              "      <th>dst_host_same_srv_rate</th>\n",
              "      <th>dst_host_diff_srv_rate</th>\n",
              "      <th>dst_host_same_src_port_rate</th>\n",
              "      <th>dst_host_srv_diff_host_rate</th>\n",
              "      <th>dst_host_serror_rate</th>\n",
              "      <th>dst_host_srv_serror_rate</th>\n",
              "      <th>dst_host_rerror_rate</th>\n",
              "      <th>dst_host_srv_rerror_rate</th>\n",
              "      <th>attack</th>\n",
              "      <th>level</th>\n",
              "    </tr>\n",
              "  </thead>\n",
              "  <tbody>\n",
              "    <tr>\n",
              "      <th>0</th>\n",
              "      <td>tcp</td>\n",
              "      <td>ftp_data</td>\n",
              "      <td>SF</td>\n",
              "      <td>491</td>\n",
              "      <td>0</td>\n",
              "      <td>0</td>\n",
              "      <td>0</td>\n",
              "      <td>0</td>\n",
              "      <td>0</td>\n",
              "      <td>0</td>\n",
              "      <td>...</td>\n",
              "      <td>0.17</td>\n",
              "      <td>0.03</td>\n",
              "      <td>0.17</td>\n",
              "      <td>0.0</td>\n",
              "      <td>0.0</td>\n",
              "      <td>0.0</td>\n",
              "      <td>0.05</td>\n",
              "      <td>0.0</td>\n",
              "      <td>normal</td>\n",
              "      <td>20</td>\n",
              "    </tr>\n",
              "    <tr>\n",
              "      <th>1</th>\n",
              "      <td>udp</td>\n",
              "      <td>other</td>\n",
              "      <td>SF</td>\n",
              "      <td>146</td>\n",
              "      <td>0</td>\n",
              "      <td>0</td>\n",
              "      <td>0</td>\n",
              "      <td>0</td>\n",
              "      <td>0</td>\n",
              "      <td>0</td>\n",
              "      <td>...</td>\n",
              "      <td>0.00</td>\n",
              "      <td>0.60</td>\n",
              "      <td>0.88</td>\n",
              "      <td>0.0</td>\n",
              "      <td>0.0</td>\n",
              "      <td>0.0</td>\n",
              "      <td>0.00</td>\n",
              "      <td>0.0</td>\n",
              "      <td>normal</td>\n",
              "      <td>15</td>\n",
              "    </tr>\n",
              "    <tr>\n",
              "      <th>2</th>\n",
              "      <td>tcp</td>\n",
              "      <td>private</td>\n",
              "      <td>S0</td>\n",
              "      <td>0</td>\n",
              "      <td>0</td>\n",
              "      <td>0</td>\n",
              "      <td>0</td>\n",
              "      <td>0</td>\n",
              "      <td>0</td>\n",
              "      <td>0</td>\n",
              "      <td>...</td>\n",
              "      <td>0.10</td>\n",
              "      <td>0.05</td>\n",
              "      <td>0.00</td>\n",
              "      <td>0.0</td>\n",
              "      <td>1.0</td>\n",
              "      <td>1.0</td>\n",
              "      <td>0.00</td>\n",
              "      <td>0.0</td>\n",
              "      <td>Dos</td>\n",
              "      <td>19</td>\n",
              "    </tr>\n",
              "  </tbody>\n",
              "</table>\n",
              "<p>3 rows × 42 columns</p>\n",
              "</div>"
            ],
            "text/plain": [
              "  protocol_type   service flag  src_bytes  dst_bytes  land  wrong_fragment  \\\n",
              "0           tcp  ftp_data   SF        491          0     0               0   \n",
              "1           udp     other   SF        146          0     0               0   \n",
              "2           tcp   private   S0          0          0     0               0   \n",
              "\n",
              "   urgent  hot  num_failed_logins  ...  dst_host_same_srv_rate  \\\n",
              "0       0    0                  0  ...                    0.17   \n",
              "1       0    0                  0  ...                    0.00   \n",
              "2       0    0                  0  ...                    0.10   \n",
              "\n",
              "   dst_host_diff_srv_rate  dst_host_same_src_port_rate  \\\n",
              "0                    0.03                         0.17   \n",
              "1                    0.60                         0.88   \n",
              "2                    0.05                         0.00   \n",
              "\n",
              "   dst_host_srv_diff_host_rate  dst_host_serror_rate  \\\n",
              "0                          0.0                   0.0   \n",
              "1                          0.0                   0.0   \n",
              "2                          0.0                   1.0   \n",
              "\n",
              "   dst_host_srv_serror_rate  dst_host_rerror_rate  dst_host_srv_rerror_rate  \\\n",
              "0                       0.0                  0.05                       0.0   \n",
              "1                       0.0                  0.00                       0.0   \n",
              "2                       1.0                  0.00                       0.0   \n",
              "\n",
              "   attack  level  \n",
              "0  normal     20  \n",
              "1  normal     15  \n",
              "2     Dos     19  \n",
              "\n",
              "[3 rows x 42 columns]"
            ]
          },
          "execution_count": 29,
          "metadata": {},
          "output_type": "execute_result"
        }
      ],
      "source": [
        "dataset.head(3)"
      ]
    },
    {
      "cell_type": "code",
      "execution_count": null,
      "metadata": {
        "colab": {
          "base_uri": "https://localhost:8080/",
          "height": 193
        },
        "id": "TBBQO5zcPJjO",
        "outputId": "b433bdab-dc0a-4233-fa81-3b16ceb8514d"
      },
      "outputs": [
        {
          "data": {
            "text/html": [
              "<div>\n",
              "<style scoped>\n",
              "    .dataframe tbody tr th:only-of-type {\n",
              "        vertical-align: middle;\n",
              "    }\n",
              "\n",
              "    .dataframe tbody tr th {\n",
              "        vertical-align: top;\n",
              "    }\n",
              "\n",
              "    .dataframe thead th {\n",
              "        text-align: right;\n",
              "    }\n",
              "</style>\n",
              "<table border=\"1\" class=\"dataframe\">\n",
              "  <thead>\n",
              "    <tr style=\"text-align: right;\">\n",
              "      <th></th>\n",
              "      <th>protocol_type</th>\n",
              "      <th>service</th>\n",
              "      <th>flag</th>\n",
              "      <th>src_bytes</th>\n",
              "      <th>dst_bytes</th>\n",
              "      <th>land</th>\n",
              "      <th>wrong_fragment</th>\n",
              "      <th>urgent</th>\n",
              "      <th>hot</th>\n",
              "      <th>num_failed_logins</th>\n",
              "      <th>...</th>\n",
              "      <th>dst_host_same_srv_rate</th>\n",
              "      <th>dst_host_diff_srv_rate</th>\n",
              "      <th>dst_host_same_src_port_rate</th>\n",
              "      <th>dst_host_srv_diff_host_rate</th>\n",
              "      <th>dst_host_serror_rate</th>\n",
              "      <th>dst_host_srv_serror_rate</th>\n",
              "      <th>dst_host_rerror_rate</th>\n",
              "      <th>dst_host_srv_rerror_rate</th>\n",
              "      <th>attack</th>\n",
              "      <th>level</th>\n",
              "    </tr>\n",
              "  </thead>\n",
              "  <tbody>\n",
              "    <tr>\n",
              "      <th>0</th>\n",
              "      <td>tcp</td>\n",
              "      <td>ftp_data</td>\n",
              "      <td>SF</td>\n",
              "      <td>491</td>\n",
              "      <td>0</td>\n",
              "      <td>0</td>\n",
              "      <td>0</td>\n",
              "      <td>0</td>\n",
              "      <td>0</td>\n",
              "      <td>0</td>\n",
              "      <td>...</td>\n",
              "      <td>0.17</td>\n",
              "      <td>0.03</td>\n",
              "      <td>0.17</td>\n",
              "      <td>0.0</td>\n",
              "      <td>0.0</td>\n",
              "      <td>0.0</td>\n",
              "      <td>0.05</td>\n",
              "      <td>0.0</td>\n",
              "      <td>normal</td>\n",
              "      <td>20</td>\n",
              "    </tr>\n",
              "    <tr>\n",
              "      <th>1</th>\n",
              "      <td>udp</td>\n",
              "      <td>other</td>\n",
              "      <td>SF</td>\n",
              "      <td>146</td>\n",
              "      <td>0</td>\n",
              "      <td>0</td>\n",
              "      <td>0</td>\n",
              "      <td>0</td>\n",
              "      <td>0</td>\n",
              "      <td>0</td>\n",
              "      <td>...</td>\n",
              "      <td>0.00</td>\n",
              "      <td>0.60</td>\n",
              "      <td>0.88</td>\n",
              "      <td>0.0</td>\n",
              "      <td>0.0</td>\n",
              "      <td>0.0</td>\n",
              "      <td>0.00</td>\n",
              "      <td>0.0</td>\n",
              "      <td>normal</td>\n",
              "      <td>15</td>\n",
              "    </tr>\n",
              "    <tr>\n",
              "      <th>2</th>\n",
              "      <td>tcp</td>\n",
              "      <td>private</td>\n",
              "      <td>S0</td>\n",
              "      <td>0</td>\n",
              "      <td>0</td>\n",
              "      <td>0</td>\n",
              "      <td>0</td>\n",
              "      <td>0</td>\n",
              "      <td>0</td>\n",
              "      <td>0</td>\n",
              "      <td>...</td>\n",
              "      <td>0.10</td>\n",
              "      <td>0.05</td>\n",
              "      <td>0.00</td>\n",
              "      <td>0.0</td>\n",
              "      <td>1.0</td>\n",
              "      <td>1.0</td>\n",
              "      <td>0.00</td>\n",
              "      <td>0.0</td>\n",
              "      <td>Dos</td>\n",
              "      <td>19</td>\n",
              "    </tr>\n",
              "  </tbody>\n",
              "</table>\n",
              "<p>3 rows × 42 columns</p>\n",
              "</div>"
            ],
            "text/plain": [
              "  protocol_type   service flag  src_bytes  dst_bytes  land  wrong_fragment  \\\n",
              "0           tcp  ftp_data   SF        491          0     0               0   \n",
              "1           udp     other   SF        146          0     0               0   \n",
              "2           tcp   private   S0          0          0     0               0   \n",
              "\n",
              "   urgent  hot  num_failed_logins  ...  dst_host_same_srv_rate  \\\n",
              "0       0    0                  0  ...                    0.17   \n",
              "1       0    0                  0  ...                    0.00   \n",
              "2       0    0                  0  ...                    0.10   \n",
              "\n",
              "   dst_host_diff_srv_rate  dst_host_same_src_port_rate  \\\n",
              "0                    0.03                         0.17   \n",
              "1                    0.60                         0.88   \n",
              "2                    0.05                         0.00   \n",
              "\n",
              "   dst_host_srv_diff_host_rate  dst_host_serror_rate  \\\n",
              "0                          0.0                   0.0   \n",
              "1                          0.0                   0.0   \n",
              "2                          0.0                   1.0   \n",
              "\n",
              "   dst_host_srv_serror_rate  dst_host_rerror_rate  dst_host_srv_rerror_rate  \\\n",
              "0                       0.0                  0.05                       0.0   \n",
              "1                       0.0                  0.00                       0.0   \n",
              "2                       1.0                  0.00                       0.0   \n",
              "\n",
              "   attack  level  \n",
              "0  normal     20  \n",
              "1  normal     15  \n",
              "2     Dos     19  \n",
              "\n",
              "[3 rows x 42 columns]"
            ]
          },
          "execution_count": 34,
          "metadata": {},
          "output_type": "execute_result"
        }
      ],
      "source": [
        "dataset.head(3)"
      ]
    },
    {
      "cell_type": "code",
      "execution_count": null,
      "metadata": {
        "colab": {
          "base_uri": "https://localhost:8080/",
          "height": 193
        },
        "id": "al1-C1pnVY1f",
        "outputId": "c1cb7306-2036-4269-9f9a-d2ca984f07d4"
      },
      "outputs": [
        {
          "data": {
            "text/html": [
              "<div>\n",
              "<style scoped>\n",
              "    .dataframe tbody tr th:only-of-type {\n",
              "        vertical-align: middle;\n",
              "    }\n",
              "\n",
              "    .dataframe tbody tr th {\n",
              "        vertical-align: top;\n",
              "    }\n",
              "\n",
              "    .dataframe thead th {\n",
              "        text-align: right;\n",
              "    }\n",
              "</style>\n",
              "<table border=\"1\" class=\"dataframe\">\n",
              "  <thead>\n",
              "    <tr style=\"text-align: right;\">\n",
              "      <th></th>\n",
              "      <th>protocol_type</th>\n",
              "      <th>service</th>\n",
              "      <th>flag</th>\n",
              "      <th>src_bytes</th>\n",
              "      <th>dst_bytes</th>\n",
              "      <th>land</th>\n",
              "      <th>wrong_fragment</th>\n",
              "      <th>urgent</th>\n",
              "      <th>hot</th>\n",
              "      <th>num_failed_logins</th>\n",
              "      <th>...</th>\n",
              "      <th>dst_host_same_srv_rate</th>\n",
              "      <th>dst_host_diff_srv_rate</th>\n",
              "      <th>dst_host_same_src_port_rate</th>\n",
              "      <th>dst_host_srv_diff_host_rate</th>\n",
              "      <th>dst_host_serror_rate</th>\n",
              "      <th>dst_host_srv_serror_rate</th>\n",
              "      <th>dst_host_rerror_rate</th>\n",
              "      <th>dst_host_srv_rerror_rate</th>\n",
              "      <th>attack</th>\n",
              "      <th>level</th>\n",
              "    </tr>\n",
              "  </thead>\n",
              "  <tbody>\n",
              "    <tr>\n",
              "      <th>0</th>\n",
              "      <td>tcp</td>\n",
              "      <td>ftp_data</td>\n",
              "      <td>SF</td>\n",
              "      <td>491</td>\n",
              "      <td>0</td>\n",
              "      <td>0</td>\n",
              "      <td>0</td>\n",
              "      <td>0</td>\n",
              "      <td>0</td>\n",
              "      <td>0</td>\n",
              "      <td>...</td>\n",
              "      <td>0.17</td>\n",
              "      <td>0.03</td>\n",
              "      <td>0.17</td>\n",
              "      <td>0.0</td>\n",
              "      <td>0.0</td>\n",
              "      <td>0.0</td>\n",
              "      <td>0.05</td>\n",
              "      <td>0.0</td>\n",
              "      <td>normal</td>\n",
              "      <td>20</td>\n",
              "    </tr>\n",
              "    <tr>\n",
              "      <th>1</th>\n",
              "      <td>udp</td>\n",
              "      <td>other</td>\n",
              "      <td>SF</td>\n",
              "      <td>146</td>\n",
              "      <td>0</td>\n",
              "      <td>0</td>\n",
              "      <td>0</td>\n",
              "      <td>0</td>\n",
              "      <td>0</td>\n",
              "      <td>0</td>\n",
              "      <td>...</td>\n",
              "      <td>0.00</td>\n",
              "      <td>0.60</td>\n",
              "      <td>0.88</td>\n",
              "      <td>0.0</td>\n",
              "      <td>0.0</td>\n",
              "      <td>0.0</td>\n",
              "      <td>0.00</td>\n",
              "      <td>0.0</td>\n",
              "      <td>normal</td>\n",
              "      <td>15</td>\n",
              "    </tr>\n",
              "    <tr>\n",
              "      <th>2</th>\n",
              "      <td>tcp</td>\n",
              "      <td>private</td>\n",
              "      <td>S0</td>\n",
              "      <td>0</td>\n",
              "      <td>0</td>\n",
              "      <td>0</td>\n",
              "      <td>0</td>\n",
              "      <td>0</td>\n",
              "      <td>0</td>\n",
              "      <td>0</td>\n",
              "      <td>...</td>\n",
              "      <td>0.10</td>\n",
              "      <td>0.05</td>\n",
              "      <td>0.00</td>\n",
              "      <td>0.0</td>\n",
              "      <td>1.0</td>\n",
              "      <td>1.0</td>\n",
              "      <td>0.00</td>\n",
              "      <td>0.0</td>\n",
              "      <td>Dos</td>\n",
              "      <td>19</td>\n",
              "    </tr>\n",
              "  </tbody>\n",
              "</table>\n",
              "<p>3 rows × 42 columns</p>\n",
              "</div>"
            ],
            "text/plain": [
              "  protocol_type   service flag  src_bytes  dst_bytes  land  wrong_fragment  \\\n",
              "0           tcp  ftp_data   SF        491          0     0               0   \n",
              "1           udp     other   SF        146          0     0               0   \n",
              "2           tcp   private   S0          0          0     0               0   \n",
              "\n",
              "   urgent  hot  num_failed_logins  ...  dst_host_same_srv_rate  \\\n",
              "0       0    0                  0  ...                    0.17   \n",
              "1       0    0                  0  ...                    0.00   \n",
              "2       0    0                  0  ...                    0.10   \n",
              "\n",
              "   dst_host_diff_srv_rate  dst_host_same_src_port_rate  \\\n",
              "0                    0.03                         0.17   \n",
              "1                    0.60                         0.88   \n",
              "2                    0.05                         0.00   \n",
              "\n",
              "   dst_host_srv_diff_host_rate  dst_host_serror_rate  \\\n",
              "0                          0.0                   0.0   \n",
              "1                          0.0                   0.0   \n",
              "2                          0.0                   1.0   \n",
              "\n",
              "   dst_host_srv_serror_rate  dst_host_rerror_rate  dst_host_srv_rerror_rate  \\\n",
              "0                       0.0                  0.05                       0.0   \n",
              "1                       0.0                  0.00                       0.0   \n",
              "2                       1.0                  0.00                       0.0   \n",
              "\n",
              "   attack  level  \n",
              "0  normal     20  \n",
              "1  normal     15  \n",
              "2     Dos     19  \n",
              "\n",
              "[3 rows x 42 columns]"
            ]
          },
          "execution_count": 35,
          "metadata": {},
          "output_type": "execute_result"
        }
      ],
      "source": [
        "dataset.head(3)"
      ]
    },
    {
      "cell_type": "code",
      "execution_count": null,
      "metadata": {
        "colab": {
          "base_uri": "https://localhost:8080/",
          "height": 193
        },
        "id": "U7YPQKldVyNA",
        "outputId": "b2ff0008-60f5-4258-f5f3-df5db82e83e5"
      },
      "outputs": [
        {
          "data": {
            "text/html": [
              "<div>\n",
              "<style scoped>\n",
              "    .dataframe tbody tr th:only-of-type {\n",
              "        vertical-align: middle;\n",
              "    }\n",
              "\n",
              "    .dataframe tbody tr th {\n",
              "        vertical-align: top;\n",
              "    }\n",
              "\n",
              "    .dataframe thead th {\n",
              "        text-align: right;\n",
              "    }\n",
              "</style>\n",
              "<table border=\"1\" class=\"dataframe\">\n",
              "  <thead>\n",
              "    <tr style=\"text-align: right;\">\n",
              "      <th></th>\n",
              "      <th>protocol_type</th>\n",
              "      <th>service</th>\n",
              "      <th>flag</th>\n",
              "      <th>src_bytes</th>\n",
              "      <th>dst_bytes</th>\n",
              "      <th>land</th>\n",
              "      <th>wrong_fragment</th>\n",
              "      <th>urgent</th>\n",
              "      <th>hot</th>\n",
              "      <th>num_failed_logins</th>\n",
              "      <th>...</th>\n",
              "      <th>dst_host_same_srv_rate</th>\n",
              "      <th>dst_host_diff_srv_rate</th>\n",
              "      <th>dst_host_same_src_port_rate</th>\n",
              "      <th>dst_host_srv_diff_host_rate</th>\n",
              "      <th>dst_host_serror_rate</th>\n",
              "      <th>dst_host_srv_serror_rate</th>\n",
              "      <th>dst_host_rerror_rate</th>\n",
              "      <th>dst_host_srv_rerror_rate</th>\n",
              "      <th>attack</th>\n",
              "      <th>level</th>\n",
              "    </tr>\n",
              "  </thead>\n",
              "  <tbody>\n",
              "    <tr>\n",
              "      <th>0</th>\n",
              "      <td>tcp</td>\n",
              "      <td>ftp_data</td>\n",
              "      <td>SF</td>\n",
              "      <td>491</td>\n",
              "      <td>0</td>\n",
              "      <td>0</td>\n",
              "      <td>0</td>\n",
              "      <td>0</td>\n",
              "      <td>0</td>\n",
              "      <td>0</td>\n",
              "      <td>...</td>\n",
              "      <td>0.17</td>\n",
              "      <td>0.03</td>\n",
              "      <td>0.17</td>\n",
              "      <td>0.0</td>\n",
              "      <td>0.0</td>\n",
              "      <td>0.0</td>\n",
              "      <td>0.05</td>\n",
              "      <td>0.0</td>\n",
              "      <td>normal</td>\n",
              "      <td>20</td>\n",
              "    </tr>\n",
              "    <tr>\n",
              "      <th>1</th>\n",
              "      <td>udp</td>\n",
              "      <td>other</td>\n",
              "      <td>SF</td>\n",
              "      <td>146</td>\n",
              "      <td>0</td>\n",
              "      <td>0</td>\n",
              "      <td>0</td>\n",
              "      <td>0</td>\n",
              "      <td>0</td>\n",
              "      <td>0</td>\n",
              "      <td>...</td>\n",
              "      <td>0.00</td>\n",
              "      <td>0.60</td>\n",
              "      <td>0.88</td>\n",
              "      <td>0.0</td>\n",
              "      <td>0.0</td>\n",
              "      <td>0.0</td>\n",
              "      <td>0.00</td>\n",
              "      <td>0.0</td>\n",
              "      <td>normal</td>\n",
              "      <td>15</td>\n",
              "    </tr>\n",
              "    <tr>\n",
              "      <th>2</th>\n",
              "      <td>tcp</td>\n",
              "      <td>private</td>\n",
              "      <td>S0</td>\n",
              "      <td>0</td>\n",
              "      <td>0</td>\n",
              "      <td>0</td>\n",
              "      <td>0</td>\n",
              "      <td>0</td>\n",
              "      <td>0</td>\n",
              "      <td>0</td>\n",
              "      <td>...</td>\n",
              "      <td>0.10</td>\n",
              "      <td>0.05</td>\n",
              "      <td>0.00</td>\n",
              "      <td>0.0</td>\n",
              "      <td>1.0</td>\n",
              "      <td>1.0</td>\n",
              "      <td>0.00</td>\n",
              "      <td>0.0</td>\n",
              "      <td>Dos</td>\n",
              "      <td>19</td>\n",
              "    </tr>\n",
              "  </tbody>\n",
              "</table>\n",
              "<p>3 rows × 42 columns</p>\n",
              "</div>"
            ],
            "text/plain": [
              "  protocol_type   service flag  src_bytes  dst_bytes  land  wrong_fragment  \\\n",
              "0           tcp  ftp_data   SF        491          0     0               0   \n",
              "1           udp     other   SF        146          0     0               0   \n",
              "2           tcp   private   S0          0          0     0               0   \n",
              "\n",
              "   urgent  hot  num_failed_logins  ...  dst_host_same_srv_rate  \\\n",
              "0       0    0                  0  ...                    0.17   \n",
              "1       0    0                  0  ...                    0.00   \n",
              "2       0    0                  0  ...                    0.10   \n",
              "\n",
              "   dst_host_diff_srv_rate  dst_host_same_src_port_rate  \\\n",
              "0                    0.03                         0.17   \n",
              "1                    0.60                         0.88   \n",
              "2                    0.05                         0.00   \n",
              "\n",
              "   dst_host_srv_diff_host_rate  dst_host_serror_rate  \\\n",
              "0                          0.0                   0.0   \n",
              "1                          0.0                   0.0   \n",
              "2                          0.0                   1.0   \n",
              "\n",
              "   dst_host_srv_serror_rate  dst_host_rerror_rate  dst_host_srv_rerror_rate  \\\n",
              "0                       0.0                  0.05                       0.0   \n",
              "1                       0.0                  0.00                       0.0   \n",
              "2                       1.0                  0.00                       0.0   \n",
              "\n",
              "   attack  level  \n",
              "0  normal     20  \n",
              "1  normal     15  \n",
              "2     Dos     19  \n",
              "\n",
              "[3 rows x 42 columns]"
            ]
          },
          "execution_count": 37,
          "metadata": {},
          "output_type": "execute_result"
        }
      ],
      "source": [
        "dataset.head(3)"
      ]
    },
    {
      "cell_type": "markdown",
      "metadata": {
        "id": "8djIt-HY__Ix"
      },
      "source": [
        "**Identify numerical and categorical features**"
      ]
    },
    {
      "cell_type": "code",
      "execution_count": null,
      "metadata": {
        "id": "OXld9PY37sb2"
      },
      "outputs": [],
      "source": [
        "numerical_col_m = dataset.select_dtypes(include=['int64', 'float64']).columns\n",
        "categorical_col_m = dataset.select_dtypes(include=['object']).columns"
      ]
    },
    {
      "cell_type": "markdown",
      "metadata": {
        "id": "tLXPQj7DV4v-"
      },
      "source": [
        "**Feature scaling**"
      ]
    },
    {
      "cell_type": "code",
      "execution_count": null,
      "metadata": {
        "id": "i_TBcGr15k9q"
      },
      "outputs": [],
      "source": [
        "scaler = MinMaxScaler()"
      ]
    },
    {
      "cell_type": "markdown",
      "metadata": {
        "id": "zX0Ae72f98fD"
      },
      "source": [
        "**Label Encoding**"
      ]
    },
    {
      "cell_type": "code",
      "execution_count": null,
      "metadata": {
        "id": "6QdAEcK-7Z5Z"
      },
      "outputs": [],
      "source": [
        "dataset[['protocol_type', 'service', 'flag' ]] = dataset[['protocol_type', 'service', 'flag' ]].apply(LabelEncoder().fit_transform)"
      ]
    },
    {
      "cell_type": "code",
      "execution_count": null,
      "metadata": {
        "colab": {
          "base_uri": "https://localhost:8080/",
          "height": 193
        },
        "id": "7yglHDWQ7Zwx",
        "outputId": "e09ff121-1bbd-4519-eb2a-3d2250e6eb26"
      },
      "outputs": [
        {
          "data": {
            "text/html": [
              "<div>\n",
              "<style scoped>\n",
              "    .dataframe tbody tr th:only-of-type {\n",
              "        vertical-align: middle;\n",
              "    }\n",
              "\n",
              "    .dataframe tbody tr th {\n",
              "        vertical-align: top;\n",
              "    }\n",
              "\n",
              "    .dataframe thead th {\n",
              "        text-align: right;\n",
              "    }\n",
              "</style>\n",
              "<table border=\"1\" class=\"dataframe\">\n",
              "  <thead>\n",
              "    <tr style=\"text-align: right;\">\n",
              "      <th></th>\n",
              "      <th>protocol_type</th>\n",
              "      <th>service</th>\n",
              "      <th>flag</th>\n",
              "      <th>src_bytes</th>\n",
              "      <th>dst_bytes</th>\n",
              "      <th>land</th>\n",
              "      <th>wrong_fragment</th>\n",
              "      <th>urgent</th>\n",
              "      <th>hot</th>\n",
              "      <th>num_failed_logins</th>\n",
              "      <th>...</th>\n",
              "      <th>dst_host_same_srv_rate</th>\n",
              "      <th>dst_host_diff_srv_rate</th>\n",
              "      <th>dst_host_same_src_port_rate</th>\n",
              "      <th>dst_host_srv_diff_host_rate</th>\n",
              "      <th>dst_host_serror_rate</th>\n",
              "      <th>dst_host_srv_serror_rate</th>\n",
              "      <th>dst_host_rerror_rate</th>\n",
              "      <th>dst_host_srv_rerror_rate</th>\n",
              "      <th>attack</th>\n",
              "      <th>level</th>\n",
              "    </tr>\n",
              "  </thead>\n",
              "  <tbody>\n",
              "    <tr>\n",
              "      <th>0</th>\n",
              "      <td>1</td>\n",
              "      <td>20</td>\n",
              "      <td>9</td>\n",
              "      <td>491</td>\n",
              "      <td>0</td>\n",
              "      <td>0</td>\n",
              "      <td>0</td>\n",
              "      <td>0</td>\n",
              "      <td>0</td>\n",
              "      <td>0</td>\n",
              "      <td>...</td>\n",
              "      <td>0.17</td>\n",
              "      <td>0.03</td>\n",
              "      <td>0.17</td>\n",
              "      <td>0.0</td>\n",
              "      <td>0.0</td>\n",
              "      <td>0.0</td>\n",
              "      <td>0.05</td>\n",
              "      <td>0.0</td>\n",
              "      <td>normal</td>\n",
              "      <td>20</td>\n",
              "    </tr>\n",
              "    <tr>\n",
              "      <th>1</th>\n",
              "      <td>2</td>\n",
              "      <td>44</td>\n",
              "      <td>9</td>\n",
              "      <td>146</td>\n",
              "      <td>0</td>\n",
              "      <td>0</td>\n",
              "      <td>0</td>\n",
              "      <td>0</td>\n",
              "      <td>0</td>\n",
              "      <td>0</td>\n",
              "      <td>...</td>\n",
              "      <td>0.00</td>\n",
              "      <td>0.60</td>\n",
              "      <td>0.88</td>\n",
              "      <td>0.0</td>\n",
              "      <td>0.0</td>\n",
              "      <td>0.0</td>\n",
              "      <td>0.00</td>\n",
              "      <td>0.0</td>\n",
              "      <td>normal</td>\n",
              "      <td>15</td>\n",
              "    </tr>\n",
              "    <tr>\n",
              "      <th>2</th>\n",
              "      <td>1</td>\n",
              "      <td>49</td>\n",
              "      <td>5</td>\n",
              "      <td>0</td>\n",
              "      <td>0</td>\n",
              "      <td>0</td>\n",
              "      <td>0</td>\n",
              "      <td>0</td>\n",
              "      <td>0</td>\n",
              "      <td>0</td>\n",
              "      <td>...</td>\n",
              "      <td>0.10</td>\n",
              "      <td>0.05</td>\n",
              "      <td>0.00</td>\n",
              "      <td>0.0</td>\n",
              "      <td>1.0</td>\n",
              "      <td>1.0</td>\n",
              "      <td>0.00</td>\n",
              "      <td>0.0</td>\n",
              "      <td>Dos</td>\n",
              "      <td>19</td>\n",
              "    </tr>\n",
              "  </tbody>\n",
              "</table>\n",
              "<p>3 rows × 42 columns</p>\n",
              "</div>"
            ],
            "text/plain": [
              "   protocol_type  service  flag  src_bytes  dst_bytes  land  wrong_fragment  \\\n",
              "0              1       20     9        491          0     0               0   \n",
              "1              2       44     9        146          0     0               0   \n",
              "2              1       49     5          0          0     0               0   \n",
              "\n",
              "   urgent  hot  num_failed_logins  ...  dst_host_same_srv_rate  \\\n",
              "0       0    0                  0  ...                    0.17   \n",
              "1       0    0                  0  ...                    0.00   \n",
              "2       0    0                  0  ...                    0.10   \n",
              "\n",
              "   dst_host_diff_srv_rate  dst_host_same_src_port_rate  \\\n",
              "0                    0.03                         0.17   \n",
              "1                    0.60                         0.88   \n",
              "2                    0.05                         0.00   \n",
              "\n",
              "   dst_host_srv_diff_host_rate  dst_host_serror_rate  \\\n",
              "0                          0.0                   0.0   \n",
              "1                          0.0                   0.0   \n",
              "2                          0.0                   1.0   \n",
              "\n",
              "   dst_host_srv_serror_rate  dst_host_rerror_rate  dst_host_srv_rerror_rate  \\\n",
              "0                       0.0                  0.05                       0.0   \n",
              "1                       0.0                  0.00                       0.0   \n",
              "2                       1.0                  0.00                       0.0   \n",
              "\n",
              "   attack  level  \n",
              "0  normal     20  \n",
              "1  normal     15  \n",
              "2     Dos     19  \n",
              "\n",
              "[3 rows x 42 columns]"
            ]
          },
          "execution_count": 44,
          "metadata": {},
          "output_type": "execute_result"
        }
      ],
      "source": [
        "dataset.head(3)"
      ]
    },
    {
      "cell_type": "code",
      "execution_count": null,
      "metadata": {
        "colab": {
          "base_uri": "https://localhost:8080/"
        },
        "id": "OHpQ27JW7Zh4",
        "outputId": "fbce09a0-ae01-43d9-bcd3-813f1eec7424"
      },
      "outputs": [
        {
          "name": "stdout",
          "output_type": "stream",
          "text": [
            "<class 'pandas.core.frame.DataFrame'>\n",
            "RangeIndex: 148517 entries, 0 to 148516\n",
            "Data columns (total 42 columns):\n",
            " #   Column                       Non-Null Count   Dtype  \n",
            "---  ------                       --------------   -----  \n",
            " 0   protocol_type                148517 non-null  int32  \n",
            " 1   service                      148517 non-null  int32  \n",
            " 2   flag                         148517 non-null  int32  \n",
            " 3   src_bytes                    148517 non-null  int64  \n",
            " 4   dst_bytes                    148517 non-null  int64  \n",
            " 5   land                         148517 non-null  int64  \n",
            " 6   wrong_fragment               148517 non-null  int64  \n",
            " 7   urgent                       148517 non-null  int64  \n",
            " 8   hot                          148517 non-null  int64  \n",
            " 9   num_failed_logins            148517 non-null  int64  \n",
            " 10  logged_in                    148517 non-null  int64  \n",
            " 11  num_compromised              148517 non-null  int64  \n",
            " 12  root_shell                   148517 non-null  int64  \n",
            " 13  su_attempted                 148517 non-null  int64  \n",
            " 14  num_root                     148517 non-null  int64  \n",
            " 15  num_file_creations           148517 non-null  int64  \n",
            " 16  num_shells                   148517 non-null  int64  \n",
            " 17  num_access_files             148517 non-null  int64  \n",
            " 18  num_outbound_cmds            148517 non-null  int64  \n",
            " 19  is_host_login                148517 non-null  int64  \n",
            " 20  is_guest_login               148517 non-null  int64  \n",
            " 21  count                        148517 non-null  int64  \n",
            " 22  srv_count                    148517 non-null  int64  \n",
            " 23  serror_rate                  148517 non-null  float64\n",
            " 24  srv_serror_rate              148517 non-null  float64\n",
            " 25  rerror_rate                  148517 non-null  float64\n",
            " 26  srv_rerror_rate              148517 non-null  float64\n",
            " 27  same_srv_rate                148517 non-null  float64\n",
            " 28  diff_srv_rate                148517 non-null  float64\n",
            " 29  srv_diff_host_rate           148517 non-null  float64\n",
            " 30  dst_host_count               148517 non-null  int64  \n",
            " 31  dst_host_srv_count           148517 non-null  int64  \n",
            " 32  dst_host_same_srv_rate       148517 non-null  float64\n",
            " 33  dst_host_diff_srv_rate       148517 non-null  float64\n",
            " 34  dst_host_same_src_port_rate  148517 non-null  float64\n",
            " 35  dst_host_srv_diff_host_rate  148517 non-null  float64\n",
            " 36  dst_host_serror_rate         148517 non-null  float64\n",
            " 37  dst_host_srv_serror_rate     148517 non-null  float64\n",
            " 38  dst_host_rerror_rate         148517 non-null  float64\n",
            " 39  dst_host_srv_rerror_rate     148517 non-null  float64\n",
            " 40  attack                       148517 non-null  object \n",
            " 41  level                        148517 non-null  int64  \n",
            "dtypes: float64(15), int32(3), int64(23), object(1)\n",
            "memory usage: 45.9+ MB\n"
          ]
        }
      ],
      "source": [
        "dataset.info()"
      ]
    },
    {
      "cell_type": "code",
      "execution_count": null,
      "metadata": {
        "colab": {
          "base_uri": "https://localhost:8080/"
        },
        "id": "wSzAiEX38m3j",
        "outputId": "960d08f2-d22e-488b-9390-4dafa19773e7"
      },
      "outputs": [
        {
          "name": "stdout",
          "output_type": "stream",
          "text": [
            "Unique values in protocol_type: [1 2 0]\n",
            "\n",
            "Unique values in service: [20 44 49 24 51 36 38 14 35 60 18 12 58 67  2 54  7 66 37 65  4 11 19  5\n",
            " 32 15 21 68 59 26 16 69 28 29 13 30 33 57 34 31 55 63 23 17 43 10 42  6\n",
            "  8 56  9 53 40 47 41  0 46 48 62 45 50 39 52  1 64 27  3 25 61 22]\n",
            "\n",
            "Unique values in flag: [ 9  5  1  4 10  2  6  3  8  7  0]\n",
            "\n"
          ]
        }
      ],
      "source": [
        "for column in ['protocol_type', 'service', 'flag']:\n",
        "    print(f\"Unique values in {column}: {dataset[column].unique()}\\n\")"
      ]
    },
    {
      "cell_type": "code",
      "execution_count": null,
      "metadata": {
        "colab": {
          "base_uri": "https://localhost:8080/",
          "height": 255
        },
        "id": "0gdpmSD_8rBS",
        "outputId": "12327ee6-9fce-4b81-e93d-a5511dd71058"
      },
      "outputs": [
        {
          "data": {
            "text/html": [
              "<div>\n",
              "<style scoped>\n",
              "    .dataframe tbody tr th:only-of-type {\n",
              "        vertical-align: middle;\n",
              "    }\n",
              "\n",
              "    .dataframe tbody tr th {\n",
              "        vertical-align: top;\n",
              "    }\n",
              "\n",
              "    .dataframe thead th {\n",
              "        text-align: right;\n",
              "    }\n",
              "</style>\n",
              "<table border=\"1\" class=\"dataframe\">\n",
              "  <thead>\n",
              "    <tr style=\"text-align: right;\">\n",
              "      <th></th>\n",
              "      <th>protocol_type</th>\n",
              "      <th>service</th>\n",
              "      <th>flag</th>\n",
              "      <th>src_bytes</th>\n",
              "      <th>dst_bytes</th>\n",
              "      <th>land</th>\n",
              "      <th>wrong_fragment</th>\n",
              "      <th>urgent</th>\n",
              "      <th>hot</th>\n",
              "      <th>num_failed_logins</th>\n",
              "      <th>...</th>\n",
              "      <th>dst_host_same_srv_rate</th>\n",
              "      <th>dst_host_diff_srv_rate</th>\n",
              "      <th>dst_host_same_src_port_rate</th>\n",
              "      <th>dst_host_srv_diff_host_rate</th>\n",
              "      <th>dst_host_serror_rate</th>\n",
              "      <th>dst_host_srv_serror_rate</th>\n",
              "      <th>dst_host_rerror_rate</th>\n",
              "      <th>dst_host_srv_rerror_rate</th>\n",
              "      <th>attack</th>\n",
              "      <th>level</th>\n",
              "    </tr>\n",
              "  </thead>\n",
              "  <tbody>\n",
              "    <tr>\n",
              "      <th>0</th>\n",
              "      <td>1</td>\n",
              "      <td>20</td>\n",
              "      <td>9</td>\n",
              "      <td>491</td>\n",
              "      <td>0</td>\n",
              "      <td>0</td>\n",
              "      <td>0</td>\n",
              "      <td>0</td>\n",
              "      <td>0</td>\n",
              "      <td>0</td>\n",
              "      <td>...</td>\n",
              "      <td>0.17</td>\n",
              "      <td>0.03</td>\n",
              "      <td>0.17</td>\n",
              "      <td>0.00</td>\n",
              "      <td>0.00</td>\n",
              "      <td>0.00</td>\n",
              "      <td>0.05</td>\n",
              "      <td>0.00</td>\n",
              "      <td>normal</td>\n",
              "      <td>20</td>\n",
              "    </tr>\n",
              "    <tr>\n",
              "      <th>1</th>\n",
              "      <td>2</td>\n",
              "      <td>44</td>\n",
              "      <td>9</td>\n",
              "      <td>146</td>\n",
              "      <td>0</td>\n",
              "      <td>0</td>\n",
              "      <td>0</td>\n",
              "      <td>0</td>\n",
              "      <td>0</td>\n",
              "      <td>0</td>\n",
              "      <td>...</td>\n",
              "      <td>0.00</td>\n",
              "      <td>0.60</td>\n",
              "      <td>0.88</td>\n",
              "      <td>0.00</td>\n",
              "      <td>0.00</td>\n",
              "      <td>0.00</td>\n",
              "      <td>0.00</td>\n",
              "      <td>0.00</td>\n",
              "      <td>normal</td>\n",
              "      <td>15</td>\n",
              "    </tr>\n",
              "    <tr>\n",
              "      <th>2</th>\n",
              "      <td>1</td>\n",
              "      <td>49</td>\n",
              "      <td>5</td>\n",
              "      <td>0</td>\n",
              "      <td>0</td>\n",
              "      <td>0</td>\n",
              "      <td>0</td>\n",
              "      <td>0</td>\n",
              "      <td>0</td>\n",
              "      <td>0</td>\n",
              "      <td>...</td>\n",
              "      <td>0.10</td>\n",
              "      <td>0.05</td>\n",
              "      <td>0.00</td>\n",
              "      <td>0.00</td>\n",
              "      <td>1.00</td>\n",
              "      <td>1.00</td>\n",
              "      <td>0.00</td>\n",
              "      <td>0.00</td>\n",
              "      <td>Dos</td>\n",
              "      <td>19</td>\n",
              "    </tr>\n",
              "    <tr>\n",
              "      <th>3</th>\n",
              "      <td>1</td>\n",
              "      <td>24</td>\n",
              "      <td>9</td>\n",
              "      <td>232</td>\n",
              "      <td>8153</td>\n",
              "      <td>0</td>\n",
              "      <td>0</td>\n",
              "      <td>0</td>\n",
              "      <td>0</td>\n",
              "      <td>0</td>\n",
              "      <td>...</td>\n",
              "      <td>1.00</td>\n",
              "      <td>0.00</td>\n",
              "      <td>0.03</td>\n",
              "      <td>0.04</td>\n",
              "      <td>0.03</td>\n",
              "      <td>0.01</td>\n",
              "      <td>0.00</td>\n",
              "      <td>0.01</td>\n",
              "      <td>normal</td>\n",
              "      <td>21</td>\n",
              "    </tr>\n",
              "    <tr>\n",
              "      <th>4</th>\n",
              "      <td>1</td>\n",
              "      <td>24</td>\n",
              "      <td>9</td>\n",
              "      <td>199</td>\n",
              "      <td>420</td>\n",
              "      <td>0</td>\n",
              "      <td>0</td>\n",
              "      <td>0</td>\n",
              "      <td>0</td>\n",
              "      <td>0</td>\n",
              "      <td>...</td>\n",
              "      <td>1.00</td>\n",
              "      <td>0.00</td>\n",
              "      <td>0.00</td>\n",
              "      <td>0.00</td>\n",
              "      <td>0.00</td>\n",
              "      <td>0.00</td>\n",
              "      <td>0.00</td>\n",
              "      <td>0.00</td>\n",
              "      <td>normal</td>\n",
              "      <td>21</td>\n",
              "    </tr>\n",
              "  </tbody>\n",
              "</table>\n",
              "<p>5 rows × 42 columns</p>\n",
              "</div>"
            ],
            "text/plain": [
              "   protocol_type  service  flag  src_bytes  dst_bytes  land  wrong_fragment  \\\n",
              "0              1       20     9        491          0     0               0   \n",
              "1              2       44     9        146          0     0               0   \n",
              "2              1       49     5          0          0     0               0   \n",
              "3              1       24     9        232       8153     0               0   \n",
              "4              1       24     9        199        420     0               0   \n",
              "\n",
              "   urgent  hot  num_failed_logins  ...  dst_host_same_srv_rate  \\\n",
              "0       0    0                  0  ...                    0.17   \n",
              "1       0    0                  0  ...                    0.00   \n",
              "2       0    0                  0  ...                    0.10   \n",
              "3       0    0                  0  ...                    1.00   \n",
              "4       0    0                  0  ...                    1.00   \n",
              "\n",
              "   dst_host_diff_srv_rate  dst_host_same_src_port_rate  \\\n",
              "0                    0.03                         0.17   \n",
              "1                    0.60                         0.88   \n",
              "2                    0.05                         0.00   \n",
              "3                    0.00                         0.03   \n",
              "4                    0.00                         0.00   \n",
              "\n",
              "   dst_host_srv_diff_host_rate  dst_host_serror_rate  \\\n",
              "0                         0.00                  0.00   \n",
              "1                         0.00                  0.00   \n",
              "2                         0.00                  1.00   \n",
              "3                         0.04                  0.03   \n",
              "4                         0.00                  0.00   \n",
              "\n",
              "   dst_host_srv_serror_rate  dst_host_rerror_rate  dst_host_srv_rerror_rate  \\\n",
              "0                      0.00                  0.05                      0.00   \n",
              "1                      0.00                  0.00                      0.00   \n",
              "2                      1.00                  0.00                      0.00   \n",
              "3                      0.01                  0.00                      0.01   \n",
              "4                      0.00                  0.00                      0.00   \n",
              "\n",
              "   attack  level  \n",
              "0  normal     20  \n",
              "1  normal     15  \n",
              "2     Dos     19  \n",
              "3  normal     21  \n",
              "4  normal     21  \n",
              "\n",
              "[5 rows x 42 columns]"
            ]
          },
          "execution_count": 47,
          "metadata": {},
          "output_type": "execute_result"
        }
      ],
      "source": [
        "dataset.head()"
      ]
    },
    {
      "cell_type": "markdown",
      "metadata": {
        "id": "jdx4fC7i-xOo"
      },
      "source": [
        "**Handle duplicate values**"
      ]
    },
    {
      "cell_type": "code",
      "execution_count": null,
      "metadata": {
        "colab": {
          "base_uri": "https://localhost:8080/"
        },
        "id": "SCGZgDza-oHY",
        "outputId": "aded3ee0-b3ad-4331-88b9-5c4d9f85b6ba"
      },
      "outputs": [
        {
          "data": {
            "text/plain": [
              "2015"
            ]
          },
          "execution_count": 48,
          "metadata": {},
          "output_type": "execute_result"
        }
      ],
      "source": [
        "dataset.duplicated().sum()"
      ]
    },
    {
      "cell_type": "code",
      "execution_count": null,
      "metadata": {
        "id": "0ZX2OO0m-oEa"
      },
      "outputs": [],
      "source": [
        "dataset.drop_duplicates(subset=None, keep=\"first\", inplace=True)"
      ]
    },
    {
      "cell_type": "code",
      "execution_count": null,
      "metadata": {
        "colab": {
          "base_uri": "https://localhost:8080/"
        },
        "id": "l7UhZ68q-oBX",
        "outputId": "bdf8caf2-5ae0-479f-de87-39d2dca1b722"
      },
      "outputs": [
        {
          "data": {
            "text/plain": [
              "0"
            ]
          },
          "execution_count": 50,
          "metadata": {},
          "output_type": "execute_result"
        }
      ],
      "source": [
        "dataset.duplicated().sum()"
      ]
    },
    {
      "cell_type": "code",
      "execution_count": null,
      "metadata": {
        "colab": {
          "base_uri": "https://localhost:8080/"
        },
        "id": "35_JXhYM-6Gz",
        "outputId": "9f87609a-8205-486e-c20e-1d5dbab97c4d"
      },
      "outputs": [
        {
          "name": "stdout",
          "output_type": "stream",
          "text": [
            "<class 'pandas.core.frame.DataFrame'>\n",
            "Index: 146502 entries, 0 to 148516\n",
            "Data columns (total 42 columns):\n",
            " #   Column                       Non-Null Count   Dtype  \n",
            "---  ------                       --------------   -----  \n",
            " 0   protocol_type                146502 non-null  int32  \n",
            " 1   service                      146502 non-null  int32  \n",
            " 2   flag                         146502 non-null  int32  \n",
            " 3   src_bytes                    146502 non-null  int64  \n",
            " 4   dst_bytes                    146502 non-null  int64  \n",
            " 5   land                         146502 non-null  int64  \n",
            " 6   wrong_fragment               146502 non-null  int64  \n",
            " 7   urgent                       146502 non-null  int64  \n",
            " 8   hot                          146502 non-null  int64  \n",
            " 9   num_failed_logins            146502 non-null  int64  \n",
            " 10  logged_in                    146502 non-null  int64  \n",
            " 11  num_compromised              146502 non-null  int64  \n",
            " 12  root_shell                   146502 non-null  int64  \n",
            " 13  su_attempted                 146502 non-null  int64  \n",
            " 14  num_root                     146502 non-null  int64  \n",
            " 15  num_file_creations           146502 non-null  int64  \n",
            " 16  num_shells                   146502 non-null  int64  \n",
            " 17  num_access_files             146502 non-null  int64  \n",
            " 18  num_outbound_cmds            146502 non-null  int64  \n",
            " 19  is_host_login                146502 non-null  int64  \n",
            " 20  is_guest_login               146502 non-null  int64  \n",
            " 21  count                        146502 non-null  int64  \n",
            " 22  srv_count                    146502 non-null  int64  \n",
            " 23  serror_rate                  146502 non-null  float64\n",
            " 24  srv_serror_rate              146502 non-null  float64\n",
            " 25  rerror_rate                  146502 non-null  float64\n",
            " 26  srv_rerror_rate              146502 non-null  float64\n",
            " 27  same_srv_rate                146502 non-null  float64\n",
            " 28  diff_srv_rate                146502 non-null  float64\n",
            " 29  srv_diff_host_rate           146502 non-null  float64\n",
            " 30  dst_host_count               146502 non-null  int64  \n",
            " 31  dst_host_srv_count           146502 non-null  int64  \n",
            " 32  dst_host_same_srv_rate       146502 non-null  float64\n",
            " 33  dst_host_diff_srv_rate       146502 non-null  float64\n",
            " 34  dst_host_same_src_port_rate  146502 non-null  float64\n",
            " 35  dst_host_srv_diff_host_rate  146502 non-null  float64\n",
            " 36  dst_host_serror_rate         146502 non-null  float64\n",
            " 37  dst_host_srv_serror_rate     146502 non-null  float64\n",
            " 38  dst_host_rerror_rate         146502 non-null  float64\n",
            " 39  dst_host_srv_rerror_rate     146502 non-null  float64\n",
            " 40  attack                       146502 non-null  object \n",
            " 41  level                        146502 non-null  int64  \n",
            "dtypes: float64(15), int32(3), int64(23), object(1)\n",
            "memory usage: 46.4+ MB\n"
          ]
        }
      ],
      "source": [
        "dataset.info()"
      ]
    },
    {
      "cell_type": "code",
      "execution_count": null,
      "metadata": {
        "id": "n7ECmIaTxPYM"
      },
      "outputs": [],
      "source": [
        "y=dataset['attack']\n",
        "x=dataset.drop(columns=['attack'])\n"
      ]
    },
    {
      "cell_type": "code",
      "execution_count": null,
      "metadata": {
        "id": "PvmxO-O2xPYM",
        "outputId": "d9d96678-349d-4648-a581-5f8f5fddee48"
      },
      "outputs": [
        {
          "name": "stdout",
          "output_type": "stream",
          "text": [
            "   protocol_type  service  flag  src_bytes  dst_bytes  land  wrong_fragment  \\\n",
            "0              1       20     9        491          0     0               0   \n",
            "1              2       44     9        146          0     0               0   \n",
            "2              1       49     5          0          0     0               0   \n",
            "3              1       24     9        232       8153     0               0   \n",
            "4              1       24     9        199        420     0               0   \n",
            "\n",
            "   urgent  hot  num_failed_logins  ...  dst_host_srv_count  \\\n",
            "0       0    0                  0  ...                  25   \n",
            "1       0    0                  0  ...                   1   \n",
            "2       0    0                  0  ...                  26   \n",
            "3       0    0                  0  ...                 255   \n",
            "4       0    0                  0  ...                 255   \n",
            "\n",
            "   dst_host_same_srv_rate  dst_host_diff_srv_rate  \\\n",
            "0                    0.17                    0.03   \n",
            "1                    0.00                    0.60   \n",
            "2                    0.10                    0.05   \n",
            "3                    1.00                    0.00   \n",
            "4                    1.00                    0.00   \n",
            "\n",
            "   dst_host_same_src_port_rate  dst_host_srv_diff_host_rate  \\\n",
            "0                         0.17                         0.00   \n",
            "1                         0.88                         0.00   \n",
            "2                         0.00                         0.00   \n",
            "3                         0.03                         0.04   \n",
            "4                         0.00                         0.00   \n",
            "\n",
            "   dst_host_serror_rate  dst_host_srv_serror_rate  dst_host_rerror_rate  \\\n",
            "0                  0.00                      0.00                  0.05   \n",
            "1                  0.00                      0.00                  0.00   \n",
            "2                  1.00                      1.00                  0.00   \n",
            "3                  0.03                      0.01                  0.00   \n",
            "4                  0.00                      0.00                  0.00   \n",
            "\n",
            "   dst_host_srv_rerror_rate  level  \n",
            "0                      0.00     20  \n",
            "1                      0.00     15  \n",
            "2                      0.00     19  \n",
            "3                      0.01     21  \n",
            "4                      0.00     21  \n",
            "\n",
            "[5 rows x 41 columns]\n",
            "<class 'pandas.core.frame.DataFrame'>\n",
            "Index: 146502 entries, 0 to 148516\n",
            "Data columns (total 41 columns):\n",
            " #   Column                       Non-Null Count   Dtype  \n",
            "---  ------                       --------------   -----  \n",
            " 0   protocol_type                146502 non-null  int32  \n",
            " 1   service                      146502 non-null  int32  \n",
            " 2   flag                         146502 non-null  int32  \n",
            " 3   src_bytes                    146502 non-null  int64  \n",
            " 4   dst_bytes                    146502 non-null  int64  \n",
            " 5   land                         146502 non-null  int64  \n",
            " 6   wrong_fragment               146502 non-null  int64  \n",
            " 7   urgent                       146502 non-null  int64  \n",
            " 8   hot                          146502 non-null  int64  \n",
            " 9   num_failed_logins            146502 non-null  int64  \n",
            " 10  logged_in                    146502 non-null  int64  \n",
            " 11  num_compromised              146502 non-null  int64  \n",
            " 12  root_shell                   146502 non-null  int64  \n",
            " 13  su_attempted                 146502 non-null  int64  \n",
            " 14  num_root                     146502 non-null  int64  \n",
            " 15  num_file_creations           146502 non-null  int64  \n",
            " 16  num_shells                   146502 non-null  int64  \n",
            " 17  num_access_files             146502 non-null  int64  \n",
            " 18  num_outbound_cmds            146502 non-null  int64  \n",
            " 19  is_host_login                146502 non-null  int64  \n",
            " 20  is_guest_login               146502 non-null  int64  \n",
            " 21  count                        146502 non-null  int64  \n",
            " 22  srv_count                    146502 non-null  int64  \n",
            " 23  serror_rate                  146502 non-null  float64\n",
            " 24  srv_serror_rate              146502 non-null  float64\n",
            " 25  rerror_rate                  146502 non-null  float64\n",
            " 26  srv_rerror_rate              146502 non-null  float64\n",
            " 27  same_srv_rate                146502 non-null  float64\n",
            " 28  diff_srv_rate                146502 non-null  float64\n",
            " 29  srv_diff_host_rate           146502 non-null  float64\n",
            " 30  dst_host_count               146502 non-null  int64  \n",
            " 31  dst_host_srv_count           146502 non-null  int64  \n",
            " 32  dst_host_same_srv_rate       146502 non-null  float64\n",
            " 33  dst_host_diff_srv_rate       146502 non-null  float64\n",
            " 34  dst_host_same_src_port_rate  146502 non-null  float64\n",
            " 35  dst_host_srv_diff_host_rate  146502 non-null  float64\n",
            " 36  dst_host_serror_rate         146502 non-null  float64\n",
            " 37  dst_host_srv_serror_rate     146502 non-null  float64\n",
            " 38  dst_host_rerror_rate         146502 non-null  float64\n",
            " 39  dst_host_srv_rerror_rate     146502 non-null  float64\n",
            " 40  level                        146502 non-null  int64  \n",
            "dtypes: float64(15), int32(3), int64(23)\n",
            "memory usage: 45.3 MB\n",
            "None\n"
          ]
        }
      ],
      "source": [
        "print(x.head())\n",
        "print(x.info())\n"
      ]
    },
    {
      "cell_type": "code",
      "execution_count": null,
      "metadata": {
        "colab": {
          "base_uri": "https://localhost:8080/",
          "height": 1000
        },
        "id": "Nal7PX4a_Jcs",
        "outputId": "a05bca16-fbe3-438d-b1c9-8ca3b6aedd56"
      },
      "outputs": [
        {
          "name": "stderr",
          "output_type": "stream",
          "text": [
            "C:\\ProgramData\\anaconda3\\Lib\\site-packages\\seaborn\\matrix.py:260: FutureWarning: Format strings passed to MaskedConstant are ignored, but in future may error or produce different behavior\n",
            "  annotation = (\"{:\" + self.fmt + \"}\").format(val)\n"
          ]
        },
        {
          "data": {
            "image/png": "[encoded data removed]",
            "text/plain": [
              "<Figure size 1500x1500 with 2 Axes>"
            ]
          },
          "metadata": {},
          "output_type": "display_data"
        }
      ],
      "source": [
        "plt.figure(figsize=(15,15))\n",
        "sns.heatmap(x.corr(), annot=True)\n",
        "plt.show()"
      ]
    },
    {
      "cell_type": "markdown",
      "metadata": {
        "id": "f6TD48rtWhLB"
      },
      "source": [
        "**Feature selection**"
      ]
    },
    {
      "cell_type": "markdown",
      "metadata": {
        "id": "byFcbp5MWk1E"
      },
      "source": [
        "*1. ANOVA*"
      ]
    },
    {
      "cell_type": "code",
      "execution_count": null,
      "metadata": {
        "id": "ni_oEf3lY5UZ"
      },
      "outputs": [],
      "source": [
        "import warnings\n",
        "warnings.filterwarnings(\"ignore\")"
      ]
    },
    {
      "cell_type": "code",
      "execution_count": null,
      "metadata": {
        "id": "Tghf4nJvJmWm"
      },
      "outputs": [],
      "source": [
        "from sklearn.feature_selection import f_classif"
      ]
    },
    {
      "cell_type": "code",
      "execution_count": null,
      "metadata": {
        "id": "H64AZZb1JmUL"
      },
      "outputs": [],
      "source": [
        "f_values, p_values = f_classif(x, y)"
      ]
    },
    {
      "cell_type": "code",
      "execution_count": null,
      "metadata": {
        "colab": {
          "base_uri": "https://localhost:8080/"
        },
        "id": "2MH7zNSUAptX",
        "outputId": "e86c0807-87a2-4e65-a6f2-4a1546bb6e5a"
      },
      "outputs": [
        {
          "name": "stdout",
          "output_type": "stream",
          "text": [
            "X_m shape: (146502, 41)\n",
            "f_values shape: 41\n",
            "p_values shape: 41\n"
          ]
        }
      ],
      "source": [
        "print(\"X_m shape:\", x.shape)\n",
        "print(\"f_values shape:\", len(f_values))\n",
        "print(\"p_values shape:\", len(p_values))\n"
      ]
    },
    {
      "cell_type": "code",
      "execution_count": null,
      "metadata": {
        "id": "6fhXPNcyxPYO"
      },
      "outputs": [],
      "source": [
        "le = LabelEncoder()\n",
        "y = le.fit_transform(y)\n",
        "\n",
        "\n"
      ]
    },
    {
      "cell_type": "code",
      "execution_count": null,
      "metadata": {
        "id": "pgX4YLGXW3U6"
      },
      "outputs": [],
      "source": [
        "feature_scores = pd.DataFrame({'Feature': x.columns, 'F-value': f_values, 'p-value': p_values})"
      ]
    },
    {
      "cell_type": "code",
      "execution_count": null,
      "metadata": {
        "colab": {
          "base_uri": "https://localhost:8080/",
          "height": 1000
        },
        "id": "2q432rzsW3Rm",
        "outputId": "c729706e-7c5b-4aa9-d4bb-ed2f74bdafd0"
      },
      "outputs": [
        {
          "data": {
            "text/html": [
              "<div>\n",
              "<style scoped>\n",
              "    .dataframe tbody tr th:only-of-type {\n",
              "        vertical-align: middle;\n",
              "    }\n",
              "\n",
              "    .dataframe tbody tr th {\n",
              "        vertical-align: top;\n",
              "    }\n",
              "\n",
              "    .dataframe thead th {\n",
              "        text-align: right;\n",
              "    }\n",
              "</style>\n",
              "<table border=\"1\" class=\"dataframe\">\n",
              "  <thead>\n",
              "    <tr style=\"text-align: right;\">\n",
              "      <th></th>\n",
              "      <th>Feature</th>\n",
              "      <th>F-value</th>\n",
              "      <th>p-value</th>\n",
              "    </tr>\n",
              "  </thead>\n",
              "  <tbody>\n",
              "    <tr>\n",
              "      <th>0</th>\n",
              "      <td>protocol_type</td>\n",
              "      <td>3307.225700</td>\n",
              "      <td>0.000000e+00</td>\n",
              "    </tr>\n",
              "    <tr>\n",
              "      <th>1</th>\n",
              "      <td>service</td>\n",
              "      <td>3690.149945</td>\n",
              "      <td>0.000000e+00</td>\n",
              "    </tr>\n",
              "    <tr>\n",
              "      <th>2</th>\n",
              "      <td>flag</td>\n",
              "      <td>30040.693867</td>\n",
              "      <td>0.000000e+00</td>\n",
              "    </tr>\n",
              "    <tr>\n",
              "      <th>3</th>\n",
              "      <td>src_bytes</td>\n",
              "      <td>11.597764</td>\n",
              "      <td>2.048842e-09</td>\n",
              "    </tr>\n",
              "    <tr>\n",
              "      <th>4</th>\n",
              "      <td>dst_bytes</td>\n",
              "      <td>5.417866</td>\n",
              "      <td>2.331235e-04</td>\n",
              "    </tr>\n",
              "    <tr>\n",
              "      <th>5</th>\n",
              "      <td>land</td>\n",
              "      <td>5.105628</td>\n",
              "      <td>4.123025e-04</td>\n",
              "    </tr>\n",
              "    <tr>\n",
              "      <th>6</th>\n",
              "      <td>wrong_fragment</td>\n",
              "      <td>418.569257</td>\n",
              "      <td>0.000000e+00</td>\n",
              "    </tr>\n",
              "    <tr>\n",
              "      <th>7</th>\n",
              "      <td>urgent</td>\n",
              "      <td>1462.867980</td>\n",
              "      <td>0.000000e+00</td>\n",
              "    </tr>\n",
              "    <tr>\n",
              "      <th>8</th>\n",
              "      <td>hot</td>\n",
              "      <td>1359.752935</td>\n",
              "      <td>0.000000e+00</td>\n",
              "    </tr>\n",
              "    <tr>\n",
              "      <th>9</th>\n",
              "      <td>num_failed_logins</td>\n",
              "      <td>3720.270365</td>\n",
              "      <td>0.000000e+00</td>\n",
              "    </tr>\n",
              "    <tr>\n",
              "      <th>10</th>\n",
              "      <td>logged_in</td>\n",
              "      <td>33040.588096</td>\n",
              "      <td>0.000000e+00</td>\n",
              "    </tr>\n",
              "    <tr>\n",
              "      <th>11</th>\n",
              "      <td>num_compromised</td>\n",
              "      <td>4.957516</td>\n",
              "      <td>5.397833e-04</td>\n",
              "    </tr>\n",
              "    <tr>\n",
              "      <th>12</th>\n",
              "      <td>root_shell</td>\n",
              "      <td>4512.586745</td>\n",
              "      <td>0.000000e+00</td>\n",
              "    </tr>\n",
              "    <tr>\n",
              "      <th>13</th>\n",
              "      <td>su_attempted</td>\n",
              "      <td>17.084550</td>\n",
              "      <td>5.128300e-14</td>\n",
              "    </tr>\n",
              "    <tr>\n",
              "      <th>14</th>\n",
              "      <td>num_root</td>\n",
              "      <td>5.875295</td>\n",
              "      <td>1.006141e-04</td>\n",
              "    </tr>\n",
              "    <tr>\n",
              "      <th>15</th>\n",
              "      <td>num_file_creations</td>\n",
              "      <td>119.366521</td>\n",
              "      <td>7.353099e-102</td>\n",
              "    </tr>\n",
              "    <tr>\n",
              "      <th>16</th>\n",
              "      <td>num_shells</td>\n",
              "      <td>2420.455377</td>\n",
              "      <td>0.000000e+00</td>\n",
              "    </tr>\n",
              "    <tr>\n",
              "      <th>17</th>\n",
              "      <td>num_access_files</td>\n",
              "      <td>82.536919</td>\n",
              "      <td>4.067549e-70</td>\n",
              "    </tr>\n",
              "    <tr>\n",
              "      <th>18</th>\n",
              "      <td>num_outbound_cmds</td>\n",
              "      <td>NaN</td>\n",
              "      <td>NaN</td>\n",
              "    </tr>\n",
              "    <tr>\n",
              "      <th>19</th>\n",
              "      <td>is_host_login</td>\n",
              "      <td>452.358192</td>\n",
              "      <td>0.000000e+00</td>\n",
              "    </tr>\n",
              "    <tr>\n",
              "      <th>20</th>\n",
              "      <td>is_guest_login</td>\n",
              "      <td>4700.830781</td>\n",
              "      <td>0.000000e+00</td>\n",
              "    </tr>\n",
              "    <tr>\n",
              "      <th>21</th>\n",
              "      <td>count</td>\n",
              "      <td>20857.512892</td>\n",
              "      <td>0.000000e+00</td>\n",
              "    </tr>\n",
              "    <tr>\n",
              "      <th>22</th>\n",
              "      <td>srv_count</td>\n",
              "      <td>352.698200</td>\n",
              "      <td>9.137509e-303</td>\n",
              "    </tr>\n",
              "    <tr>\n",
              "      <th>23</th>\n",
              "      <td>serror_rate</td>\n",
              "      <td>44155.559174</td>\n",
              "      <td>0.000000e+00</td>\n",
              "    </tr>\n",
              "    <tr>\n",
              "      <th>24</th>\n",
              "      <td>srv_serror_rate</td>\n",
              "      <td>43876.315138</td>\n",
              "      <td>0.000000e+00</td>\n",
              "    </tr>\n",
              "    <tr>\n",
              "      <th>25</th>\n",
              "      <td>rerror_rate</td>\n",
              "      <td>5346.865812</td>\n",
              "      <td>0.000000e+00</td>\n",
              "    </tr>\n",
              "    <tr>\n",
              "      <th>26</th>\n",
              "      <td>srv_rerror_rate</td>\n",
              "      <td>5293.220271</td>\n",
              "      <td>0.000000e+00</td>\n",
              "    </tr>\n",
              "    <tr>\n",
              "      <th>27</th>\n",
              "      <td>same_srv_rate</td>\n",
              "      <td>66277.893404</td>\n",
              "      <td>0.000000e+00</td>\n",
              "    </tr>\n",
              "    <tr>\n",
              "      <th>28</th>\n",
              "      <td>diff_srv_rate</td>\n",
              "      <td>9211.245002</td>\n",
              "      <td>0.000000e+00</td>\n",
              "    </tr>\n",
              "    <tr>\n",
              "      <th>29</th>\n",
              "      <td>srv_diff_host_rate</td>\n",
              "      <td>5487.281984</td>\n",
              "      <td>0.000000e+00</td>\n",
              "    </tr>\n",
              "    <tr>\n",
              "      <th>30</th>\n",
              "      <td>dst_host_count</td>\n",
              "      <td>10669.963369</td>\n",
              "      <td>0.000000e+00</td>\n",
              "    </tr>\n",
              "    <tr>\n",
              "      <th>31</th>\n",
              "      <td>dst_host_srv_count</td>\n",
              "      <td>36062.712967</td>\n",
              "      <td>0.000000e+00</td>\n",
              "    </tr>\n",
              "    <tr>\n",
              "      <th>32</th>\n",
              "      <td>dst_host_same_srv_rate</td>\n",
              "      <td>37007.876495</td>\n",
              "      <td>0.000000e+00</td>\n",
              "    </tr>\n",
              "    <tr>\n",
              "      <th>33</th>\n",
              "      <td>dst_host_diff_srv_rate</td>\n",
              "      <td>14245.808516</td>\n",
              "      <td>0.000000e+00</td>\n",
              "    </tr>\n",
              "    <tr>\n",
              "      <th>34</th>\n",
              "      <td>dst_host_same_src_port_rate</td>\n",
              "      <td>10125.706739</td>\n",
              "      <td>0.000000e+00</td>\n",
              "    </tr>\n",
              "    <tr>\n",
              "      <th>35</th>\n",
              "      <td>dst_host_srv_diff_host_rate</td>\n",
              "      <td>8423.326694</td>\n",
              "      <td>0.000000e+00</td>\n",
              "    </tr>\n",
              "    <tr>\n",
              "      <th>36</th>\n",
              "      <td>dst_host_serror_rate</td>\n",
              "      <td>44382.666864</td>\n",
              "      <td>0.000000e+00</td>\n",
              "    </tr>\n",
              "    <tr>\n",
              "      <th>37</th>\n",
              "      <td>dst_host_srv_serror_rate</td>\n",
              "      <td>45411.246334</td>\n",
              "      <td>0.000000e+00</td>\n",
              "    </tr>\n",
              "    <tr>\n",
              "      <th>38</th>\n",
              "      <td>dst_host_rerror_rate</td>\n",
              "      <td>4635.798103</td>\n",
              "      <td>0.000000e+00</td>\n",
              "    </tr>\n",
              "    <tr>\n",
              "      <th>39</th>\n",
              "      <td>dst_host_srv_rerror_rate</td>\n",
              "      <td>5374.817328</td>\n",
              "      <td>0.000000e+00</td>\n",
              "    </tr>\n",
              "    <tr>\n",
              "      <th>40</th>\n",
              "      <td>level</td>\n",
              "      <td>25215.276034</td>\n",
              "      <td>0.000000e+00</td>\n",
              "    </tr>\n",
              "  </tbody>\n",
              "</table>\n",
              "</div>"
            ],
            "text/plain": [
              "                        Feature       F-value        p-value\n",
              "0                 protocol_type   3307.225700   0.000000e+00\n",
              "1                       service   3690.149945   0.000000e+00\n",
              "2                          flag  30040.693867   0.000000e+00\n",
              "3                     src_bytes     11.597764   2.048842e-09\n",
              "4                     dst_bytes      5.417866   2.331235e-04\n",
              "5                          land      5.105628   4.123025e-04\n",
              "6                wrong_fragment    418.569257   0.000000e+00\n",
              "7                        urgent   1462.867980   0.000000e+00\n",
              "8                           hot   1359.752935   0.000000e+00\n",
              "9             num_failed_logins   3720.270365   0.000000e+00\n",
              "10                    logged_in  33040.588096   0.000000e+00\n",
              "11              num_compromised      4.957516   5.397833e-04\n",
              "12                   root_shell   4512.586745   0.000000e+00\n",
              "13                 su_attempted     17.084550   5.128300e-14\n",
              "14                     num_root      5.875295   1.006141e-04\n",
              "15           num_file_creations    119.366521  7.353099e-102\n",
              "16                   num_shells   2420.455377   0.000000e+00\n",
              "17             num_access_files     82.536919   4.067549e-70\n",
              "18            num_outbound_cmds           NaN            NaN\n",
              "19                is_host_login    452.358192   0.000000e+00\n",
              "20               is_guest_login   4700.830781   0.000000e+00\n",
              "21                        count  20857.512892   0.000000e+00\n",
              "22                    srv_count    352.698200  9.137509e-303\n",
              "23                  serror_rate  44155.559174   0.000000e+00\n",
              "24              srv_serror_rate  43876.315138   0.000000e+00\n",
              "25                  rerror_rate   5346.865812   0.000000e+00\n",
              "26              srv_rerror_rate   5293.220271   0.000000e+00\n",
              "27                same_srv_rate  66277.893404   0.000000e+00\n",
              "28                diff_srv_rate   9211.245002   0.000000e+00\n",
              "29           srv_diff_host_rate   5487.281984   0.000000e+00\n",
              "30               dst_host_count  10669.963369   0.000000e+00\n",
              "31           dst_host_srv_count  36062.712967   0.000000e+00\n",
              "32       dst_host_same_srv_rate  37007.876495   0.000000e+00\n",
              "33       dst_host_diff_srv_rate  14245.808516   0.000000e+00\n",
              "34  dst_host_same_src_port_rate  10125.706739   0.000000e+00\n",
              "35  dst_host_srv_diff_host_rate   8423.326694   0.000000e+00\n",
              "36         dst_host_serror_rate  44382.666864   0.000000e+00\n",
              "37     dst_host_srv_serror_rate  45411.246334   0.000000e+00\n",
              "38         dst_host_rerror_rate   4635.798103   0.000000e+00\n",
              "39     dst_host_srv_rerror_rate   5374.817328   0.000000e+00\n",
              "40                        level  25215.276034   0.000000e+00"
            ]
          },
          "execution_count": 61,
          "metadata": {},
          "output_type": "execute_result"
        }
      ],
      "source": [
        "feature_scores"
      ]
    },
    {
      "cell_type": "code",
      "execution_count": null,
      "metadata": {
        "id": "TuA80r3QW3QG"
      },
      "outputs": [],
      "source": [
        "selected_anova_multi = feature_scores[feature_scores['p-value'] < 0.05]['Feature'] # for multiclass"
      ]
    },
    {
      "cell_type": "code",
      "execution_count": null,
      "metadata": {
        "colab": {
          "base_uri": "https://localhost:8080/",
          "height": 1000
        },
        "id": "FoUfHoDWW3N6",
        "outputId": "9d5a2c60-4284-4204-8625-2035981a928a"
      },
      "outputs": [
        {
          "data": {
            "text/plain": [
              "0                   protocol_type\n",
              "1                         service\n",
              "2                            flag\n",
              "3                       src_bytes\n",
              "4                       dst_bytes\n",
              "5                            land\n",
              "6                  wrong_fragment\n",
              "7                          urgent\n",
              "8                             hot\n",
              "9               num_failed_logins\n",
              "10                      logged_in\n",
              "11                num_compromised\n",
              "12                     root_shell\n",
              "13                   su_attempted\n",
              "14                       num_root\n",
              "15             num_file_creations\n",
              "16                     num_shells\n",
              "17               num_access_files\n",
              "19                  is_host_login\n",
              "20                 is_guest_login\n",
              "21                          count\n",
              "22                      srv_count\n",
              "23                    serror_rate\n",
              "24                srv_serror_rate\n",
              "25                    rerror_rate\n",
              "26                srv_rerror_rate\n",
              "27                  same_srv_rate\n",
              "28                  diff_srv_rate\n",
              "29             srv_diff_host_rate\n",
              "30                 dst_host_count\n",
              "31             dst_host_srv_count\n",
              "32         dst_host_same_srv_rate\n",
              "33         dst_host_diff_srv_rate\n",
              "34    dst_host_same_src_port_rate\n",
              "35    dst_host_srv_diff_host_rate\n",
              "36           dst_host_serror_rate\n",
              "37       dst_host_srv_serror_rate\n",
              "38           dst_host_rerror_rate\n",
              "39       dst_host_srv_rerror_rate\n",
              "40                          level\n",
              "Name: Feature, dtype: object"
            ]
          },
          "execution_count": 63,
          "metadata": {},
          "output_type": "execute_result"
        }
      ],
      "source": [
        "selected_anova_multi"
      ]
    },
    {
      "cell_type": "markdown",
      "metadata": {
        "id": "qoeYfTUeZK91"
      },
      "source": [
        "**2. PCA**"
      ]
    },
    {
      "cell_type": "code",
      "execution_count": null,
      "metadata": {
        "id": "nbIwTI7SXkBD"
      },
      "outputs": [],
      "source": [
        "from sklearn.decomposition import PCA"
      ]
    },
    {
      "cell_type": "code",
      "execution_count": null,
      "metadata": {
        "id": "hJPOPrPNXj_M"
      },
      "outputs": [],
      "source": [
        "pca = PCA(n_components=0.95)"
      ]
    },
    {
      "cell_type": "code",
      "execution_count": null,
      "metadata": {
        "id": "1EB7GSsgXj9D"
      },
      "outputs": [],
      "source": [
        "X_pca_mul = pca.fit_transform(x)"
      ]
    },
    {
      "cell_type": "markdown",
      "metadata": {
        "id": "7RxuIHriaAid"
      },
      "source": [
        "**3. Mutual Information**"
      ]
    },
    {
      "cell_type": "code",
      "execution_count": null,
      "metadata": {
        "colab": {
          "base_uri": "https://localhost:8080/"
        },
        "id": "Y8l4YQzoXjwy",
        "outputId": "efeb4f21-2e92-4e8c-8e02-e07302dfadf5"
      },
      "outputs": [
        {
          "name": "stdout",
          "output_type": "stream",
          "text": [
            "                        Feature  Mutual Information\n",
            "0                 protocol_type            0.089104\n",
            "1                       service            0.581884\n",
            "2                          flag            0.458447\n",
            "3                     src_bytes            0.724262\n",
            "4                     dst_bytes            0.500845\n",
            "5                          land            0.001313\n",
            "6                wrong_fragment            0.005534\n",
            "7                        urgent            0.000455\n",
            "8                           hot            0.026307\n",
            "9             num_failed_logins            0.012802\n",
            "10                    logged_in            0.295085\n",
            "11              num_compromised            0.008366\n",
            "12                   root_shell            0.002719\n",
            "13                 su_attempted            0.000000\n",
            "14                     num_root            0.003106\n",
            "15           num_file_creations            0.002081\n",
            "16                   num_shells            0.000366\n",
            "17             num_access_files            0.002034\n",
            "18            num_outbound_cmds            0.002125\n",
            "19                is_host_login            0.002115\n",
            "20               is_guest_login            0.021423\n",
            "21                        count            0.397521\n",
            "22                    srv_count            0.155260\n",
            "23                  serror_rate            0.344666\n",
            "24              srv_serror_rate            0.317279\n",
            "25                  rerror_rate            0.087628\n",
            "26              srv_rerror_rate            0.063627\n",
            "27                same_srv_rate            0.452956\n",
            "28                diff_srv_rate            0.492901\n",
            "29           srv_diff_host_rate            0.151436\n",
            "30               dst_host_count            0.202719\n",
            "31           dst_host_srv_count            0.399355\n",
            "32       dst_host_same_srv_rate            0.389687\n",
            "33       dst_host_diff_srv_rate            0.424547\n",
            "34  dst_host_same_src_port_rate            0.207106\n",
            "35  dst_host_srv_diff_host_rate            0.247180\n",
            "36         dst_host_serror_rate            0.350890\n",
            "37     dst_host_srv_serror_rate            0.325724\n",
            "38         dst_host_rerror_rate            0.116849\n",
            "39     dst_host_srv_rerror_rate            0.084407\n",
            "40                        level            0.270848\n",
            "Top features selected by Mutual Information: 1                         service\n",
            "2                            flag\n",
            "3                       src_bytes\n",
            "4                       dst_bytes\n",
            "10                      logged_in\n",
            "21                          count\n",
            "22                      srv_count\n",
            "23                    serror_rate\n",
            "24                srv_serror_rate\n",
            "27                  same_srv_rate\n",
            "28                  diff_srv_rate\n",
            "29             srv_diff_host_rate\n",
            "30                 dst_host_count\n",
            "31             dst_host_srv_count\n",
            "32         dst_host_same_srv_rate\n",
            "33         dst_host_diff_srv_rate\n",
            "34    dst_host_same_src_port_rate\n",
            "35    dst_host_srv_diff_host_rate\n",
            "36           dst_host_serror_rate\n",
            "37       dst_host_srv_serror_rate\n",
            "38           dst_host_rerror_rate\n",
            "40                          level\n",
            "Name: Feature, dtype: object\n"
          ]
        }
      ],
      "source": [
        "from sklearn.feature_selection import mutual_info_classif\n",
        "\n",
        "\n",
        "# for multi class\n",
        "\n",
        "mi = mutual_info_classif(x, y)\n",
        "\n",
        "\n",
        "feature_scores_mi = pd.DataFrame({'Feature': x.columns, 'Mutual Information': mi})\n",
        "print(feature_scores_mi)\n",
        "\n",
        "\n",
        "\n",
        "\n",
        "top_features_mi = feature_scores_mi[feature_scores_mi['Mutual Information'] > 0.1]['Feature']\n",
        "print(\"Top features selected by Mutual Information:\", top_features_mi)\n"
      ]
    },
    {
      "cell_type": "code",
      "execution_count": null,
      "metadata": {
        "id": "litAsMcoXjpV"
      },
      "outputs": [],
      "source": []
    },
    {
      "cell_type": "markdown",
      "metadata": {
        "id": "TQDWzf1PaXg3"
      },
      "source": [
        "**4. RFE**"
      ]
    },
    {
      "cell_type": "code",
      "execution_count": null,
      "metadata": {
        "id": "pK5ypLXKaa6X"
      },
      "outputs": [],
      "source": [
        "from sklearn.feature_selection import RFE\n",
        "from sklearn.linear_model import LogisticRegression"
      ]
    },
    {
      "cell_type": "code",
      "execution_count": null,
      "metadata": {
        "id": "nhl-7Yjhab2i"
      },
      "outputs": [],
      "source": [
        "model = LogisticRegression(max_iter=1000)"
      ]
    },
    {
      "cell_type": "markdown",
      "metadata": {
        "id": "3OtpqcAI6EoW"
      },
      "source": [
        "**splitting the dataset into training and testing datas**"
      ]
    },
    {
      "cell_type": "markdown",
      "metadata": {
        "id": "hsvnVPVr6OJt"
      },
      "source": [
        "*for multiclass split*"
      ]
    },
    {
      "cell_type": "code",
      "execution_count": null,
      "metadata": {
        "id": "MH5E1AjSlsmv"
      },
      "outputs": [],
      "source": [
        "X_anova = x[selected_anova_multi]"
      ]
    },
    {
      "cell_type": "code",
      "execution_count": null,
      "metadata": {
        "colab": {
          "base_uri": "https://localhost:8080/",
          "height": 443
        },
        "id": "VwO7K_IPlsj2",
        "outputId": "95b8ec6f-c5ee-4614-a434-dba1d5204810"
      },
      "outputs": [
        {
          "data": {
            "text/html": [
              "<div>\n",
              "<style scoped>\n",
              "    .dataframe tbody tr th:only-of-type {\n",
              "        vertical-align: middle;\n",
              "    }\n",
              "\n",
              "    .dataframe tbody tr th {\n",
              "        vertical-align: top;\n",
              "    }\n",
              "\n",
              "    .dataframe thead th {\n",
              "        text-align: right;\n",
              "    }\n",
              "</style>\n",
              "<table border=\"1\" class=\"dataframe\">\n",
              "  <thead>\n",
              "    <tr style=\"text-align: right;\">\n",
              "      <th></th>\n",
              "      <th>protocol_type</th>\n",
              "      <th>service</th>\n",
              "      <th>flag</th>\n",
              "      <th>src_bytes</th>\n",
              "      <th>dst_bytes</th>\n",
              "      <th>land</th>\n",
              "      <th>wrong_fragment</th>\n",
              "      <th>urgent</th>\n",
              "      <th>hot</th>\n",
              "      <th>num_failed_logins</th>\n",
              "      <th>...</th>\n",
              "      <th>dst_host_srv_count</th>\n",
              "      <th>dst_host_same_srv_rate</th>\n",
              "      <th>dst_host_diff_srv_rate</th>\n",
              "      <th>dst_host_same_src_port_rate</th>\n",
              "      <th>dst_host_srv_diff_host_rate</th>\n",
              "      <th>dst_host_serror_rate</th>\n",
              "      <th>dst_host_srv_serror_rate</th>\n",
              "      <th>dst_host_rerror_rate</th>\n",
              "      <th>dst_host_srv_rerror_rate</th>\n",
              "      <th>level</th>\n",
              "    </tr>\n",
              "  </thead>\n",
              "  <tbody>\n",
              "    <tr>\n",
              "      <th>0</th>\n",
              "      <td>1</td>\n",
              "      <td>20</td>\n",
              "      <td>9</td>\n",
              "      <td>491</td>\n",
              "      <td>0</td>\n",
              "      <td>0</td>\n",
              "      <td>0</td>\n",
              "      <td>0</td>\n",
              "      <td>0</td>\n",
              "      <td>0</td>\n",
              "      <td>...</td>\n",
              "      <td>25</td>\n",
              "      <td>0.17</td>\n",
              "      <td>0.03</td>\n",
              "      <td>0.17</td>\n",
              "      <td>0.00</td>\n",
              "      <td>0.00</td>\n",
              "      <td>0.00</td>\n",
              "      <td>0.05</td>\n",
              "      <td>0.00</td>\n",
              "      <td>20</td>\n",
              "    </tr>\n",
              "    <tr>\n",
              "      <th>1</th>\n",
              "      <td>2</td>\n",
              "      <td>44</td>\n",
              "      <td>9</td>\n",
              "      <td>146</td>\n",
              "      <td>0</td>\n",
              "      <td>0</td>\n",
              "      <td>0</td>\n",
              "      <td>0</td>\n",
              "      <td>0</td>\n",
              "      <td>0</td>\n",
              "      <td>...</td>\n",
              "      <td>1</td>\n",
              "      <td>0.00</td>\n",
              "      <td>0.60</td>\n",
              "      <td>0.88</td>\n",
              "      <td>0.00</td>\n",
              "      <td>0.00</td>\n",
              "      <td>0.00</td>\n",
              "      <td>0.00</td>\n",
              "      <td>0.00</td>\n",
              "      <td>15</td>\n",
              "    </tr>\n",
              "    <tr>\n",
              "      <th>2</th>\n",
              "      <td>1</td>\n",
              "      <td>49</td>\n",
              "      <td>5</td>\n",
              "      <td>0</td>\n",
              "      <td>0</td>\n",
              "      <td>0</td>\n",
              "      <td>0</td>\n",
              "      <td>0</td>\n",
              "      <td>0</td>\n",
              "      <td>0</td>\n",
              "      <td>...</td>\n",
              "      <td>26</td>\n",
              "      <td>0.10</td>\n",
              "      <td>0.05</td>\n",
              "      <td>0.00</td>\n",
              "      <td>0.00</td>\n",
              "      <td>1.00</td>\n",
              "      <td>1.00</td>\n",
              "      <td>0.00</td>\n",
              "      <td>0.00</td>\n",
              "      <td>19</td>\n",
              "    </tr>\n",
              "    <tr>\n",
              "      <th>3</th>\n",
              "      <td>1</td>\n",
              "      <td>24</td>\n",
              "      <td>9</td>\n",
              "      <td>232</td>\n",
              "      <td>8153</td>\n",
              "      <td>0</td>\n",
              "      <td>0</td>\n",
              "      <td>0</td>\n",
              "      <td>0</td>\n",
              "      <td>0</td>\n",
              "      <td>...</td>\n",
              "      <td>255</td>\n",
              "      <td>1.00</td>\n",
              "      <td>0.00</td>\n",
              "      <td>0.03</td>\n",
              "      <td>0.04</td>\n",
              "      <td>0.03</td>\n",
              "      <td>0.01</td>\n",
              "      <td>0.00</td>\n",
              "      <td>0.01</td>\n",
              "      <td>21</td>\n",
              "    </tr>\n",
              "    <tr>\n",
              "      <th>4</th>\n",
              "      <td>1</td>\n",
              "      <td>24</td>\n",
              "      <td>9</td>\n",
              "      <td>199</td>\n",
              "      <td>420</td>\n",
              "      <td>0</td>\n",
              "      <td>0</td>\n",
              "      <td>0</td>\n",
              "      <td>0</td>\n",
              "      <td>0</td>\n",
              "      <td>...</td>\n",
              "      <td>255</td>\n",
              "      <td>1.00</td>\n",
              "      <td>0.00</td>\n",
              "      <td>0.00</td>\n",
              "      <td>0.00</td>\n",
              "      <td>0.00</td>\n",
              "      <td>0.00</td>\n",
              "      <td>0.00</td>\n",
              "      <td>0.00</td>\n",
              "      <td>21</td>\n",
              "    </tr>\n",
              "    <tr>\n",
              "      <th>...</th>\n",
              "      <td>...</td>\n",
              "      <td>...</td>\n",
              "      <td>...</td>\n",
              "      <td>...</td>\n",
              "      <td>...</td>\n",
              "      <td>...</td>\n",
              "      <td>...</td>\n",
              "      <td>...</td>\n",
              "      <td>...</td>\n",
              "      <td>...</td>\n",
              "      <td>...</td>\n",
              "      <td>...</td>\n",
              "      <td>...</td>\n",
              "      <td>...</td>\n",
              "      <td>...</td>\n",
              "      <td>...</td>\n",
              "      <td>...</td>\n",
              "      <td>...</td>\n",
              "      <td>...</td>\n",
              "      <td>...</td>\n",
              "      <td>...</td>\n",
              "    </tr>\n",
              "    <tr>\n",
              "      <th>148510</th>\n",
              "      <td>1</td>\n",
              "      <td>54</td>\n",
              "      <td>9</td>\n",
              "      <td>2599</td>\n",
              "      <td>293</td>\n",
              "      <td>0</td>\n",
              "      <td>0</td>\n",
              "      <td>0</td>\n",
              "      <td>0</td>\n",
              "      <td>0</td>\n",
              "      <td>...</td>\n",
              "      <td>186</td>\n",
              "      <td>0.73</td>\n",
              "      <td>0.13</td>\n",
              "      <td>0.00</td>\n",
              "      <td>0.00</td>\n",
              "      <td>0.00</td>\n",
              "      <td>0.00</td>\n",
              "      <td>0.26</td>\n",
              "      <td>0.00</td>\n",
              "      <td>11</td>\n",
              "    </tr>\n",
              "    <tr>\n",
              "      <th>148512</th>\n",
              "      <td>1</td>\n",
              "      <td>54</td>\n",
              "      <td>9</td>\n",
              "      <td>794</td>\n",
              "      <td>333</td>\n",
              "      <td>0</td>\n",
              "      <td>0</td>\n",
              "      <td>0</td>\n",
              "      <td>0</td>\n",
              "      <td>0</td>\n",
              "      <td>...</td>\n",
              "      <td>141</td>\n",
              "      <td>0.72</td>\n",
              "      <td>0.06</td>\n",
              "      <td>0.01</td>\n",
              "      <td>0.01</td>\n",
              "      <td>0.01</td>\n",
              "      <td>0.00</td>\n",
              "      <td>0.00</td>\n",
              "      <td>0.00</td>\n",
              "      <td>21</td>\n",
              "    </tr>\n",
              "    <tr>\n",
              "      <th>148513</th>\n",
              "      <td>1</td>\n",
              "      <td>24</td>\n",
              "      <td>9</td>\n",
              "      <td>317</td>\n",
              "      <td>938</td>\n",
              "      <td>0</td>\n",
              "      <td>0</td>\n",
              "      <td>0</td>\n",
              "      <td>0</td>\n",
              "      <td>0</td>\n",
              "      <td>...</td>\n",
              "      <td>255</td>\n",
              "      <td>1.00</td>\n",
              "      <td>0.00</td>\n",
              "      <td>0.01</td>\n",
              "      <td>0.01</td>\n",
              "      <td>0.01</td>\n",
              "      <td>0.00</td>\n",
              "      <td>0.00</td>\n",
              "      <td>0.00</td>\n",
              "      <td>21</td>\n",
              "    </tr>\n",
              "    <tr>\n",
              "      <th>148514</th>\n",
              "      <td>1</td>\n",
              "      <td>24</td>\n",
              "      <td>9</td>\n",
              "      <td>54540</td>\n",
              "      <td>8314</td>\n",
              "      <td>0</td>\n",
              "      <td>0</td>\n",
              "      <td>0</td>\n",
              "      <td>2</td>\n",
              "      <td>0</td>\n",
              "      <td>...</td>\n",
              "      <td>255</td>\n",
              "      <td>1.00</td>\n",
              "      <td>0.00</td>\n",
              "      <td>0.00</td>\n",
              "      <td>0.00</td>\n",
              "      <td>0.00</td>\n",
              "      <td>0.00</td>\n",
              "      <td>0.07</td>\n",
              "      <td>0.07</td>\n",
              "      <td>15</td>\n",
              "    </tr>\n",
              "    <tr>\n",
              "      <th>148516</th>\n",
              "      <td>1</td>\n",
              "      <td>57</td>\n",
              "      <td>1</td>\n",
              "      <td>0</td>\n",
              "      <td>0</td>\n",
              "      <td>0</td>\n",
              "      <td>0</td>\n",
              "      <td>0</td>\n",
              "      <td>0</td>\n",
              "      <td>0</td>\n",
              "      <td>...</td>\n",
              "      <td>21</td>\n",
              "      <td>0.08</td>\n",
              "      <td>0.03</td>\n",
              "      <td>0.00</td>\n",
              "      <td>0.00</td>\n",
              "      <td>0.00</td>\n",
              "      <td>0.00</td>\n",
              "      <td>0.44</td>\n",
              "      <td>1.00</td>\n",
              "      <td>14</td>\n",
              "    </tr>\n",
              "  </tbody>\n",
              "</table>\n",
              "<p>146502 rows × 40 columns</p>\n",
              "</div>"
            ],
            "text/plain": [
              "        protocol_type  service  flag  src_bytes  dst_bytes  land  \\\n",
              "0                   1       20     9        491          0     0   \n",
              "1                   2       44     9        146          0     0   \n",
              "2                   1       49     5          0          0     0   \n",
              "3                   1       24     9        232       8153     0   \n",
              "4                   1       24     9        199        420     0   \n",
              "...               ...      ...   ...        ...        ...   ...   \n",
              "148510              1       54     9       2599        293     0   \n",
              "148512              1       54     9        794        333     0   \n",
              "148513              1       24     9        317        938     0   \n",
              "148514              1       24     9      54540       8314     0   \n",
              "148516              1       57     1          0          0     0   \n",
              "\n",
              "        wrong_fragment  urgent  hot  num_failed_logins  ...  \\\n",
              "0                    0       0    0                  0  ...   \n",
              "1                    0       0    0                  0  ...   \n",
              "2                    0       0    0                  0  ...   \n",
              "3                    0       0    0                  0  ...   \n",
              "4                    0       0    0                  0  ...   \n",
              "...                ...     ...  ...                ...  ...   \n",
              "148510               0       0    0                  0  ...   \n",
              "148512               0       0    0                  0  ...   \n",
              "148513               0       0    0                  0  ...   \n",
              "148514               0       0    2                  0  ...   \n",
              "148516               0       0    0                  0  ...   \n",
              "\n",
              "        dst_host_srv_count  dst_host_same_srv_rate  dst_host_diff_srv_rate  \\\n",
              "0                       25                    0.17                    0.03   \n",
              "1                        1                    0.00                    0.60   \n",
              "2                       26                    0.10                    0.05   \n",
              "3                      255                    1.00                    0.00   \n",
              "4                      255                    1.00                    0.00   \n",
              "...                    ...                     ...                     ...   \n",
              "148510                 186                    0.73                    0.13   \n",
              "148512                 141                    0.72                    0.06   \n",
              "148513                 255                    1.00                    0.00   \n",
              "148514                 255                    1.00                    0.00   \n",
              "148516                  21                    0.08                    0.03   \n",
              "\n",
              "        dst_host_same_src_port_rate  dst_host_srv_diff_host_rate  \\\n",
              "0                              0.17                         0.00   \n",
              "1                              0.88                         0.00   \n",
              "2                              0.00                         0.00   \n",
              "3                              0.03                         0.04   \n",
              "4                              0.00                         0.00   \n",
              "...                             ...                          ...   \n",
              "148510                         0.00                         0.00   \n",
              "148512                         0.01                         0.01   \n",
              "148513                         0.01                         0.01   \n",
              "148514                         0.00                         0.00   \n",
              "148516                         0.00                         0.00   \n",
              "\n",
              "        dst_host_serror_rate  dst_host_srv_serror_rate  dst_host_rerror_rate  \\\n",
              "0                       0.00                      0.00                  0.05   \n",
              "1                       0.00                      0.00                  0.00   \n",
              "2                       1.00                      1.00                  0.00   \n",
              "3                       0.03                      0.01                  0.00   \n",
              "4                       0.00                      0.00                  0.00   \n",
              "...                      ...                       ...                   ...   \n",
              "148510                  0.00                      0.00                  0.26   \n",
              "148512                  0.01                      0.00                  0.00   \n",
              "148513                  0.01                      0.00                  0.00   \n",
              "148514                  0.00                      0.00                  0.07   \n",
              "148516                  0.00                      0.00                  0.44   \n",
              "\n",
              "        dst_host_srv_rerror_rate  level  \n",
              "0                           0.00     20  \n",
              "1                           0.00     15  \n",
              "2                           0.00     19  \n",
              "3                           0.01     21  \n",
              "4                           0.00     21  \n",
              "...                          ...    ...  \n",
              "148510                      0.00     11  \n",
              "148512                      0.00     21  \n",
              "148513                      0.00     21  \n",
              "148514                      0.07     15  \n",
              "148516                      1.00     14  \n",
              "\n",
              "[146502 rows x 40 columns]"
            ]
          },
          "execution_count": 88,
          "metadata": {},
          "output_type": "execute_result"
        }
      ],
      "source": [
        "X_anova"
      ]
    },
    {
      "cell_type": "code",
      "execution_count": null,
      "metadata": {
        "id": "oIqEDZ1Tlsd4"
      },
      "outputs": [],
      "source": [
        "X_train_m, X_test_m = X_anova.iloc[:train_rows], X_anova.iloc[train_rows:]\n",
        "y = pd.Series(y)\n",
        "y_train, y_test = y.iloc[:train_rows], y.iloc[train_rows:]"
      ]
    },
    {
      "cell_type": "code",
      "execution_count": null,
      "metadata": {
        "id": "FJ9QBwpKxPYS"
      },
      "outputs": [],
      "source": [
        "X_train=scaler.fit_transform(X_train_m)\n",
        "X_test=scaler.fit_transform(X_test_m)"
      ]
    },
    {
      "cell_type": "code",
      "execution_count": null,
      "metadata": {
        "id": "rNN1ZKZaxPYS",
        "outputId": "da339d7c-fe08-4e2d-9d74-cfa1b4fb65a8"
      },
      "outputs": [
        {
          "data": {
            "text/plain": [
              "4    67571\n",
              "0    46351\n",
              "1    10863\n",
              "2     1132\n",
              "3       56\n",
              "Name: count, dtype: int64"
            ]
          },
          "execution_count": 96,
          "metadata": {},
          "output_type": "execute_result"
        }
      ],
      "source": [
        "y_train.value_counts()\n"
      ]
    },
    {
      "cell_type": "code",
      "execution_count": null,
      "metadata": {
        "id": "OMtfq_lwxPYS",
        "outputId": "854fd88e-1a5b-4e61-a572-e6e0f517fd9f"
      },
      "outputs": [
        {
          "name": "stdout",
          "output_type": "stream",
          "text": [
            "^C\n"
          ]
        }
      ],
      "source": [
        "# !pip install --upgrade scikit-learn\n",
        "!pip install --upgrade imbalanced-learn"
      ]
    },
    {
      "cell_type": "code",
      "execution_count": null,
      "metadata": {
        "id": "dzAHbaNMxPYS",
        "outputId": "1d6fe5f4-101f-46e2-81a6-3566c5835795"
      },
      "outputs": [
        {
          "name": "stdout",
          "output_type": "stream",
          "text": [
            "Defaulting to user installation because normal site-packages is not writeable\n",
            "Requirement already satisfied: scikit-learn in c:\\users\\moham\\appdata\\roaming\\python\\python311\\site-packages (1.6.1)\n",
            "Requirement already satisfied: imbalanced-learn in c:\\users\\moham\\appdata\\roaming\\python\\python311\\site-packages (0.10.1)\n",
            "Collecting imbalanced-learn\n",
            "  Using cached imbalanced_learn-0.13.0-py3-none-any.whl.metadata (8.8 kB)\n",
            "Requirement already satisfied: numpy>=1.19.5 in c:\\programdata\\anaconda3\\lib\\site-packages (from scikit-learn) (1.26.4)\n",
            "Requirement already satisfied: scipy>=1.6.0 in c:\\programdata\\anaconda3\\lib\\site-packages (from scikit-learn) (1.11.4)\n",
            "Requirement already satisfied: joblib>=1.2.0 in c:\\programdata\\anaconda3\\lib\\site-packages (from scikit-learn) (1.2.0)\n",
            "Requirement already satisfied: threadpoolctl>=3.1.0 in c:\\users\\moham\\appdata\\roaming\\python\\python311\\site-packages (from scikit-learn) (3.5.0)\n",
            "Requirement already satisfied: sklearn-compat<1,>=0.1 in c:\\users\\moham\\appdata\\roaming\\python\\python311\\site-packages (from imbalanced-learn) (0.1.3)\n",
            "Using cached imbalanced_learn-0.13.0-py3-none-any.whl (238 kB)\n",
            "Installing collected packages: imbalanced-learn\n",
            "  Attempting uninstall: imbalanced-learn\n",
            "    Found existing installation: imbalanced-learn 0.10.1\n",
            "    Uninstalling imbalanced-learn-0.10.1:\n",
            "      Successfully uninstalled imbalanced-learn-0.10.1\n",
            "Successfully installed imbalanced-learn-0.13.0\n"
          ]
        }
      ],
      "source": [
        "!pip install --upgrade scikit-learn imbalanced-learn"
      ]
    },
    {
      "cell_type": "code",
      "execution_count": null,
      "metadata": {
        "id": "K6o5tHRcxPYS"
      },
      "outputs": [],
      "source": []
    },
    {
      "cell_type": "code",
      "execution_count": null,
      "metadata": {
        "id": "Zvmny2Z1xPYS"
      },
      "outputs": [],
      "source": [
        "# !pip uninstall scikit-learn imbalanced-learn\n",
        "# #"
      ]
    },
    {
      "cell_type": "code",
      "execution_count": null,
      "metadata": {
        "id": "WM5BkVL0xPYS"
      },
      "outputs": [],
      "source": [
        "# !pip cache purge"
      ]
    },
    {
      "cell_type": "code",
      "execution_count": null,
      "metadata": {
        "id": "LT9MUbYwxPYT"
      },
      "outputs": [],
      "source": [
        "# !pip install scikit-learn==1.2.2 imbalanced-learn==0.10.1"
      ]
    },
    {
      "cell_type": "code",
      "execution_count": null,
      "metadata": {
        "id": "tDBTQnW8xPYT",
        "outputId": "80767d83-18ea-4b9d-e20c-6d58ee373b04"
      },
      "outputs": [
        {
          "name": "stdout",
          "output_type": "stream",
          "text": [
            "Defaulting to user installation because normal site-packages is not writeable\n",
            "Collecting scikit-learn==1.2.2\n",
            "  Downloading scikit_learn-1.2.2-cp311-cp311-win_amd64.whl.metadata (11 kB)\n",
            "Collecting imbalanced-learn==0.10.1\n",
            "  Downloading imbalanced_learn-0.10.1-py3-none-any.whl.metadata (8.2 kB)\n",
            "Requirement already satisfied: numpy>=1.17.3 in c:\\programdata\\anaconda3\\lib\\site-packages (from scikit-learn==1.2.2) (1.26.4)\n",
            "Requirement already satisfied: scipy>=1.3.2 in c:\\programdata\\anaconda3\\lib\\site-packages (from scikit-learn==1.2.2) (1.11.4)\n",
            "Requirement already satisfied: joblib>=1.1.1 in c:\\programdata\\anaconda3\\lib\\site-packages (from scikit-learn==1.2.2) (1.2.0)\n",
            "Requirement already satisfied: threadpoolctl>=2.0.0 in c:\\users\\moham\\appdata\\roaming\\python\\python311\\site-packages (from scikit-learn==1.2.2) (3.5.0)\n",
            "Downloading scikit_learn-1.2.2-cp311-cp311-win_amd64.whl (8.3 MB)\n",
            "   ---------------------------------------- 0.0/8.3 MB ? eta -:--:--\n",
            "    --------------------------------------- 0.1/8.3 MB 3.3 MB/s eta 0:00:03\n",
            "   -- ------------------------------------- 0.5/8.3 MB 6.3 MB/s eta 0:00:02\n",
            "   ---- ----------------------------------- 1.0/8.3 MB 7.8 MB/s eta 0:00:01\n",
            "   ------- -------------------------------- 1.6/8.3 MB 9.0 MB/s eta 0:00:01\n",
            "   ------------ --------------------------- 2.5/8.3 MB 11.6 MB/s eta 0:00:01\n",
            "   ------------------ --------------------- 3.7/8.3 MB 14.0 MB/s eta 0:00:01\n",
            "   -------------------------- ------------- 5.4/8.3 MB 17.4 MB/s eta 0:00:01\n",
            "   ------------------------------------ --- 7.5/8.3 MB 20.9 MB/s eta 0:00:01\n",
            "   ---------------------------------------- 8.3/8.3 MB 21.2 MB/s eta 0:00:00\n",
            "Downloading imbalanced_learn-0.10.1-py3-none-any.whl (226 kB)\n",
            "   ---------------------------------------- 0.0/226.0 kB ? eta -:--:--\n",
            "   --------------------------------------- 226.0/226.0 kB 14.4 MB/s eta 0:00:00\n",
            "Installing collected packages: scikit-learn, imbalanced-learn\n",
            "  Attempting uninstall: scikit-learn\n",
            "    Found existing installation: scikit-learn 1.6.1\n",
            "    Uninstalling scikit-learn-1.6.1:\n",
            "      Successfully uninstalled scikit-learn-1.6.1\n",
            "  Attempting uninstall: imbalanced-learn\n",
            "    Found existing installation: imbalanced-learn 0.13.0\n",
            "    Uninstalling imbalanced-learn-0.13.0:\n",
            "      Successfully uninstalled imbalanced-learn-0.13.0\n",
            "Successfully installed imbalanced-learn-0.10.1 scikit-learn-1.2.2\n"
          ]
        },
        {
          "name": "stderr",
          "output_type": "stream",
          "text": [
            "ERROR: pip's dependency resolver does not currently take into account all the packages that are installed. This behaviour is the source of the following dependency conflicts.\n",
            "pytorch-tabular 1.1.1 requires scikit-learn>=1.3.0, but you have scikit-learn 1.2.2 which is incompatible.\n"
          ]
        }
      ],
      "source": [
        "!pip install scikit-learn==1.2.2 imbalanced-learn==0.10.1"
      ]
    },
    {
      "cell_type": "code",
      "execution_count": null,
      "metadata": {
        "id": "I9fVskGkxPYT"
      },
      "outputs": [],
      "source": [
        "# import sklearn\n",
        "# import imblearn\n",
        "# from imblearn.over_sampling import SMOTE, ADASYN\n",
        "# from collections import Counter\n",
        "# smote = ADASYN(sampling_strategy='minority', random_state=42)\n",
        "# # X_train, y_train = smote.fit_resample(X_train, y_train)"
      ]
    },
    {
      "cell_type": "code",
      "execution_count": null,
      "metadata": {
        "id": "ksNMHhZwxPYT"
      },
      "outputs": [],
      "source": [
        "# Import required libraries\n",
        "import sklearn\n",
        "import imblearn\n",
        "import imblearn.combine\n",
        "from imblearn.combine import SMOTETomek\n",
        "from collections import Counter\n",
        "\n",
        "# Initialize SMOTE Tomek\n",
        "smote_tomek = SMOTETomek(random_state=42)\n",
        "X_train, y_train = smote_tomek.fit_resample(X_train, y_train)"
      ]
    },
    {
      "cell_type": "code",
      "execution_count": null,
      "metadata": {
        "id": "FrSJNN2YxPYT",
        "outputId": "4b824d48-3583-4752-f1a6-b1d0af95e747"
      },
      "outputs": [
        {
          "data": {
            "text/plain": [
              "2    67571\n",
              "3    67571\n",
              "1    67570\n",
              "0    67568\n",
              "4    67567\n",
              "Name: count, dtype: int64"
            ]
          },
          "execution_count": 107,
          "metadata": {},
          "output_type": "execute_result"
        }
      ],
      "source": [
        "y_train.value_counts()\n"
      ]
    },
    {
      "cell_type": "code",
      "execution_count": null,
      "metadata": {
        "id": "4D8MtheV6pID"
      },
      "outputs": [],
      "source": [
        "from sklearn.metrics import  classification_report"
      ]
    },
    {
      "cell_type": "markdown",
      "metadata": {
        "id": "CD7fjTsw6qaE"
      },
      "source": [
        "**Building models**"
      ]
    },
    {
      "cell_type": "code",
      "execution_count": null,
      "metadata": {
        "id": "nro7On0BneuB"
      },
      "outputs": [],
      "source": [
        "from sklearn.metrics import classification_report, accuracy_score"
      ]
    },
    {
      "cell_type": "code",
      "execution_count": null,
      "metadata": {
        "colab": {
          "base_uri": "https://localhost:8080/"
        },
        "id": "BuuzGXkVPq2x",
        "outputId": "91ee31d3-b8dd-4a28-cf64-a552a4079b39"
      },
      "outputs": [
        {
          "name": "stdout",
          "output_type": "stream",
          "text": [
            "              precision    recall  f1-score   support\n",
            "\n",
            "           0       0.97      0.86      0.91      6589\n",
            "           1       0.73      0.92      0.82      2164\n",
            "           2       0.79      0.73      0.76      2663\n",
            "           3       0.16      0.52      0.24        63\n",
            "           4       0.93      0.95      0.94      9050\n",
            "\n",
            "    accuracy                           0.89     20529\n",
            "   macro avg       0.72      0.80      0.73     20529\n",
            "weighted avg       0.90      0.89      0.89     20529\n",
            "\n"
          ]
        }
      ],
      "source": [
        "#LogisticRegression for multi class\n",
        "from sklearn.linear_model import LogisticRegression\n",
        "\n",
        "\n",
        "lr_model = LogisticRegression(max_iter=1500, random_state=42,multi_class='multinomial',solver='lbfgs')\n",
        "lr_model.fit(X_train, y_train)\n",
        "\n",
        "\n",
        "y_pred_lr = lr_model.predict(X_test)\n",
        "print(classification_report(y_test, y_pred_lr))"
      ]
    },
    {
      "cell_type": "code",
      "execution_count": null,
      "metadata": {
        "colab": {
          "base_uri": "https://localhost:8080/"
        },
        "id": "3tmWRzJNa3a-",
        "outputId": "e20267d6-5b5d-4f71-cbc4-862cf2f762f2"
      },
      "outputs": [
        {
          "name": "stdout",
          "output_type": "stream",
          "text": [
            "              precision    recall  f1-score   support\n",
            "\n",
            "           0       0.97      0.95      0.96      6589\n",
            "           1       0.86      0.95      0.90      2164\n",
            "           2       0.88      0.94      0.91      2663\n",
            "           3       0.44      0.49      0.47        63\n",
            "           4       0.98      0.96      0.97      9050\n",
            "\n",
            "    accuracy                           0.95     20529\n",
            "   macro avg       0.83      0.86      0.84     20529\n",
            "weighted avg       0.95      0.95      0.95     20529\n",
            "\n"
          ]
        }
      ],
      "source": [
        "# 2. Support Vector Machine (SVM) for multi class\n",
        "from sklearn.svm import SVC\n",
        "svm_model = SVC(kernel='poly', random_state=42)\n",
        "svm_model.fit(X_train, y_train)\n",
        "y_pred_svm = svm_model.predict(X_test)\n",
        "\n",
        "print(classification_report(y_test, y_pred_svm))"
      ]
    },
    {
      "cell_type": "code",
      "execution_count": null,
      "metadata": {
        "colab": {
          "base_uri": "https://localhost:8080/"
        },
        "id": "TGxESqn2UJZB",
        "outputId": "c2235902-fabf-47f6-e684-791fed351c59"
      },
      "outputs": [
        {
          "name": "stdout",
          "output_type": "stream",
          "text": [
            "KNN Classification Report for multiclass:\n",
            "              precision    recall  f1-score   support\n",
            "\n",
            "           0       0.98      0.96      0.97      6589\n",
            "           1       0.88      0.96      0.92      2164\n",
            "           2       0.93      0.93      0.93      2663\n",
            "           3       0.47      0.54      0.50        63\n",
            "           4       0.98      0.97      0.97      9050\n",
            "\n",
            "    accuracy                           0.96     20529\n",
            "   macro avg       0.85      0.87      0.86     20529\n",
            "weighted avg       0.96      0.96      0.96     20529\n",
            "\n"
          ]
        }
      ],
      "source": [
        "# 3. KNN  for multiclass\n",
        "from sklearn.neighbors import KNeighborsClassifier\n",
        "model_knn = KNeighborsClassifier(n_neighbors=5)\n",
        "model_knn.fit(X_train, y_train)\n",
        "y_pred_knn = model_knn.predict(X_test)\n",
        "\n",
        "print(\"KNN Classification Report for multiclass:\")\n",
        "print(classification_report(y_test, y_pred_knn))"
      ]
    },
    {
      "cell_type": "code",
      "execution_count": null,
      "metadata": {
        "colab": {
          "base_uri": "https://localhost:8080/"
        },
        "id": "LNzYMPeAUJTV",
        "outputId": "0dc37fd8-7f34-4a21-a208-0aafe9f4a1c7"
      },
      "outputs": [
        {
          "name": "stdout",
          "output_type": "stream",
          "text": [
            "Classification Report for decision tree multiclass:\n",
            "              precision    recall  f1-score   support\n",
            "\n",
            "           0       0.98      0.95      0.96      6589\n",
            "           1       0.89      0.78      0.83      2164\n",
            "           2       0.90      0.68      0.78      2663\n",
            "           3       0.35      0.13      0.19        63\n",
            "           4       0.86      0.98      0.91      9050\n",
            "\n",
            "    accuracy                           0.90     20529\n",
            "   macro avg       0.80      0.70      0.74     20529\n",
            "weighted avg       0.91      0.90      0.90     20529\n",
            "\n"
          ]
        }
      ],
      "source": [
        "#4.  Decision Tree for multiclass\n",
        "from sklearn.tree import DecisionTreeClassifier\n",
        "model_tree_multi = DecisionTreeClassifier(random_state=42,max_depth=15,min_samples_split=5,criterion='entropy')\n",
        "model_tree_multi.fit(X_train, y_train)\n",
        "y_pred_tree_multi = model_tree_multi.predict(X_test)\n",
        "\n",
        "print(\"Classification Report for decision tree multiclass:\")\n",
        "print(classification_report(y_test, y_pred_tree_multi))\n"
      ]
    },
    {
      "cell_type": "code",
      "execution_count": null,
      "metadata": {
        "colab": {
          "base_uri": "https://localhost:8080/"
        },
        "id": "wDup6SqmWqlp",
        "outputId": "8bb29a7b-6b27-487b-acc9-775109e79064"
      },
      "outputs": [
        {
          "name": "stdout",
          "output_type": "stream",
          "text": [
            "Random Forest Classification Report for multiclass:\n",
            "              precision    recall  f1-score   support\n",
            "\n",
            "           0       0.99      0.98      0.98      6589\n",
            "           1       0.90      0.98      0.94      2164\n",
            "           2       0.97      0.91      0.94      2663\n",
            "           3       0.47      0.14      0.22        63\n",
            "           4       0.97      0.97      0.97      9050\n",
            "\n",
            "    accuracy                           0.97     20529\n",
            "   macro avg       0.86      0.80      0.81     20529\n",
            "weighted avg       0.97      0.97      0.97     20529\n",
            "\n"
          ]
        }
      ],
      "source": [
        "# 5.Random Forest for multiclass\n",
        "from sklearn.ensemble import RandomForestClassifier\n",
        "model_rf = RandomForestClassifier(random_state=42,n_estimators=200,max_depth=20,min_samples_leaf=2,max_features='sqrt')\n",
        "model_rf.fit(X_train, y_train)\n",
        "y_pred_rf = model_rf.predict(X_test)\n",
        "\n",
        "print(\"Random Forest Classification Report for multiclass:\")\n",
        "print(classification_report(y_test, y_pred_rf))\n"
      ]
    },
    {
      "cell_type": "markdown",
      "metadata": {
        "id": "PdvCpf3xhGZu"
      },
      "source": [
        "**Ensemble Learning**"
      ]
    },
    {
      "cell_type": "code",
      "execution_count": null,
      "metadata": {
        "id": "AUcPtE9tWqaH"
      },
      "outputs": [],
      "source": [
        "from sklearn.ensemble import VotingClassifier\n",
        "from sklearn.ensemble import VotingRegressor"
      ]
    },
    {
      "cell_type": "markdown",
      "metadata": {
        "id": "PECKqotYk8LF"
      },
      "source": [
        "**1. By Voting  ensemble learning**"
      ]
    },
    {
      "cell_type": "markdown",
      "metadata": {
        "id": "9p2yAQ58izc9"
      },
      "source": [
        "for multi class"
      ]
    },
    {
      "cell_type": "code",
      "execution_count": null,
      "metadata": {
        "id": "QVMVjKlAhPQT"
      },
      "outputs": [],
      "source": [
        "li_multi = [\n",
        "    (\"dt1\", DecisionTreeClassifier(max_depth=5, min_samples_split=10, min_samples_leaf=5)),\n",
        "    (\"sv1\", SVC(probability=True , C=0.1, gamma='auto')),\n",
        "    (\"rf1\", RandomForestClassifier(n_estimators=100, max_depth=7, min_samples_leaf=5)),\n",
        "    (\"knn1\", KNeighborsClassifier(n_neighbors=15)),\n",
        "    (\"lg1\", LogisticRegression(C=1.0))\n",
        "]"
      ]
    },
    {
      "cell_type": "code",
      "execution_count": null,
      "metadata": {
        "id": "ZV_1HDsnhPMr"
      },
      "outputs": [],
      "source": [
        "vc_multi=VotingClassifier(estimators=li_multi,voting=\"soft\",  weights=[1,1,1,1,1] )"
      ]
    },
    {
      "cell_type": "code",
      "execution_count": null,
      "metadata": {
        "colab": {
          "base_uri": "https://localhost:8080/",
          "height": 134
        },
        "id": "OMT2LGrybbB2",
        "outputId": "4c292a17-d28a-43e1-b450-6b0ca1001f81"
      },
      "outputs": [
        {
          "data": {
            "text/html": [
              "<style>#sk-container-id-1 {color: black;background-color: white;}#sk-container-id-1 pre{padding: 0;}#sk-container-id-1 div.sk-toggleable {background-color: white;}#sk-container-id-1 label.sk-toggleable__label {cursor: pointer;display: block;width: 100%;margin-bottom: 0;padding: 0.3em;box-sizing: border-box;text-align: center;}#sk-container-id-1 label.sk-toggleable__label-arrow:before {content: \"▸\";float: left;margin-right: 0.25em;color: #696969;}#sk-container-id-1 label.sk-toggleable__label-arrow:hover:before {color: black;}#sk-container-id-1 div.sk-estimator:hover label.sk-toggleable__label-arrow:before {color: black;}#sk-container-id-1 div.sk-toggleable__content {max-height: 0;max-width: 0;overflow: hidden;text-align: left;background-color: #f0f8ff;}#sk-container-id-1 div.sk-toggleable__content pre {margin: 0.2em;color: black;border-radius: 0.25em;background-color: #f0f8ff;}#sk-container-id-1 input.sk-toggleable__control:checked~div.sk-toggleable__content {max-height: 200px;max-width: 100%;overflow: auto;}#sk-container-id-1 input.sk-toggleable__control:checked~label.sk-toggleable__label-arrow:before {content: \"▾\";}#sk-container-id-1 div.sk-estimator input.sk-toggleable__control:checked~label.sk-toggleable__label {background-color: #d4ebff;}#sk-container-id-1 div.sk-label input.sk-toggleable__control:checked~label.sk-toggleable__label {background-color: #d4ebff;}#sk-container-id-1 input.sk-hidden--visually {border: 0;clip: rect(1px 1px 1px 1px);clip: rect(1px, 1px, 1px, 1px);height: 1px;margin: -1px;overflow: hidden;padding: 0;position: absolute;width: 1px;}#sk-container-id-1 div.sk-estimator {font-family: monospace;background-color: #f0f8ff;border: 1px dotted black;border-radius: 0.25em;box-sizing: border-box;margin-bottom: 0.5em;}#sk-container-id-1 div.sk-estimator:hover {background-color: #d4ebff;}#sk-container-id-1 div.sk-parallel-item::after {content: \"\";width: 100%;border-bottom: 1px solid gray;flex-grow: 1;}#sk-container-id-1 div.sk-label:hover label.sk-toggleable__label {background-color: #d4ebff;}#sk-container-id-1 div.sk-serial::before {content: \"\";position: absolute;border-left: 1px solid gray;box-sizing: border-box;top: 0;bottom: 0;left: 50%;z-index: 0;}#sk-container-id-1 div.sk-serial {display: flex;flex-direction: column;align-items: center;background-color: white;padding-right: 0.2em;padding-left: 0.2em;position: relative;}#sk-container-id-1 div.sk-item {position: relative;z-index: 1;}#sk-container-id-1 div.sk-parallel {display: flex;align-items: stretch;justify-content: center;background-color: white;position: relative;}#sk-container-id-1 div.sk-item::before, #sk-container-id-1 div.sk-parallel-item::before {content: \"\";position: absolute;border-left: 1px solid gray;box-sizing: border-box;top: 0;bottom: 0;left: 50%;z-index: -1;}#sk-container-id-1 div.sk-parallel-item {display: flex;flex-direction: column;z-index: 1;position: relative;background-color: white;}#sk-container-id-1 div.sk-parallel-item:first-child::after {align-self: flex-end;width: 50%;}#sk-container-id-1 div.sk-parallel-item:last-child::after {align-self: flex-start;width: 50%;}#sk-container-id-1 div.sk-parallel-item:only-child::after {width: 0;}#sk-container-id-1 div.sk-dashed-wrapped {border: 1px dashed gray;margin: 0 0.4em 0.5em 0.4em;box-sizing: border-box;padding-bottom: 0.4em;background-color: white;}#sk-container-id-1 div.sk-label label {font-family: monospace;font-weight: bold;display: inline-block;line-height: 1.2em;}#sk-container-id-1 div.sk-label-container {text-align: center;}#sk-container-id-1 div.sk-container {/* jupyter's `normalize.less` sets `[hidden] { display: none; }` but bootstrap.min.css set `[hidden] { display: none !important; }` so we also need the `!important` here to be able to override the default hidden behavior on the sphinx rendered scikit-learn.org. See: https://github.com/scikit-learn/scikit-learn/issues/21755 */display: inline-block !important;position: relative;}#sk-container-id-1 div.sk-text-repr-fallback {display: none;}</style><div id=\"sk-container-id-1\" class=\"sk-top-container\"><div class=\"sk-text-repr-fallback\"><pre>VotingClassifier(estimators=[(&#x27;dt1&#x27;,\n",
              "                              DecisionTreeClassifier(max_depth=5,\n",
              "                                                     min_samples_leaf=5,\n",
              "                                                     min_samples_split=10)),\n",
              "                             (&#x27;sv1&#x27;,\n",
              "                              SVC(C=0.1, gamma=&#x27;auto&#x27;, probability=True)),\n",
              "                             (&#x27;rf1&#x27;,\n",
              "                              RandomForestClassifier(max_depth=7,\n",
              "                                                     min_samples_leaf=5)),\n",
              "                             (&#x27;knn1&#x27;, KNeighborsClassifier(n_neighbors=15)),\n",
              "                             (&#x27;lg1&#x27;, LogisticRegression())],\n",
              "                 voting=&#x27;soft&#x27;, weights=[1, 1, 1, 1, 1])</pre><b>In a Jupyter environment, please rerun this cell to show the HTML representation or trust the notebook. <br />On GitHub, the HTML representation is unable to render, please try loading this page with nbviewer.org.</b></div><div class=\"sk-container\" hidden><div class=\"sk-item sk-dashed-wrapped\"><div class=\"sk-label-container\"><div class=\"sk-label sk-toggleable\"><input class=\"sk-toggleable__control sk-hidden--visually\" id=\"sk-estimator-id-1\" type=\"checkbox\" ><label for=\"sk-estimator-id-1\" class=\"sk-toggleable__label sk-toggleable__label-arrow\">VotingClassifier</label><div class=\"sk-toggleable__content\"><pre>VotingClassifier(estimators=[(&#x27;dt1&#x27;,\n",
              "                              DecisionTreeClassifier(max_depth=5,\n",
              "                                                     min_samples_leaf=5,\n",
              "                                                     min_samples_split=10)),\n",
              "                             (&#x27;sv1&#x27;,\n",
              "                              SVC(C=0.1, gamma=&#x27;auto&#x27;, probability=True)),\n",
              "                             (&#x27;rf1&#x27;,\n",
              "                              RandomForestClassifier(max_depth=7,\n",
              "                                                     min_samples_leaf=5)),\n",
              "                             (&#x27;knn1&#x27;, KNeighborsClassifier(n_neighbors=15)),\n",
              "                             (&#x27;lg1&#x27;, LogisticRegression())],\n",
              "                 voting=&#x27;soft&#x27;, weights=[1, 1, 1, 1, 1])</pre></div></div></div><div class=\"sk-parallel\"><div class=\"sk-parallel-item\"><div class=\"sk-item\"><div class=\"sk-label-container\"><div class=\"sk-label sk-toggleable\"><label>dt1</label></div></div><div class=\"sk-serial\"><div class=\"sk-item\"><div class=\"sk-estimator sk-toggleable\"><input class=\"sk-toggleable__control sk-hidden--visually\" id=\"sk-estimator-id-2\" type=\"checkbox\" ><label for=\"sk-estimator-id-2\" class=\"sk-toggleable__label sk-toggleable__label-arrow\">DecisionTreeClassifier</label><div class=\"sk-toggleable__content\"><pre>DecisionTreeClassifier(max_depth=5, min_samples_leaf=5, min_samples_split=10)</pre></div></div></div></div></div></div><div class=\"sk-parallel-item\"><div class=\"sk-item\"><div class=\"sk-label-container\"><div class=\"sk-label sk-toggleable\"><label>sv1</label></div></div><div class=\"sk-serial\"><div class=\"sk-item\"><div class=\"sk-estimator sk-toggleable\"><input class=\"sk-toggleable__control sk-hidden--visually\" id=\"sk-estimator-id-3\" type=\"checkbox\" ><label for=\"sk-estimator-id-3\" class=\"sk-toggleable__label sk-toggleable__label-arrow\">SVC</label><div class=\"sk-toggleable__content\"><pre>SVC(C=0.1, gamma=&#x27;auto&#x27;, probability=True)</pre></div></div></div></div></div></div><div class=\"sk-parallel-item\"><div class=\"sk-item\"><div class=\"sk-label-container\"><div class=\"sk-label sk-toggleable\"><label>rf1</label></div></div><div class=\"sk-serial\"><div class=\"sk-item\"><div class=\"sk-estimator sk-toggleable\"><input class=\"sk-toggleable__control sk-hidden--visually\" id=\"sk-estimator-id-4\" type=\"checkbox\" ><label for=\"sk-estimator-id-4\" class=\"sk-toggleable__label sk-toggleable__label-arrow\">RandomForestClassifier</label><div class=\"sk-toggleable__content\"><pre>RandomForestClassifier(max_depth=7, min_samples_leaf=5)</pre></div></div></div></div></div></div><div class=\"sk-parallel-item\"><div class=\"sk-item\"><div class=\"sk-label-container\"><div class=\"sk-label sk-toggleable\"><label>knn1</label></div></div><div class=\"sk-serial\"><div class=\"sk-item\"><div class=\"sk-estimator sk-toggleable\"><input class=\"sk-toggleable__control sk-hidden--visually\" id=\"sk-estimator-id-5\" type=\"checkbox\" ><label for=\"sk-estimator-id-5\" class=\"sk-toggleable__label sk-toggleable__label-arrow\">KNeighborsClassifier</label><div class=\"sk-toggleable__content\"><pre>KNeighborsClassifier(n_neighbors=15)</pre></div></div></div></div></div></div><div class=\"sk-parallel-item\"><div class=\"sk-item\"><div class=\"sk-label-container\"><div class=\"sk-label sk-toggleable\"><label>lg1</label></div></div><div class=\"sk-serial\"><div class=\"sk-item\"><div class=\"sk-estimator sk-toggleable\"><input class=\"sk-toggleable__control sk-hidden--visually\" id=\"sk-estimator-id-6\" type=\"checkbox\" ><label for=\"sk-estimator-id-6\" class=\"sk-toggleable__label sk-toggleable__label-arrow\">LogisticRegression</label><div class=\"sk-toggleable__content\"><pre>LogisticRegression()</pre></div></div></div></div></div></div></div></div></div></div>"
            ],
            "text/plain": [
              "VotingClassifier(estimators=[('dt1',\n",
              "                              DecisionTreeClassifier(max_depth=5,\n",
              "                                                     min_samples_leaf=5,\n",
              "                                                     min_samples_split=10)),\n",
              "                             ('sv1',\n",
              "                              SVC(C=0.1, gamma='auto', probability=True)),\n",
              "                             ('rf1',\n",
              "                              RandomForestClassifier(max_depth=7,\n",
              "                                                     min_samples_leaf=5)),\n",
              "                             ('knn1', KNeighborsClassifier(n_neighbors=15)),\n",
              "                             ('lg1', LogisticRegression())],\n",
              "                 voting='soft', weights=[1, 1, 1, 1, 1])"
            ]
          },
          "execution_count": 136,
          "metadata": {},
          "output_type": "execute_result"
        }
      ],
      "source": [
        "vc_multi.fit(X_train,y_train)"
      ]
    },
    {
      "cell_type": "code",
      "execution_count": null,
      "metadata": {
        "colab": {
          "base_uri": "https://localhost:8080/"
        },
        "id": "gG-6nIyPhPH0",
        "outputId": "546d5a74-aa49-40d7-930c-14bb6e2483c1"
      },
      "outputs": [
        {
          "data": {
            "text/plain": [
              "(99.26860383546399, 92.76145939889912)"
            ]
          },
          "execution_count": 137,
          "metadata": {},
          "output_type": "execute_result"
        }
      ],
      "source": [
        "vc_multi.score(X_train,y_train)*100  ,    vc_multi.score(X_test,y_test)*100"
      ]
    },
    {
      "cell_type": "code",
      "execution_count": null,
      "metadata": {
        "id": "mGw4ZQsNa3_Q"
      },
      "outputs": [],
      "source": [
        "from sklearn.model_selection import StratifiedKFold\n",
        "from sklearn.model_selection import cross_val_score\n"
      ]
    },
    {
      "cell_type": "code",
      "execution_count": null,
      "metadata": {
        "id": "Q0EmELdBa09n"
      },
      "outputs": [],
      "source": [
        "cv_scores = cross_val_score(vc_multi, X_train, y_train, cv=5, scoring='accuracy')"
      ]
    },
    {
      "cell_type": "code",
      "execution_count": null,
      "metadata": {
        "colab": {
          "base_uri": "https://localhost:8080/"
        },
        "id": "soIGu2zqbGoy",
        "outputId": "da0fc87e-83d5-472e-fc5e-ccaa213e2160"
      },
      "outputs": [
        {
          "name": "stdout",
          "output_type": "stream",
          "text": [
            "Test Accuracy is : 0.9277120171464757\n"
          ]
        }
      ],
      "source": [
        "vc_multi.fit(X_train, y_train)\n",
        "test_score = vc_multi.score(X_test, y_test)\n",
        "\n",
        "print(\"Test Accuracy is :\", test_score)"
      ]
    },
    {
      "cell_type": "code",
      "execution_count": null,
      "metadata": {
        "colab": {
          "base_uri": "https://localhost:8080/"
        },
        "id": "XwM7wRwPqHkl",
        "outputId": "9a54b960-6c17-451b-c05d-242d1bed1677"
      },
      "outputs": [
        {
          "name": "stdout",
          "output_type": "stream",
          "text": [
            "Cross-validation Accuracy Scores: [0.99143111 0.99214148 0.99194897 0.99109059 0.99209697]\n",
            "Mean CV Accuracy: 0.9917418236984672\n"
          ]
        }
      ],
      "source": [
        "print(\"Cross-validation Accuracy Scores:\", cv_scores)\n",
        "print(\"Mean CV Accuracy:\", cv_scores.mean())"
      ]
    }
  ],
  "metadata": {
    "colab": {
      "provenance": []
    },
    "kernelspec": {
      "display_name": "Python 3 (ipykernel)",
      "language": "python",
      "name": "python3"
    },
    "language_info": {
      "codemirror_mode": {
        "name": "ipython",
        "version": 3
      },
      "file_extension": ".py",
      "mimetype": "text/x-python",
      "name": "python",
      "nbconvert_exporter": "python",
      "pygments_lexer": "ipython3",
      "version": "3.11.7"
    }
  },
  "nbformat": 4,
  "nbformat_minor": 0
}